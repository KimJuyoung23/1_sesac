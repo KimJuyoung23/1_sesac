{
 "cells": [
  {
   "cell_type": "code",
   "execution_count": 91,
   "metadata": {},
   "outputs": [],
   "source": [
    "import matplotlib.pyplot as plt\n",
    "import numpy as np\n",
    "figsize = (7, 3)"
   ]
  },
  {
   "cell_type": "markdown",
   "metadata": {},
   "source": [
    "# numpy 와 python 의 기본 자료구조의 차이"
   ]
  },
  {
   "cell_type": "code",
   "execution_count": 92,
   "metadata": {},
   "outputs": [
    {
     "name": "stdout",
     "output_type": "stream",
     "text": [
      "List of Python : 5, ['__add__', '__class__', '__class_getitem__', '__contains__', '__delattr__']\n",
      "List of Python : 166, ['T', '__abs__', '__add__', '__and__', '__array__']\n"
     ]
    }
   ],
   "source": [
    "# dir() : attribute\n",
    "# __(method)__() : special method. 작성된 코드를 컴퓨터가 실행 시킬때 사용된다.\n",
    "# python의 리스트와 numpy의 리스트의 메서드를 비교해보자. \n",
    "# numpy가 훨씬 많은 메서드를 지원한다.\n",
    "\n",
    "print(f'List of Python : {len(dir([])[:5])}, {dir([])[:5]}')\n",
    "print(f'List of Python : {len(dir(np.array([])))}, {dir(np.array([]))[:5]}')\n",
    "# for attr in dir([]): # python의 리스트\n",
    "#     print(attr)\n",
    "\n",
    "# for attr in dir(np.array([])): # numpy의 리스트\n",
    "#     print(attr)"
   ]
  },
  {
   "cell_type": "code",
   "execution_count": 93,
   "metadata": {},
   "outputs": [
    {
     "name": "stdout",
     "output_type": "stream",
     "text": [
      "[5 7 9]\n"
     ]
    }
   ],
   "source": [
    "u, v = [1, 2, 3], [4, 5, 6]\n",
    "\n",
    "w = [i+j for i, j in zip(u,v)]\n",
    "w = np.array(u) + np.array(v)\n",
    "\n",
    "print(w)"
   ]
  },
  {
   "cell_type": "code",
   "execution_count": 94,
   "metadata": {},
   "outputs": [
    {
     "name": "stdout",
     "output_type": "stream",
     "text": [
      "()\n",
      "(3,)\n",
      "(2, 2)\n",
      "(2, 2, 5)\n"
     ]
    }
   ],
   "source": [
    "scalar_np = np.array(3.14)\n",
    "vec_np = np.array([1, 2, 3])\n",
    "met_np = np.array([[1,2],[3,4]])\n",
    "tensor_np = np.array([[[1,2,3,4,5], [1,2,3,4,5]],[[1,2,3,4,5],[1,2,3,4,5]]])\n",
    "\n",
    "print(scalar_np.shape)\n",
    "print(vec_np.shape)\n",
    "print(met_np.shape)\n",
    "print(tensor_np.shape)"
   ]
  },
  {
   "cell_type": "markdown",
   "metadata": {},
   "source": [
    "# Specific values"
   ]
  },
  {
   "cell_type": "code",
   "execution_count": 95,
   "metadata": {},
   "outputs": [
    {
     "name": "stdout",
     "output_type": "stream",
     "text": [
      "(2, 3)\n",
      "[[3.14 3.14 3.14]\n",
      " [3.14 3.14 3.14]]\n"
     ]
    }
   ],
   "source": [
    "M = np.zeros((2, 3))\n",
    "M = np.ones((2, 3))\n",
    "M = np.full((2, 3), 3.14)\n",
    "\n",
    "print(M.shape)\n",
    "print(M)"
   ]
  },
  {
   "cell_type": "markdown",
   "metadata": {},
   "source": [
    "# Fixed Intervals"
   ]
  },
  {
   "cell_type": "code",
   "execution_count": 96,
   "metadata": {},
   "outputs": [
    {
     "name": "stdout",
     "output_type": "stream",
     "text": [
      "[0 1 2 3 4 5 6 7 8 9]\n",
      "[ 1  3  5  7  9 11 13 15 17 19 21 23 25 27 29 31 33 35 37 39 41 43 45 47\n",
      " 49 51 53 55 57 59 61 63 65 67 69 71 73 75 77 79 81 83 85 87 89 91 93 95\n",
      " 97 99]\n",
      "[  1.5   4.2   6.9   9.6  12.3  15.   17.7  20.4  23.1  25.8  28.5  31.2\n",
      "  33.9  36.6  39.3  42.   44.7  47.4  50.1  52.8  55.5  58.2  60.9  63.6\n",
      "  66.3  69.   71.7  74.4  77.1  79.8  82.5  85.2  87.9  90.6  93.3  96.\n",
      "  98.7 101.4]\n",
      "[0.   0.25 0.5  0.75 1.  ]\n"
     ]
    }
   ],
   "source": [
    "print(np.arange(10))\n",
    "print(np.arange(1 ,101 , 2))\n",
    "print(np.arange(1.5 ,101.5 , 2.7))\n",
    "print(np.linspace(0, 1, 5))\n"
   ]
  },
  {
   "cell_type": "markdown",
   "metadata": {},
   "source": [
    "# Random Distributions\n",
    "np.random.rand(d0, d1, …, dn) --> 정말 랜덤 0 ~ 1 사이\n",
    "np.random.randint(low=low, high=high, size=(1, 2, 3, ...)) --> random int 생성\n",
    "np.random.normal(low=low, high=high, size=(1, 2, 3, ...)) -> 정규분포\n",
    "np.random.uniform(low=low, high=high, size=(1, 2, 3, ...)) -> 균등분포\n"
   ]
  },
  {
   "cell_type": "code",
   "execution_count": 97,
   "metadata": {},
   "outputs": [
    {
     "name": "stdout",
     "output_type": "stream",
     "text": [
      "(300,)\n"
     ]
    },
    {
     "name": "stderr",
     "output_type": "stream",
     "text": [
      "/var/folders/lq/nqfbjmpd3bl434m7j6ktxqn80000gn/T/ipykernel_63103/1466532771.py:1: MatplotlibDeprecationWarning: The seaborn styles shipped by Matplotlib are deprecated since 3.6, as they no longer correspond to the styles shipped by seaborn. However, they will remain available as 'seaborn-v0_8-<style>'. Alternatively, directly use the seaborn API instead.\n",
      "  plt.style.use('seaborn')\n"
     ]
    },
    {
     "data": {
      "image/png": "[encoded data removed]",
      "text/plain": [
       "<Figure size 700x300 with 1 Axes>"
      ]
     },
     "metadata": {},
     "output_type": "display_data"
    }
   ],
   "source": [
    "plt.style.use('seaborn')\n",
    "\n",
    "fig, ax = plt.subplots(figsize=figsize)\n",
    "random_values = np.random.randn(300)\n",
    "ax.hist(random_values, bins=20)\n",
    "print(random_values.shape)"
   ]
  },
  {
   "cell_type": "code",
   "execution_count": 98,
   "metadata": {},
   "outputs": [
    {
     "name": "stdout",
     "output_type": "stream",
     "text": [
      "(3, 3)\n",
      "[[-2.4207238  -2.28536574 -2.08501144]\n",
      " [-1.22858651 -1.18482999 -1.77221794]\n",
      " [-3.19324186 -2.13782552 -1.98857794]]\n"
     ]
    }
   ],
   "source": [
    "normal = np.random.normal(loc=-2, scale=1, size=(3, 3))\n",
    "# normal = np.random.normal(loc=[-2 ,0 , 3],\n",
    "#                           scale=[1, 2, 5],\n",
    "#                           size=(200, 3))\n",
    "\n",
    "print(normal.shape)\n",
    "print(normal)"
   ]
  },
  {
   "cell_type": "code",
   "execution_count": 99,
   "metadata": {},
   "outputs": [
    {
     "name": "stdout",
     "output_type": "stream",
     "text": [
      "(1000,)\n"
     ]
    },
    {
     "data": {
      "image/png": "[encoded data removed]",
      "text/plain": [
       "<Figure size 700x300 with 1 Axes>"
      ]
     },
     "metadata": {},
     "output_type": "display_data"
    }
   ],
   "source": [
    "fig, ax = plt.subplots(figsize=figsize)\n",
    "\n",
    "uniform = np.random.rand(1000)\n",
    "ax.hist(uniform)\n",
    "print(uniform.shape)"
   ]
  },
  {
   "cell_type": "code",
   "execution_count": 100,
   "metadata": {},
   "outputs": [
    {
     "data": {
      "text/plain": [
       "(array([51., 46., 61., 48., 46., 47., 43., 50., 50., 59., 48., 39., 53.,\n",
       "        44., 41., 61., 49., 52., 56., 56.]),\n",
       " array([-9.96653960e+00, -8.96918136e+00, -7.97182312e+00, -6.97446488e+00,\n",
       "        -5.97710664e+00, -4.97974839e+00, -3.98239015e+00, -2.98503191e+00,\n",
       "        -1.98767367e+00, -9.90315428e-01,  7.04281323e-03,  1.00440105e+00,\n",
       "         2.00175930e+00,  2.99911754e+00,  3.99647578e+00,  4.99383402e+00,\n",
       "         5.99119226e+00,  6.98855050e+00,  7.98590875e+00,  8.98326699e+00,\n",
       "         9.98062523e+00]),\n",
       " <BarContainer object of 20 artists>)"
      ]
     },
     "execution_count": 100,
     "metadata": {},
     "output_type": "execute_result"
    },
    {
     "data": {
      "image/png": "[encoded data removed]",
      "text/plain": [
       "<Figure size 700x300 with 1 Axes>"
      ]
     },
     "metadata": {},
     "output_type": "display_data"
    }
   ],
   "source": [
    "fig, ax = plt.subplots(figsize=figsize)\n",
    "\n",
    "uniform = np.random.uniform(-10, 10, (1000,))\n",
    "ax.hist(uniform, bins=20)"
   ]
  },
  {
   "cell_type": "code",
   "execution_count": 101,
   "metadata": {},
   "outputs": [
    {
     "name": "stdout",
     "output_type": "stream",
     "text": [
      "[2 4 3 2 6 0 4 5 1 4 5 1 0 5 0 3 4 1 3 1]\n",
      "(20,)\n"
     ]
    }
   ],
   "source": [
    "randint = np.random.randint(0, 7, (20, ))\n",
    "print(randint)\n",
    "print(randint.shape)"
   ]
  },
  {
   "cell_type": "markdown",
   "metadata": {},
   "source": [
    "# Meta-data of ndarrays\n",
    "ndarray.size --> 원소의 개수. 차원의 곱"
   ]
  },
  {
   "cell_type": "code",
   "execution_count": 103,
   "metadata": {},
   "outputs": [
    {
     "name": "stdout",
     "output_type": "stream",
     "text": [
      "10\n",
      "12\n",
      "60\n",
      "720\n"
     ]
    }
   ],
   "source": [
    "M = np.ones((10, ))\n",
    "N = np.ones((3, 4))\n",
    "O = np.ones((3, 4, 5))\n",
    "P = np.ones((2, 3, 4, 5, 6))\n",
    "\n",
    "print(M.size)\n",
    "print(N.size)\n",
    "print(O.size)\n",
    "print(P.size)"
   ]
  },
  {
   "cell_type": "code",
   "execution_count": 113,
   "metadata": {},
   "outputs": [
    {
     "name": "stdout",
     "output_type": "stream",
     "text": [
      "original ndarray : [ 0  1  2  3  4  5  6  7  8  9 10 11 12 13 14 15 16 17 18 19 20 21 22 23]\n",
      "reshaped ndarray : [[[ 0  1  2  3]\n",
      "  [ 4  5  6  7]\n",
      "  [ 8  9 10 11]]\n",
      "\n",
      " [[12 13 14 15]\n",
      "  [16 17 18 19]\n",
      "  [20 21 22 23]]]\n",
      "reshaped ndarray : (2, 12)\n",
      "reshaped ndarray : (3, 8)\n",
      "reshaped ndarray : (4, 6)\n",
      "reshaped ndarray : (2, 12)\n"
     ]
    }
   ],
   "source": [
    "a = np.arange(24)\n",
    "b = np.reshape(a, (2, 3, 4))\n",
    "# (x, -1) --> -1 은 컴퓨터에게 알아서 채우라는 의미.\n",
    "c = a.reshape((2, -1))\n",
    "d = a.reshape((3, -1))\n",
    "e = a.reshape((4, -1))\n",
    "f = a.reshape((-1, 12))\n",
    "\n",
    "print(f'original ndarray : {a}')\n",
    "print(f'reshaped ndarray : {b}')\n",
    "print(f'reshaped ndarray : {c.shape}')\n",
    "print(f'reshaped ndarray : {d.shape}')\n",
    "print(f'reshaped ndarray : {e.shape}')\n",
    "print(f'reshaped ndarray : {f.shape}')"
   ]
  },
  {
   "cell_type": "code",
   "execution_count": 117,
   "metadata": {},
   "outputs": [
    {
     "name": "stdout",
     "output_type": "stream",
     "text": [
      "(2, 2) \n",
      " [[3 6]\n",
      " [3 6]]\n",
      "(1, 4) (4, 1)\n"
     ]
    }
   ],
   "source": [
    "a = np.random.randint(0, 10, (2, 2))\n",
    "print(a.shape, '\\n', a)\n",
    "\n",
    "row_vector = a.reshape(1, -1)\n",
    "col_vector = a.reshape(-1, 1)\n",
    "\n",
    "print(row_vector.shape, col_vector.shape)"
   ]
  },
  {
   "cell_type": "code",
   "execution_count": 121,
   "metadata": {},
   "outputs": [
    {
     "name": "stdout",
     "output_type": "stream",
     "text": [
      "(9,)\n",
      "[0 1 2 3 4 5 6 7 8]\n",
      "(3, 3)\n",
      "[[0 1 2]\n",
      " [3 4 5]\n",
      " [6 7 8]]\n",
      "(9,)\n",
      "[0 1 2 3 4 5 6 7 8]\n"
     ]
    }
   ],
   "source": [
    "M = np.arange(9)\n",
    "N = M.reshape((3, 3))\n",
    "O = N.flatten()\n",
    "\n",
    "print(M.shape)\n",
    "print(M)\n",
    "print(N.shape)\n",
    "print(N)\n",
    "print(O.shape)\n",
    "print(O)"
   ]
  },
  {
   "cell_type": "code",
   "execution_count": 122,
   "metadata": {},
   "outputs": [
    {
     "name": "stdout",
     "output_type": "stream",
     "text": [
      "(27,)\n",
      "[ 0  1  2  3  4  5  6  7  8  9 10 11 12 13 14 15 16 17 18 19 20 21 22 23\n",
      " 24 25 26]\n",
      "(3, 3, 3)\n",
      "[[[ 0  1  2]\n",
      "  [ 3  4  5]\n",
      "  [ 6  7  8]]\n",
      "\n",
      " [[ 9 10 11]\n",
      "  [12 13 14]\n",
      "  [15 16 17]]\n",
      "\n",
      " [[18 19 20]\n",
      "  [21 22 23]\n",
      "  [24 25 26]]]\n",
      "(27,)\n",
      "[ 0  1  2  3  4  5  6  7  8  9 10 11 12 13 14 15 16 17 18 19 20 21 22 23\n",
      " 24 25 26]\n"
     ]
    }
   ],
   "source": [
    "M = np.arange(27)\n",
    "N = M.reshape((3, 3, 3))\n",
    "O = N.flatten()\n",
    "\n",
    "print(M.shape)\n",
    "print(M)\n",
    "print(N.shape)\n",
    "print(N)\n",
    "print(O.shape)\n",
    "print(O)"
   ]
  },
  {
   "cell_type": "markdown",
   "metadata": {},
   "source": [
    "# Broadcasting Cases"
   ]
  },
  {
   "cell_type": "markdown",
   "metadata": {},
   "source": [
    "## 차원이 같은 경우 ndim == ndim\n",
    "A(n, m, l) 과 연산이 가능한 경우<br>\n",
    "(n, 1, 1)\n",
    "(1, m, 1)\n",
    "(1, 1, l)\n",
    "(1, 1, 1)"
   ]
  },
  {
   "cell_type": "code",
   "execution_count": 130,
   "metadata": {},
   "outputs": [
    {
     "name": "stdout",
     "output_type": "stream",
     "text": [
      "[0 1 2]\n",
      "[[0 1 2]]\n",
      "[[ 0 10 20]]\n",
      "[[0 1 2]\n",
      " [3 4 5]\n",
      " [6 7 8]]\n",
      "[[ 0 11 22]\n",
      " [ 3 14 25]\n",
      " [ 6 17 28]]\n"
     ]
    }
   ],
   "source": [
    "A = np.arange(9).reshape(3, 3)\n",
    "B = 10 * np.arange(3).reshape((-1, 3))\n",
    "C = A + B\n",
    "print(np.arange(3))\n",
    "print(np.arange(3).reshape((-1, 3)))\n",
    "print(10*np.arange(3).reshape((-1, 3)))\n",
    "print(A)\n",
    "print(C)"
   ]
  },
  {
   "cell_type": "code",
   "execution_count": 131,
   "metadata": {},
   "outputs": [
    {
     "name": "stdout",
     "output_type": "stream",
     "text": [
      "A: 2/(3, 1)\n",
      "[[0]\n",
      " [1]\n",
      " [2]]\n",
      "B: 2/(1, 3)\n",
      "[[ 0 10 20]]\n",
      "C: 2/(3, 3)\n",
      "[[ 0 10 20]\n",
      " [ 1 11 21]\n",
      " [ 2 12 22]]\n"
     ]
    }
   ],
   "source": [
    "A = np.arange(3).reshape((3, -1))\n",
    "B = 10*np.arange(3).reshape((-1, 3))\n",
    "C = A + B\n",
    "\n",
    "print(f'A: {A.ndim}/{A.shape}\\n{A}')\n",
    "print(f'B: {B.ndim}/{B.shape}\\n{B}')\n",
    "print(f'C: {C.ndim}/{C.shape}\\n{C}')"
   ]
  },
  {
   "cell_type": "code",
   "execution_count": 137,
   "metadata": {},
   "outputs": [
    {
     "name": "stdout",
     "output_type": "stream",
     "text": [
      "A: 3/(2, 3, 3)\n",
      "[[[ 0  1  2]\n",
      "  [ 3  4  5]\n",
      "  [ 6  7  8]]\n",
      "\n",
      " [[ 9 10 11]\n",
      "  [12 13 14]\n",
      "  [15 16 17]]]\n",
      "B: 2/(3, 3)\n",
      "[[ 0 10 20]\n",
      " [30 40 50]\n",
      " [60 70 80]]\n",
      "C: 3/(2, 3, 3)\n",
      "[[[ 0 11 22]\n",
      "  [33 44 55]\n",
      "  [66 77 88]]\n",
      "\n",
      " [[ 9 20 31]\n",
      "  [42 53 64]\n",
      "  [75 86 97]]]\n"
     ]
    }
   ],
   "source": [
    "A = np.arange(9*2).reshape((2, 3, 3))\n",
    "B = 10*np.arange(9).reshape((3, 3))\n",
    "C = A + B\n",
    "\n",
    "print(f'A: {A.ndim}/{A.shape}\\n{A}')\n",
    "print(f'B: {B.ndim}/{B.shape}\\n{B}')\n",
    "print(f'C: {C.ndim}/{C.shape}\\n{C}')"
   ]
  },
  {
   "cell_type": "markdown",
   "metadata": {},
   "source": [
    "## 차원이 다른 경우 ndim != ndim\n",
    "(2,) + (3,2)<br>\n",
    "(2,) -(broadcasting)-> (3,2)<br>\n",
    "<br>\n",
    "(2,3,4) + (3,4)<br>\n",
    "(3,4) -(broadcasting)-> (2,3,4)<br>\n",
    "(4,) -(broadcasting)-> (2,3,4)"
   ]
  },
  {
   "cell_type": "code",
   "execution_count": 140,
   "metadata": {},
   "outputs": [
    {
     "name": "stdout",
     "output_type": "stream",
     "text": [
      "shapes : (), (5,)\n",
      "a: 3\n",
      "u: [0 1 2 3 4]\n",
      "a*u: [ 0  3  6  9 12]\n"
     ]
    }
   ],
   "source": [
    "a = np.array(3) # scala\n",
    "u = np.arange(5) # vector\n",
    "\n",
    "print(f'shapes : {a.shape}, {u.shape}') # ndim != ndim\n",
    "print(f'a: {a}')\n",
    "print(f'u: {u}')\n",
    "print(f'a*u: {a*u}')"
   ]
  },
  {
   "cell_type": "code",
   "execution_count": 146,
   "metadata": {},
   "outputs": [
    {
     "name": "stdout",
     "output_type": "stream",
     "text": [
      "u: [[[ 0  1  2  3]\n",
      "  [ 4  5  6  7]\n",
      "  [ 8  9 10 11]]\n",
      "\n",
      " [[12 13 14 15]\n",
      "  [16 17 18 19]\n",
      "  [20 21 22 23]]], \n",
      "v: [[ 0  1  2  3]\n",
      " [ 4  5  6  7]\n",
      " [ 8  9 10 11]], \n",
      "c: [[0]\n",
      " [1]\n",
      " [2]]\n",
      "\n",
      "u*v: [[[ 0  2  4  6]\n",
      "  [ 8 10 12 14]\n",
      "  [16 18 20 22]]\n",
      "\n",
      " [[12 14 16 18]\n",
      "  [20 22 24 26]\n",
      "  [28 30 32 34]]]\n",
      "u*c: [[[ 0  1  2  3]\n",
      "  [ 5  6  7  8]\n",
      "  [10 11 12 13]]\n",
      "\n",
      " [[12 13 14 15]\n",
      "  [17 18 19 20]\n",
      "  [22 23 24 25]]]\n"
     ]
    }
   ],
   "source": [
    "u = np.arange(24).reshape(2,3,4) # 3d tensor\n",
    "v = np.arange(12).reshape(3,4) # 2d tensor\n",
    "c = np.arange(3).reshape(3,1) # 2d tensor \n",
    "print(f'u: {u}, \\nv: {v}, \\nc: {c}\\n')\n",
    "print(f'u*v: {u+v}')\n",
    "print(f'u*c: {u+c}')"
   ]
  },
  {
   "cell_type": "markdown",
   "metadata": {},
   "source": [
    "# Indexing and Slicing Vector ndarrays"
   ]
  },
  {
   "cell_type": "code",
   "execution_count": 163,
   "metadata": {},
   "outputs": [
    {
     "name": "stdout",
     "output_type": "stream",
     "text": [
      "ndarray : [ 0  1  2  3  4  5  6  7  8  9 10 11 12 13 14 15 16 17 18 19 20 21 22 23]\n",
      "ndarray : [3 4 5 6]\n",
      "ndarray : [23 22 21 20 19 18 17 16 15 14 13 12 11 10  9  8  7  6  5  4  3  2  1  0]\n",
      "ndarray : [23 21 19 17 15 13 11  9  7  5  3  1]\n"
     ]
    }
   ],
   "source": [
    "a = np.arange(24)\n",
    "print(f'ndarray : {a}')\n",
    "print(f'ndarray : {a[3:7]}')\n",
    "print(f'ndarray : {a[::-1]}')\n",
    "print(f'ndarray : {a[::-2]}')"
   ]
  },
  {
   "cell_type": "markdown",
   "metadata": {},
   "source": [
    "# Indexing and Slicing Matrix ndarrays"
   ]
  },
  {
   "cell_type": "code",
   "execution_count": 170,
   "metadata": {},
   "outputs": [
    {
     "name": "stdout",
     "output_type": "stream",
     "text": [
      "10\n",
      "10\n",
      "[ 2 10 18]\n",
      "[[10 11]\n",
      " [18 19]]\n"
     ]
    }
   ],
   "source": [
    "b = a.reshape(3,-1)\n",
    "print(b[1][2]) # 기존 slicing\n",
    "print(b[1,2]) # numpy 는 이렇게도 가능하다!\n",
    "print(b[:3, 2]) # numpy 는 이렇게도 가능하다!\n",
    "print(b[1:5, 2:4]) # numpy 는 이렇게도 가능하다!"
   ]
  }
 ],
 "metadata": {
  "kernelspec": {
   "display_name": "sesac",
   "language": "python",
   "name": "python3"
  },
  "language_info": {
   "codemirror_mode": {
    "name": "ipython",
    "version": 3
   },
   "file_extension": ".py",
   "mimetype": "text/x-python",
   "name": "python",
   "nbconvert_exporter": "python",
   "pygments_lexer": "ipython3",
   "version": "3.11.5"
  },
  "orig_nbformat": 4
 },
 "nbformat": 4,
 "nbformat_minor": 2
}
