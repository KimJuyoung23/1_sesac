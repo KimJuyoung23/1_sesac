{
  "nbformat": 4,
  "nbformat_minor": 0,
  "metadata": {
    "colab": {
      "provenance": [],
      "authorship_tag": "ABX9TyPEndcCDuJ9vqAyZ2a5gOio",
      "include_colab_link": true
    },
    "kernelspec": {
      "name": "python3",
      "display_name": "Python 3"
    },
    "language_info": {
      "name": "python"
    }
  },
  "cells": [
    {
      "cell_type": "markdown",
      "metadata": {
        "id": "view-in-github",
        "colab_type": "text"
      },
      "source": [
        "<a href=\"https://colab.research.google.com/github/KimJuyoung23/sesac/blob/main/0906.ipynb\" target=\"_parent\"><img src=\"https://colab.research.google.com/assets/colab-badge.svg\" alt=\"Open In Colab\"/></a>"
      ]
    },
    {
      "cell_type": "markdown",
      "source": [
        "# 0906 Python 함수"
      ],
      "metadata": {
        "id": "FSn3EuFLVQnL"
      }
    },
    {
      "cell_type": "code",
      "source": [
        "# 함수의 매개변수(parameter)란 함수를 호출할 때 인수로 전달된 값을 함수 내부에서 사용할 수 있게 해주는 변수입니다.\n",
        "# 함수의 인수(argument)란 함수가 호출될 때 함수로 값을 전달해주는 변수를 가리킵니다.\n"
      ],
      "metadata": {
        "id": "y9oac7OkTixo"
      },
      "execution_count": null,
      "outputs": []
    },
    {
      "cell_type": "code",
      "source": [
        "def say_myself(name, old, man=True):\n",
        "  print(f\"나의 이름은 {name} 입니다.\")\n",
        "  print(f\"나이는 {old}살입니다.\")\n",
        "  if man:\n",
        "    print(\"남자입니다.\")\n",
        "  else:\n",
        "    print(\"여자입니다.\")\n",
        "\n",
        "say_myself(\"홍길동\", 20)\n",
        "say_myself(\"반희수\", 20, man=False)"
      ],
      "metadata": {
        "colab": {
          "base_uri": "https://localhost:8080/"
        },
        "id": "JqBrTFJ_WAtW",
        "outputId": "0b0e3b4c-43e3-47ff-c752-8da3d0de171d"
      },
      "execution_count": 5,
      "outputs": [
        {
          "output_type": "stream",
          "name": "stdout",
          "text": [
            "나의 이름은 홍길동 입니다.\n",
            "나이는 20살입니다.\n",
            "남자입니다.\n",
            "나의 이름은 반희수 입니다.\n",
            "나이는 20살입니다.\n",
            "여자입니다.\n"
          ]
        }
      ]
    }
  ]
}