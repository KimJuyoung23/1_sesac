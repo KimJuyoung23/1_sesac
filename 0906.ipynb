{
  "nbformat": 4,
  "nbformat_minor": 0,
  "metadata": {
    "colab": {
      "provenance": [],
      "authorship_tag": "ABX9TyO0xBmN6NkbVWmIBhu4zqL7",
      "include_colab_link": true
    },
    "kernelspec": {
      "name": "python3",
      "display_name": "Python 3"
    },
    "language_info": {
      "name": "python"
    }
  },
  "cells": [
    {
      "cell_type": "markdown",
      "metadata": {
        "id": "view-in-github",
        "colab_type": "text"
      },
      "source": [
        "<a href=\"https://colab.research.google.com/github/KimJuyoung23/sesac/blob/main/0906.ipynb\" target=\"_parent\"><img src=\"https://colab.research.google.com/assets/colab-badge.svg\" alt=\"Open In Colab\"/></a>"
      ]
    },
    {
      "cell_type": "markdown",
      "source": [
        "# 0906 Python"
      ],
      "metadata": {
        "id": "FSn3EuFLVQnL"
      }
    },
    {
      "cell_type": "markdown",
      "source": [
        "# 함수"
      ],
      "metadata": {
        "id": "8LpnNHjXXxxW"
      }
    },
    {
      "cell_type": "code",
      "source": [
        "# 함수의 매개변수(parameter)란 함수를 호출할 때 인수로 전달된 값을 함수 내부에서 사용할 수 있게 해주는 변수입니다.\n",
        "# 함수의 인수(argument)란 함수가 호출될 때 함수로 값을 전달해주는 변수를 가리킵니다.\n"
      ],
      "metadata": {
        "id": "y9oac7OkTixo"
      },
      "execution_count": null,
      "outputs": []
    },
    {
      "cell_type": "code",
      "source": [
        "def say_myself(name, old, man=True): # man 의 기본값 설정 가능\n",
        "  print(f\"나의 이름은 {name} 입니다.\")\n",
        "  print(f\"나이는 {old}살입니다.\")\n",
        "  if man:\n",
        "    print(\"남자입니다.\")\n",
        "  else:\n",
        "    print(\"여자입니다.\")\n",
        "\n",
        "say_myself(\"홍길동\", 20)\n",
        "say_myself(\"반희수\", 20, man=False)"
      ],
      "metadata": {
        "colab": {
          "base_uri": "https://localhost:8080/"
        },
        "id": "JqBrTFJ_WAtW",
        "outputId": "0b0e3b4c-43e3-47ff-c752-8da3d0de171d"
      },
      "execution_count": 5,
      "outputs": [
        {
          "output_type": "stream",
          "name": "stdout",
          "text": [
            "나의 이름은 홍길동 입니다.\n",
            "나이는 20살입니다.\n",
            "남자입니다.\n",
            "나의 이름은 반희수 입니다.\n",
            "나이는 20살입니다.\n",
            "여자입니다.\n"
          ]
        }
      ]
    },
    {
      "cell_type": "markdown",
      "source": [
        "# 전역변수 vs 지역변수"
      ],
      "metadata": {
        "id": "NJddRZk0X1uX"
      }
    },
    {
      "cell_type": "code",
      "source": [
        "# 전역변수(Global variable) : 어느 위치에서든 호출하면 사용이 가능 (함수 밖에 선언하여 클래스 전체에서 사용이 가능한 변수)\n",
        "# 지역변수(Local variable) : 특정구역({ }) 내에서 생성되어 그 구역에서만 사용 (함수 속에 선언되어 해당 함수 속에서만 사용이 가능한 변수)"
      ],
      "metadata": {
        "id": "XNsdjUAxX4Gc"
      },
      "execution_count": null,
      "outputs": []
    },
    {
      "cell_type": "code",
      "source": [
        "def ban():\n",
        "   jjang = '07'\n",
        "   print('jjang =', jjang)\n",
        "\n",
        "ban()\n"
      ],
      "metadata": {
        "colab": {
          "base_uri": "https://localhost:8080/"
        },
        "id": "TODX18pzYGgc",
        "outputId": "474da5f9-1bfa-465d-f7bd-7f65e6d792bc"
      },
      "execution_count": 6,
      "outputs": [
        {
          "output_type": "stream",
          "name": "stdout",
          "text": [
            "jjang = 07\n"
          ]
        }
      ]
    },
    {
      "cell_type": "code",
      "source": [
        "def d_is_10():\n",
        "    d = 10 # 지역변수\n",
        "    print('d 값은 ', d, '입니다')\n",
        "\n",
        "d_is_10()\n"
      ],
      "metadata": {
        "colab": {
          "base_uri": "https://localhost:8080/"
        },
        "id": "vT3YGhsAcmrU",
        "outputId": "b7727a57-80b6-471b-eb97-0fd9b31065ff"
      },
      "execution_count": 7,
      "outputs": [
        {
          "output_type": "stream",
          "name": "stdout",
          "text": [
            "d 값은  10 입니다\n"
          ]
        }
      ]
    },
    {
      "cell_type": "markdown",
      "source": [
        "# \\*args, **kwargs"
      ],
      "metadata": {
        "id": "WiGz9436c0rd"
      }
    },
    {
      "cell_type": "code",
      "source": [
        "# 2-9. 입력하는 모든 수의 평균을 계산하는 함수 만들기\n",
        "#* 입력 개수에 상관없이 사용하기 위해, 함수 입력 값 자리에, *args를 사용\n",
        "def means(*nums):\n",
        "  # result = 0\n",
        "  # for num in nums:\n",
        "  #   result += num\n",
        "  # return result/len(nums)\n",
        "  return sum(nums)/len(nums) # 반복문(for) 안 쓰고 가능\n",
        "print(means(1,2,3,4,5,6))"
      ],
      "metadata": {
        "colab": {
          "base_uri": "https://localhost:8080/"
        },
        "id": "PQrzzKiUc268",
        "outputId": "0675cbe8-084c-47fc-ed6e-ec81f5e69e19"
      },
      "execution_count": 17,
      "outputs": [
        {
          "output_type": "stream",
          "name": "stdout",
          "text": [
            "3.5\n"
          ]
        }
      ]
    },
    {
      "cell_type": "code",
      "source": [
        "# 2-10. 두 수를 입력 받아 사칙연산(+,-, x, /)을 하는 함수 만들기\n",
        "# Addition, Subtracting, Multiplication, Division\n",
        "# add, sub, multi, div\n",
        "# +,-,*,/\n",
        "def basicOperations(operation, a, b):\n",
        "  if operation == '+':\n",
        "    return a+b\n",
        "  elif operation == '-':\n",
        "    return a-b\n",
        "  elif operation == '*':\n",
        "    return a*b\n",
        "  elif operation == '/':\n",
        "    return a/b\n",
        "  else:\n",
        "    return 'error'\n",
        "\n",
        "basicOperations('+', 5,4)\n",
        "basicOperations('/', 5,4)"
      ],
      "metadata": {
        "colab": {
          "base_uri": "https://localhost:8080/",
          "height": 36
        },
        "id": "-A0dvHrEeO1g",
        "outputId": "3590573b-d2e3-493e-f203-e2b9aad07ee1"
      },
      "execution_count": 23,
      "outputs": [
        {
          "output_type": "execute_result",
          "data": {
            "text/plain": [
              "'error'"
            ],
            "application/vnd.google.colaboratory.intrinsic+json": {
              "type": "string"
            }
          },
          "metadata": {},
          "execution_count": 23
        }
      ]
    },
    {
      "cell_type": "markdown",
      "source": [
        "# 클래스 Class"
      ],
      "metadata": {
        "id": "wLhA_dMPiuhf"
      }
    },
    {
      "cell_type": "code",
      "source": [
        "# 공식문서\n",
        "# https://docs.python.org/ko/3/tutorial/classes.html\n",
        "#\n",
        "# 클래스, 인스턴스, 속성\n",
        "# • 클래스(Class)는 객체를 만들기 위한 설계 도면이라 생각할 수 있으며 속성을 정의할 수 있습니다.\n",
        "# • 인스턴스(Instance)는 클래스의 실체화된 객체를 의미합니다. 클래스로부터 생성된 개별적인 객체가 인스턴스입니다.\n",
        "#   인스턴스는 클래스의 정의에 따라 속성을 가지고 있고, 클래스에서 정의된 메서드를 호출하여 동작할 수 있습니다.\n",
        "# • 속성(Attribute)은 객체가 가지는 특징이나 상태를 나타냅니다. 클래스 내부에서 속성은 변수로 표현되며, 인스턴스마다 각각의 속성 값을 가질 수 있습니다\n",
        "# 코드의 반복을 해소하기 위해 함수를 쓰고, 함수의 반복을 해소하기 위해 클래스를 사용한다."
      ],
      "metadata": {
        "id": "GFr_lLQCjEls"
      },
      "execution_count": null,
      "outputs": []
    },
    {
      "cell_type": "code",
      "source": [
        "class 붕어빵:\n",
        "  def __init__(self, 속재료):\n",
        "    self.속재료 = 속재료\n",
        "\n",
        "피자붕어빵 = 붕어빵('피자')\n",
        "팥붕어빵 = 붕어빵('팥')\n",
        "피자붕어빵.속재료"
      ],
      "metadata": {
        "colab": {
          "base_uri": "https://localhost:8080/",
          "height": 36
        },
        "id": "ZU5F4YIEmNpK",
        "outputId": "f17627c4-e374-4015-be11-8099d35204d7"
      },
      "execution_count": 29,
      "outputs": [
        {
          "output_type": "execute_result",
          "data": {
            "text/plain": [
              "'피자'"
            ],
            "application/vnd.google.colaboratory.intrinsic+json": {
              "type": "string"
            }
          },
          "metadata": {},
          "execution_count": 29
        }
      ]
    },
    {
      "cell_type": "code",
      "source": [
        "class Person:\n",
        "  def __init__(self, name, age, gender):\n",
        "    self.name = name\n",
        "    self.age = age\n",
        "    self.gender = gender\n",
        "  def walk(self):\n",
        "    print(self.name + \" is walking.\")\n",
        "# 'Person' 클래스의 인스턴스 생성\n",
        "alice = Person(\"Alice\", 25, \"Female\")\n",
        "bob = Person(\"Bob\", 30, \"Male\")\n",
        "# 인스턴스의 속성 접근\n",
        "print(alice.name) # 출력: Alice\n",
        "print(bob.age) # 출력: 30\n",
        "# 인스턴스의 메서드 호출\n",
        "alice.walk() # 출력: Alice is walking.\n",
        "bob.walk() # 출력: Bob is walking"
      ],
      "metadata": {
        "colab": {
          "base_uri": "https://localhost:8080/"
        },
        "id": "FkBFrPUf6Rv0",
        "outputId": "efe5df99-87c2-413e-e5cd-a5ceb5527fa3"
      },
      "execution_count": 30,
      "outputs": [
        {
          "output_type": "stream",
          "name": "stdout",
          "text": [
            "Alice\n",
            "30\n",
            "Alice is walking.\n",
            "Bob is walking.\n"
          ]
        }
      ]
    },
    {
      "cell_type": "markdown",
      "source": [
        "# 클래스 만들기"
      ],
      "metadata": {
        "id": "nT_zrbby7Fbb"
      }
    },
    {
      "cell_type": "code",
      "source": [
        "class FourCal:\n",
        "  #def set_data(self, num1, num2): # 메서드(클래스 안의 함수)\n",
        "  def __init__(self, num1, num2): # 인스턴스 생성할 때 초기값을 입력한다.\n",
        "    self.num1 = num1\n",
        "    self.num2 = num2\n",
        "    print(f'{self.num1} 와 {self.num2} 의 사칙연산')\n",
        "  def add(self):\n",
        "    return self.num1 + self.num2\n",
        "  def sub(self):\n",
        "    return self.num1 - self.num2\n",
        "  def multi(self):\n",
        "    return self.num1 * self.num2\n",
        "  def div(self):\n",
        "    return self.num1 / self.num2\n",
        "\n",
        "#a = FourCal()\n",
        "#a.set_data(10,20)\n",
        "a = FourCal(10,20) # __init__ 으로 인해 초기화 된다.\n",
        "#print(a.num1, a.num2)\n",
        "print(a.add())\n",
        "print(a.sub())\n",
        "print(a.multi())\n",
        "print(a.div())"
      ],
      "metadata": {
        "colab": {
          "base_uri": "https://localhost:8080/"
        },
        "id": "GpiOvq_F7EaY",
        "outputId": "b5f271f8-6ea8-4c50-ba2e-cacd0c8a796a"
      },
      "execution_count": 41,
      "outputs": [
        {
          "output_type": "stream",
          "name": "stdout",
          "text": [
            "10 와 20 의 사칙연산\n",
            "30\n",
            "-10\n",
            "200\n",
            "0.5\n"
          ]
        }
      ]
    },
    {
      "cell_type": "markdown",
      "source": [],
      "metadata": {
        "id": "ifXfSVqC7ELb"
      }
    }
  ]
}