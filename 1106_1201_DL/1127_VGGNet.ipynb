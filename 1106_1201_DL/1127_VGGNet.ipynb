{
 "cells": [
  {
   "cell_type": "markdown",
   "metadata": {},
   "source": [
    "# VGG Net"
   ]
  },
  {
   "cell_type": "markdown",
   "metadata": {},
   "source": [
    "레이어 == 복잡도 == 파라미터<br>\n",
    "Conv2d == size 유지<br>\n",
    "Pooling == size 절반"
   ]
  },
  {
   "cell_type": "code",
   "execution_count": 64,
   "metadata": {},
   "outputs": [
    {
     "name": "stdout",
     "output_type": "stream",
     "text": [
      "torch.Size([1, 64, 112, 112])\n",
      "torch.Size([1, 128, 56, 56])\n",
      "torch.Size([1, 256, 28, 28])\n",
      "torch.Size([1, 512, 14, 14])\n",
      "torch.Size([1, 512, 7, 7])\n",
      "torch.Size([1, 25088])\n",
      "torch.Size([1, 1000])\n"
     ]
    }
   ],
   "source": [
    "# VGG-11\n",
    "import torch\n",
    "import torch.nn as nn\n",
    "\n",
    "tensor = torch.randn(size=(1, 3,  224, 224)) # B, C, H, W\n",
    "tensor = nn.Conv2d(in_channels=3, out_channels=64, padding=1, kernel_size=3)(tensor)\n",
    "tensor = nn.Tanh()(tensor)\n",
    "tensor = nn.MaxPool2d(kernel_size=2, padding=0, stride=2)(tensor)\n",
    "print(tensor.shape)\n",
    "\n",
    "tensor = nn.Conv2d(in_channels=64, out_channels=128, padding=1, kernel_size=3)(tensor)\n",
    "tensor = nn.Tanh()(tensor)\n",
    "tensor = nn.MaxPool2d(kernel_size=2, padding=0, stride=2)(tensor)\n",
    "print(tensor.shape)\n",
    "\n",
    "tensor = nn.Conv2d(in_channels=128, out_channels=256, padding=1, kernel_size=3)(tensor)\n",
    "tensor = nn.Conv2d(in_channels=256, out_channels=256, padding=1, kernel_size=3)(tensor)\n",
    "tensor = nn.Tanh()(tensor)\n",
    "tensor = nn.MaxPool2d(kernel_size=2, padding=0, stride=2)(tensor)\n",
    "\n",
    "print(tensor.shape)\n",
    "\n",
    "tensor = nn.Conv2d(in_channels=256, out_channels=512, padding=1, kernel_size=3)(tensor)\n",
    "tensor = nn.Conv2d(in_channels=512, out_channels=512, padding=1, kernel_size=3)(tensor)\n",
    "tensor = nn.Tanh()(tensor)\n",
    "tensor = nn.MaxPool2d(kernel_size=2, padding=0, stride=2)(tensor)\n",
    "\n",
    "print(tensor.shape)\n",
    "\n",
    "tensor = nn.Conv2d(in_channels=512, out_channels=512, padding=1, kernel_size=3)(tensor)\n",
    "tensor = nn.Conv2d(in_channels=512, out_channels=512, padding=1, kernel_size=3)(tensor)\n",
    "tensor = nn.Tanh()(tensor)\n",
    "tensor = nn.MaxPool2d(kernel_size=2, padding=0, stride=2)(tensor)\n",
    "print(tensor.shape)\n",
    "\n",
    "tensor = tensor.view(tensor.shape[0], -1)\n",
    "print(tensor.shape)\n",
    "\n",
    "tensor = nn.Linear(in_features=tensor.shape[1], out_features=4096)(tensor)\n",
    "tensor = nn.Tanh()(tensor)\n",
    "tensor = nn.Linear(in_features=4096, out_features=4096)(tensor)\n",
    "tensor = nn.Tanh()(tensor)\n",
    "tensor = nn.Linear(in_features=4096, out_features=1000)(tensor)\n",
    "print(tensor.shape)"
   ]
  },
  {
   "cell_type": "code",
   "execution_count": 66,
   "metadata": {},
   "outputs": [],
   "source": [
    "class Model(nn.Module):\n",
    "    def __init__(self):\n",
    "        super(Model, self).__init__()\n",
    "\n",
    "        self.feature = nn.Sequential(\n",
    "            nn.Conv2d(in_channels=3, out_channels=64, padding=1, kernel_size=3),\n",
    "            nn.Tanh(),\n",
    "            nn.MaxPool2d(kernel_size=2, padding=0, stride=2),\n",
    "\n",
    "            nn.Conv2d(in_channels=64, out_channels=128, padding=1, kernel_size=3),\n",
    "            nn.Tanh(),\n",
    "            nn.MaxPool2d(kernel_size=2, padding=0, stride=2),\n",
    "            \n",
    "\n",
    "            nn.Conv2d(in_channels=128, out_channels=256, padding=1, kernel_size=3),\n",
    "            nn.Conv2d(in_channels=256, out_channels=256, padding=1, kernel_size=3),\n",
    "            nn.Tanh(),\n",
    "            nn.MaxPool2d(kernel_size=2, padding=0, stride=2),\n",
    "\n",
    "            nn.Conv2d(in_channels=256, out_channels=512, padding=1, kernel_size=3),\n",
    "            nn.Conv2d(in_channels=512, out_channels=512, padding=1, kernel_size=3),\n",
    "            nn.Tanh(),\n",
    "            nn.MaxPool2d(kernel_size=2, padding=0, stride=2),\n",
    "\n",
    "            nn.Conv2d(in_channels=512, out_channels=512, padding=1, kernel_size=3),\n",
    "            nn.Conv2d(in_channels=512, out_channels=512, padding=1, kernel_size=3),\n",
    "            nn.Tanh(),\n",
    "            nn.MaxPool2d(kernel_size=2, padding=0, stride=2)\n",
    "        )\n",
    "\n",
    "        self.classifier = nn.Sequential(\n",
    "            nn.Linear(in_features=25088, out_features=4096),\n",
    "            nn.Tanh(),\n",
    "            nn.Linear(in_features=4096, out_features=4096),\n",
    "            nn.Tanh(),\n",
    "            nn.Linear(in_features=4096, out_features=1000)\n",
    "        )\n",
    "\n",
    "    def forward(self, x):\n",
    "        x = self.feature(x)\n",
    "        x = x.view(x.shape[0], -1)\n",
    "        x = self.classifier(x)\n",
    "        return x"
   ]
  },
  {
   "cell_type": "code",
   "execution_count": 80,
   "metadata": {},
   "outputs": [
    {
     "name": "stdout",
     "output_type": "stream",
     "text": [
      "torch.Size([1, 1000])\n",
      "X: index=602 x_pred=0.03015747107565403\n"
     ]
    }
   ],
   "source": [
    "tensor = torch.randn(size=(1, 3,  224, 224)) # B, C, H, W\n",
    "\n",
    "m = Model()\n",
    "x = m.forward(tensor)\n",
    "print(x.shape)\n",
    "print(f'X: index={x.argmax().item()} x_pred={x.flatten()[x.argmax()].item()}')"
   ]
  }
 ],
 "metadata": {
  "kernelspec": {
   "display_name": "sesac",
   "language": "python",
   "name": "python3"
  },
  "language_info": {
   "codemirror_mode": {
    "name": "ipython",
    "version": 3
   },
   "file_extension": ".py",
   "mimetype": "text/x-python",
   "name": "python",
   "nbconvert_exporter": "python",
   "pygments_lexer": "ipython3",
   "version": "3.11.5"
  }
 },
 "nbformat": 4,
 "nbformat_minor": 2
}
