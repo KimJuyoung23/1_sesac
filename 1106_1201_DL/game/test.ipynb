{
 "cells": [
  {
   "cell_type": "code",
   "execution_count": 8,
   "metadata": {},
   "outputs": [
    {
     "name": "stdout",
     "output_type": "stream",
     "text": [
      "{'lv': 1, 'exp': 0, 'HP': 100, 'max_HP': 100, 'damage': 100, 'money': 500, 'potion': 5}\n",
      "['lv', 'exp', 'HP', 'max_HP', 'damage', 'money', 'potion']\n",
      "[1, 0, 100, 100, 100, 500, 5]\n"
     ]
    }
   ],
   "source": [
    "from character import *\n",
    "\n",
    "a = Character()\n",
    "print(a.__dict__)\n",
    "print([*a.__dict__.keys()])\n",
    "print([*a.__dict__.values()])\n",
    "\n",
    "\n",
    "# a.save_states()\n",
    "# a.load_states()"
   ]
  },
  {
   "cell_type": "code",
   "execution_count": 7,
   "metadata": {},
   "outputs": [
    {
     "name": "stdout",
     "output_type": "stream",
     "text": [
      "/Users/kimjuyoung/Library/CloudStorage/GoogleDrive-nashirah23@gmail.com/내 드라이브/Colab Notebooks/sba/1106_1201_DL/game\n",
      "/Users/kimjuyoung/Library/CloudStorage/GoogleDrive-nashirah23@gmail.com/내 드라이브/Colab Notebooks/sba/1106_1201_DL/game/test_file.csv\n",
      "1\n"
     ]
    }
   ],
   "source": [
    "import os\n",
    "import csv\n",
    "print(os.getcwd())\n",
    "print(os.path.join(os.getcwd(), 'test_file.csv'))\n",
    "with open('test_file.csv', 'w', newline='', encoding='utf-8') as f:\n",
    "    writer = csv.writer(f)\n",
    "    # writer.writerow([self.lv, self.exp, self.HP, self.max_HP, self.damage, self.money, self.potion])\n",
    "    writer.writerow('1')\n",
    "\n",
    "\n",
    "if os.path.exists('test_file.csv'):\n",
    "    print('1')\n",
    "\n"
   ]
  },
  {
   "cell_type": "code",
   "execution_count": null,
   "metadata": {},
   "outputs": [],
   "source": []
  }
 ],
 "metadata": {
  "kernelspec": {
   "display_name": "sesac",
   "language": "python",
   "name": "python3"
  },
  "language_info": {
   "codemirror_mode": {
    "name": "ipython",
    "version": 3
   },
   "file_extension": ".py",
   "mimetype": "text/x-python",
   "name": "python",
   "nbconvert_exporter": "python",
   "pygments_lexer": "ipython3",
   "version": "3.11.5"
  }
 },
 "nbformat": 4,
 "nbformat_minor": 2
}
