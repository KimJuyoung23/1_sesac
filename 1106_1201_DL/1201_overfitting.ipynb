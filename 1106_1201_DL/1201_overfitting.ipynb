{
 "cells": [
  {
   "cell_type": "code",
   "execution_count": 9,
   "metadata": {},
   "outputs": [
    {
     "data": {
      "image/png": "[encoded data removed]",
      "text/plain": [
       "<Figure size 600x400 with 1 Axes>"
      ]
     },
     "metadata": {},
     "output_type": "display_data"
    }
   ],
   "source": [
    "import numpy as np\n",
    "import matplotlib.pyplot as plt\n",
    "N_SAMPLES = 50\n",
    "\n",
    "x = np.random.uniform(-np.pi, np.pi, N_SAMPLES)\n",
    "y = np.sin(x) + 0.2*np.random.randn(N_SAMPLES)\n",
    "\n",
    "fig, ax = plt.subplots(figsize=(6, 4))\n",
    "ax.scatter(x, y)\n",
    "ax.set_xlabel('X')\n",
    "ax.set_ylabel('Y')\n",
    "for spine_loc, spine in ax.spines.items():\n",
    "    if spine_loc in ['top', 'right']:\n",
    "        spine.set_visible(False)\n",
    "\n",
    "fig.tight_layout()\n",
    "plt.show()\n",
    "\n"
   ]
  },
  {
   "cell_type": "code",
   "execution_count": 10,
   "metadata": {},
   "outputs": [],
   "source": [
    "import numpy as np\n",
    "import matplotlib.pyplot as plt\n",
    "import torch\n",
    "import torch.nn as nn\n",
    "\n",
    "np.random.seed(0)\n",
    "def get_sin_ds(n_samples):\n",
    "    x = np.random.uniform(-np.pi, np.pi, n_samples)\n",
    "    y = np.sin(x) + 0.2*np.random.randn(n_samples)\n",
    "    return x, y\n",
    "\n",
    "def get_device():\n",
    "  if torch.cuda.is_available():DEVICE = 'cuda'\n",
    "  elif torch.backends.mps.is_available(): DEVICE = 'mps'\n",
    "  else: DEVICE = 'cpu'\n",
    "  return DEVICE"
   ]
  },
  {
   "cell_type": "code",
   "execution_count": 14,
   "metadata": {},
   "outputs": [],
   "source": [
    "import torch.nn as nn\n",
    "\n",
    "class SinRegression:\n",
    "    def __init__(self):\n",
    "        super(SinRegression, self).__init__()\n",
    "        self.layer = nn.Sequential(\n",
    "            nn.Linear(in_features=1, out_features=16),\n",
    "            nn.ReLU(),\n",
    "            nn.Linear(in_features=16, out_features=64),\n",
    "            nn.ReLU(),\n",
    "            nn.Linear(in_features=64, out_features=128),\n",
    "            nn.ReLU(),\n",
    "            nn.Linear(in_features=128, out_features=64),\n",
    "            nn.ReLU(),\n",
    "            nn.Linear(in_features=64, out_features=16),\n",
    "            nn.ReLU(),\n",
    "            nn.Linear(in_features=16, out_features=1)\n",
    "        )\n",
    "    def forward(self, x):\n",
    "        x = self.layer(x)\n",
    "        return x\n",
    "\n",
    "\n",
    "model = SinRegression()"
   ]
  }
 ],
 "metadata": {
  "kernelspec": {
   "display_name": "sesac",
   "language": "python",
   "name": "python3"
  },
  "language_info": {
   "codemirror_mode": {
    "name": "ipython",
    "version": 3
   },
   "file_extension": ".py",
   "mimetype": "text/x-python",
   "name": "python",
   "nbconvert_exporter": "python",
   "pygments_lexer": "ipython3",
   "version": "3.11.5"
  }
 },
 "nbformat": 4,
 "nbformat_minor": 2
}
