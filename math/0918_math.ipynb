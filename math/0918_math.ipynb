{
 "cells": [
  {
   "cell_type": "markdown",
   "metadata": {},
   "source": [
    "# Exercise.1 - 9: 추가점수를 받은 학생들의 평균 복합 대입 연산자를 이용해 학생들의 점수를 수정하고, 평균을 다시 구해봅니다.\n",
    "이를 통해 모든 data가 같은 값으로 변했을 때 평균이 어떻게 바뀌는지 확인해봅니다.<br>\n",
    "![Alt text](1-09.png)"
   ]
  },
  {
   "cell_type": "code",
   "execution_count": 1,
   "metadata": {},
   "outputs": [
    {
     "name": "stdout",
     "output_type": "stream",
     "text": [
      "20.0\n"
     ]
    }
   ],
   "source": [
    "score1 = 10\n",
    "score2 = 20\n",
    "score3 = 30\n",
    "n_student = 3\n",
    "mean = (score1 + score2 + score3)/n_student\n",
    "print(mean)"
   ]
  },
  {
   "cell_type": "code",
   "execution_count": 2,
   "metadata": {},
   "outputs": [
    {
     "name": "stdout",
     "output_type": "stream",
     "text": [
      "20 30 40\n"
     ]
    }
   ],
   "source": [
    "score1 += 10\n",
    "score2 += 10\n",
    "score3 += 10\n",
    "print(score1, score2, score3)"
   ]
  },
  {
   "cell_type": "code",
   "execution_count": 3,
   "metadata": {},
   "outputs": [
    {
     "name": "stdout",
     "output_type": "stream",
     "text": [
      "30.0\n"
     ]
    }
   ],
   "source": [
    "mean = (score1 + score2 + score3)/n_student\n",
    "print(mean)"
   ]
  },
  {
   "cell_type": "markdown",
   "metadata": {},
   "source": [
    "# Exercise.1 - 10: Mean Subtraction\n",
    "수학식(mean subtraction)을 코드로 만드는 연습을 해봅니다.<br>\n",
    "![Alt text](1-10.png)<br>\n",
    "평균 차감(Mean Subtraction) 가장 흔하게 사용되는 데이터 전처리 기법이다. 데이터의 모든 피쳐(feature)에 각각에 대해서 평균값 만큼 차감하는 방법으로 기하학 관점에서 보자면 데이터 군집을 모든 차원에 대해서 원점으로 이동시키는 것으로 해석할 수 있다. numpy에서는 다음과 같이 구현 가능하다: X -= np.mean(X, axis = 0). 특히 이미지 처리에 있어서 계산의 간결성을 위해서 모든 픽셀에서 동일한 값을 차감하는 방식으로 구현한다.(예를들어 numpy에서 X -= np.mean(X))<br>\n",
    "![Alt text](1-10_1.png)"
   ]
  },
  {
   "cell_type": "code",
   "execution_count": 4,
   "metadata": {},
   "outputs": [
    {
     "name": "stdout",
     "output_type": "stream",
     "text": [
      "20.0\n"
     ]
    }
   ],
   "source": [
    "score1 = 10\n",
    "score2 = 20\n",
    "score3 = 30\n",
    "n_student = 3\n",
    "score_mean = (score1 + score2 + score3) / n_student\n",
    "print(score_mean)"
   ]
  },
  {
   "cell_type": "code",
   "execution_count": 5,
   "metadata": {},
   "outputs": [
    {
     "name": "stdout",
     "output_type": "stream",
     "text": [
      "0.0\n"
     ]
    }
   ],
   "source": [
    "score1 -= score_mean\n",
    "score2 -= score_mean\n",
    "score3 -= score_mean\n",
    "score_mean = (score1 + score2 + score3) / n_student\n",
    "print(score_mean)"
   ]
  },
  {
   "cell_type": "markdown",
   "metadata": {},
   "source": [
    "# Exercise.1 - 11: 평균의 제곱과 제곱의 평균 \n",
    "수학식(평균의 제곱과 제곱의 평균)을 코드로 만드는 연습을 해봅니다.<br>\n",
    "![Alt text](1-11.png)\n",
    "\n",
    "\n",
    "\n",
    "분산 = 편차^2 의 평균"
   ]
  },
  {
   "cell_type": "code",
   "execution_count": 6,
   "metadata": {},
   "outputs": [
    {
     "name": "stdout",
     "output_type": "stream",
     "text": [
      "square_of_mean:  400.0\n",
      "mean_of_squre:  466.6666666666667\n"
     ]
    }
   ],
   "source": [
    "score1 = 10\n",
    "score2 = 20\n",
    "score3 = 30\n",
    "n_students = 3\n",
    "mean = (score1 + score2 + score3) / n_students\n",
    "square_of_mean = mean**2\n",
    "mean_of_square = (score1**2 + score2**2 + score3**2) / n_students\n",
    "print('square_of_mean: ', square_of_mean)\n",
    "print('mean_of_squre: ', mean_of_square)"
   ]
  },
  {
   "cell_type": "markdown",
   "metadata": {},
   "source": [
    "# Exercise.1 - 12: 분산과 표준편차 \n",
    "수학식(분산과 표준편차)을 코드로 만드는 연습을 해봅니다.<br>\n",
    "![Alt text](1-12.png)\n",
    "![Alt text](1-12_1.png)"
   ]
  },
  {
   "cell_type": "code",
   "execution_count": 7,
   "metadata": {},
   "outputs": [
    {
     "name": "stdout",
     "output_type": "stream",
     "text": [
      "mean:  20.0\n",
      "variance:  66.66666666666669\n",
      "standard deviation:  8.16496580927726\n"
     ]
    }
   ],
   "source": [
    "score1 = 10\n",
    "score2 = 20\n",
    "score3 = 30\n",
    "n_student = 3\n",
    "score_mean = (score1 + score2 + score3) / n_student\n",
    "square_of_mean = score_mean**2 # 평균의 제곱\n",
    "mean_of_square = (score1**2 + score2**2 + score3**2)/n_student # 제곱의 평균\n",
    "score_variance = mean_of_square - square_of_mean # 분산 = 평균의 제곱 - 제곱의 평균\n",
    "score_std = score_variance**0.5 # 표준편차\n",
    "print('mean: ', score_mean)\n",
    "print('variance: ', score_variance)\n",
    "print('standard deviation: ', score_std)"
   ]
  },
  {
   "cell_type": "markdown",
   "metadata": {},
   "source": [
    "# Exercise.1 - 13: Standardization\n",
    "분산과 표준편차를 이용하여, 수학식(standardization)을 코드로 만드는 연습을 해봅니다.\n",
    "![Alt text](1-13.png)"
   ]
  },
  {
   "cell_type": "code",
   "execution_count": 8,
   "metadata": {},
   "outputs": [
    {
     "name": "stdout",
     "output_type": "stream",
     "text": [
      "mean:  20.0\n",
      "variance:  66.66666666666669\n",
      "standard deviation:  8.16496580927726\n",
      "mean:  0.0\n",
      "stardard deviation:  1.0\n"
     ]
    }
   ],
   "source": [
    "score1 = 10\n",
    "score2 = 20\n",
    "score3 = 30\n",
    "n_student = 3\n",
    "score_mean = (score1 + score2 + score3) / n_student\n",
    "square_of_mean = score_mean**2 # 평균의 제곱\n",
    "mean_of_square = (score1**2 + score2**2 + score3**2)/n_student # 제곱의 평균\n",
    "score_variance = mean_of_square - square_of_mean # 분산 = 평균의 제곱 - 제곱의 평균\n",
    "score_std = score_variance**0.5 # 표준편차\n",
    "print('mean: ', score_mean)\n",
    "print('variance: ', score_variance)\n",
    "print('standard deviation: ', score_std)\n",
    "\n",
    "score1 = (score1 - score_mean) / score_std\n",
    "score2 = (score2 - score_mean) / score_std\n",
    "score3 = (score3 - score_mean) / score_std\n",
    "score_mean = (score1 + score2 + score3) / n_student\n",
    "square_of_mean = score_mean**2\n",
    "mean_of_square = (score1**2 + score2**2 + score3**2) / n_student\n",
    "score_variance = mean_of_square - square_of_mean\n",
    "score_std = score_variance ** 0.5\n",
    "print('mean: ', score_mean)\n",
    "print('stardard deviation: ', score_std)"
   ]
  },
  {
   "cell_type": "markdown",
   "metadata": {},
   "source": [
    "# Exercise.1 - 14: Vector-Vector Operations\n",
    "수학식(Vector Operations)을 코드로 만드는 연습을 해봅니다.\n",
    "![Alt text](1-14.png)"
   ]
  },
  {
   "cell_type": "code",
   "execution_count": 9,
   "metadata": {},
   "outputs": [
    {
     "name": "stdout",
     "output_type": "stream",
     "text": [
      "4 6 8\n",
      "-2 -2 -2\n",
      "3 8 15\n"
     ]
    }
   ],
   "source": [
    "# hadamard projuct\n",
    "x1, y1, z1 = 1, 2, 3\n",
    "x2, y2, z2 = 3, 4, 5\n",
    "x3, y3, z3 = x1 + x2, y1 + y2, z1 + z2\n",
    "x4, y4, z4 = x1 - x2, y1 - y2, z1 - z2\n",
    "x5, y5, z5 = x1 * x2, y1 * y2, z1 * z2\n",
    "print(x3, y3, z3)\n",
    "print(x4, y4, z4)\n",
    "print(x5, y5, z5)"
   ]
  },
  {
   "cell_type": "code",
   "execution_count": 10,
   "metadata": {},
   "outputs": [
    {
     "name": "stdout",
     "output_type": "stream",
     "text": [
      "[4 6 8]\n",
      "[-2 -2 -2]\n",
      "[ 3  8 15]\n"
     ]
    }
   ],
   "source": [
    "import numpy as np\n",
    "a = np.array([1, 2, 3])\n",
    "b = np.array([3, 4, 5])\n",
    "print(a + b)\n",
    "print(a - b)\n",
    "print(a * b)"
   ]
  },
  {
   "cell_type": "markdown",
   "metadata": {},
   "source": [
    "# Exercise.1 - 15: Scalar-Vector Operations\n",
    "수학식(scalar-vector operation)을 코드로 만드는 연습을 해봅니다.\n",
    "![Alt text](1-15.png)"
   ]
  },
  {
   "cell_type": "code",
   "execution_count": 11,
   "metadata": {},
   "outputs": [
    {
     "name": "stdout",
     "output_type": "stream",
     "text": [
      "1 2 3\n",
      "10 20 30\n",
      "11 12 13\n"
     ]
    }
   ],
   "source": [
    "a = 10\n",
    "x1, y1, z1 = 1, 2, 3\n",
    "\n",
    "x2, y2, z2 = a*x1, a*y1, a*z1\n",
    "x3, y3, z3 = a + x1, a + y1, a + z1\n",
    "x4, y4, z4 = a - x1, a - y1, a - z1\n",
    "print(x1, y1, z1)\n",
    "print(x2, y2, z2)\n",
    "print(x3, y3, z3)"
   ]
  },
  {
   "cell_type": "code",
   "execution_count": 12,
   "metadata": {},
   "outputs": [
    {
     "name": "stdout",
     "output_type": "stream",
     "text": [
      "[10 20 30]\n",
      "[11 12 13]\n",
      "[9 8 7]\n"
     ]
    }
   ],
   "source": [
    "A = np.array([1, 2, 3])\n",
    "print(a*A)\n",
    "print(a+A)\n",
    "print(a-A)"
   ]
  },
  {
   "cell_type": "markdown",
   "metadata": {},
   "source": [
    "# Exercise.1 - 16: Vector Norm(백터의 크기)\n",
    "수학식(vector norm)을 코드로 만드는 연습을 해봅니다.<br>\n",
    "원점에서 시작하는 백터의 길이\n",
    "![Alt text](1-16.png)"
   ]
  },
  {
   "cell_type": "code",
   "execution_count": 13,
   "metadata": {},
   "outputs": [
    {
     "name": "stdout",
     "output_type": "stream",
     "text": [
      "3.7416573867739413\n"
     ]
    }
   ],
   "source": [
    "x, y, z = 1, 2, 3\n",
    "norm = (x ** 2 + y ** 2 + z ** 2)**0.5\n",
    "print(norm)"
   ]
  },
  {
   "cell_type": "code",
   "execution_count": 14,
   "metadata": {},
   "outputs": [
    {
     "name": "stdout",
     "output_type": "stream",
     "text": [
      "3.7416573867739413\n"
     ]
    }
   ],
   "source": [
    "from numpy import linalg as LA\n",
    "print(LA.norm([1, 2, 3]))"
   ]
  },
  {
   "cell_type": "markdown",
   "metadata": {},
   "source": [
    "# Exercise.1 - 17: Making Unit Vectors\n",
    "수학식(unit vector를 만드는 방법)을 코드로 만드는 연습해봅니다.<br>\n",
    "수기로 쓰면서 익혀야 한다.\n",
    "![Alt text](1-17.png)"
   ]
  },
  {
   "cell_type": "code",
   "execution_count": 15,
   "metadata": {},
   "outputs": [
    {
     "name": "stdout",
     "output_type": "stream",
     "text": [
      "3.7416573867739413\n",
      "1.0\n"
     ]
    }
   ],
   "source": [
    "x, y, z = 1, 2, 3\n",
    "norm = (x ** 2 + y ** 2 + z ** 2)**0.5\n",
    "print(norm)\n",
    "\n",
    "x, y, z = x/norm, y/norm, z/norm\n",
    "norm = (x**2 + y**2 + z**2)**0.5\n",
    "print(norm)"
   ]
  },
  {
   "cell_type": "markdown",
   "metadata": {},
   "source": [
    "# Exercise.1 - 18: Dot Product(내적)\n",
    "수학식(dot product)을 코드로 만드는 연습을 해봅니다.<br>\n",
    "hadamard projuct 와 다른 개념이다.<br>\n",
    "백터와의 내적은 consine similarity 를 구할때 사용된다.<br>\n",
    "https://wikidocs.net/24603\n",
    "![Alt text](1-18.png)"
   ]
  },
  {
   "cell_type": "code",
   "execution_count": 16,
   "metadata": {},
   "outputs": [
    {
     "name": "stdout",
     "output_type": "stream",
     "text": [
      "26\n"
     ]
    }
   ],
   "source": [
    "x1, y1, z1 = 1, 2, 3\n",
    "x2, y2, z2 = 3, 4, 5\n",
    "dot_prod = x1 * x2 + y1 * y2 + z1 * z2\n",
    "print(dot_prod)"
   ]
  },
  {
   "cell_type": "code",
   "execution_count": 17,
   "metadata": {},
   "outputs": [
    {
     "name": "stdout",
     "output_type": "stream",
     "text": [
      "1.0\n",
      "0.6469193223286404\n"
     ]
    }
   ],
   "source": [
    "from math import cos\n",
    "import numpy as np\n",
    "from numpy import dot\n",
    "from numpy.linalg import norm\n",
    "\n",
    "def cos_sim(A, B):\n",
    "  return dot(A, B)/(norm(A)*norm(B))\n",
    "\n",
    "print(cos_sim(np.array([1, 2, 3]), np.array([3, 6, 9])))\n",
    "print(cos(dot_prod))"
   ]
  },
  {
   "cell_type": "markdown",
   "metadata": {},
   "source": [
    "# Exercise.1 - 19: Euclidean distance(기하학적 거리)\n",
    "수학식(Euclidean distance)을 코드로 만드는 연습을 해봅니다.\n",
    "![Alt text](1-19.png)\n",
    "numpy 구현 예시<br>\n",
    "https://www.geeksforgeeks.org/calculate-the-euclidean-distance-using-numpy/"
   ]
  },
  {
   "cell_type": "code",
   "execution_count": 18,
   "metadata": {},
   "outputs": [
    {
     "name": "stdout",
     "output_type": "stream",
     "text": [
      "3.4641016151377544\n"
     ]
    }
   ],
   "source": [
    "x1, y1, z1 = 1, 2, 3\n",
    "x2, y2, z2 = 3, 4, 5\n",
    "e_distance = (x1 - x2)**2 + (y1 - y2)**2 + (z1 - z2)**2\n",
    "e_distance **= 0.5\n",
    "print(e_distance)"
   ]
  },
  {
   "cell_type": "code",
   "execution_count": 19,
   "metadata": {},
   "outputs": [
    {
     "name": "stdout",
     "output_type": "stream",
     "text": [
      "3.4641016151377544\n"
     ]
    }
   ],
   "source": [
    "# Python code to find Euclidean distance\n",
    "# using linalg.norm()\n",
    "\n",
    "import numpy as np\n",
    "\n",
    "# initializing points in\n",
    "# numpy arrays\n",
    "point1 = np.array((1, 2, 3))\n",
    "point2 = np.array((3, 4, 5))\n",
    "\n",
    "# calculating Euclidean distance\n",
    "# using linalg.norm()\n",
    "dist = np.linalg.norm(point1 - point2)\n",
    "\n",
    "# printing Euclidean distance\n",
    "print(dist)\n"
   ]
  },
  {
   "cell_type": "code",
   "execution_count": 20,
   "metadata": {},
   "outputs": [
    {
     "name": "stdout",
     "output_type": "stream",
     "text": [
      "3.4641016151377544\n"
     ]
    }
   ],
   "source": [
    "# Python code to find Euclidean distance\n",
    "# using dot()\n",
    "\n",
    "import numpy as np\n",
    "\n",
    "# initializing points in\n",
    "# numpy arrays\n",
    "point1 = np.array((1, 2, 3))\n",
    "point2 = np.array((3, 4, 5))\n",
    "\n",
    "# subtracting vector\n",
    "temp = point1 - point2\n",
    "\n",
    "# doing dot product\n",
    "# for finding\n",
    "# sum of the squares\n",
    "sum_sq = np.dot(temp.T, temp)\n",
    "\n",
    "# Doing squareroot and\n",
    "# printing Euclidean distance\n",
    "print(np.sqrt(sum_sq))\n"
   ]
  },
  {
   "cell_type": "code",
   "execution_count": 21,
   "metadata": {},
   "outputs": [
    {
     "name": "stdout",
     "output_type": "stream",
     "text": [
      "3.4641016151377544\n"
     ]
    }
   ],
   "source": [
    "# Python code to find Euclidean distance\n",
    "# using sum() and square()\n",
    "\n",
    "import numpy as np\n",
    "\n",
    "# initializing points in\n",
    "# numpy arrays\n",
    "point1 = np.array((1, 2, 3))\n",
    "point2 = np.array((3, 4, 5))\n",
    "\n",
    "# finding sum of squares\n",
    "sum_sq = np.sum(np.square(point1 - point2))\n",
    "\n",
    "# Doing squareroot and\n",
    "# printing Euclidean distance\n",
    "print(np.sqrt(sum_sq))\n"
   ]
  },
  {
   "cell_type": "markdown",
   "metadata": {},
   "source": [
    "# Exercise.1 - 21: Mean Squared Error(평균 제곱 오차)\n",
    "수학식(MSE)을 코드로 만드는 연습을 해봅니다.\n",
    "![Alt text](1-21.png)"
   ]
  },
  {
   "cell_type": "code",
   "execution_count": 22,
   "metadata": {},
   "outputs": [
    {
     "name": "stdout",
     "output_type": "stream",
     "text": [
      "41.666666666666664\n"
     ]
    }
   ],
   "source": [
    "pred1, pred2, pred3 = 10, 20, 30\n",
    "y1, y2, y3 = 10, 25, 40\n",
    "n_data = 3\n",
    "\n",
    "s_error1 = (pred1 - y1)**2\n",
    "s_error2 = (pred2 - y2)**2\n",
    "s_error3 = (pred3 - y3)**2\n",
    "\n",
    "mse = (s_error1 + s_error2 + s_error3)/n_data\n",
    "print(mse)"
   ]
  },
  {
   "cell_type": "markdown",
   "metadata": {},
   "source": [
    "# Exercise.1 - 22: List 만들기 & 원소 접근하기 data들을 각각변수에 할당하면 불편한 점을 확인하고, 이를 해결해주는 List에 대해 배웁니다.\n",
    "Python에서 LiSt를 만드는 방법과, 각 원소를 접근하여 출력하는 방법을 배웁니다."
   ]
  },
  {
   "cell_type": "code",
   "execution_count": 23,
   "metadata": {},
   "outputs": [
    {
     "name": "stdout",
     "output_type": "stream",
     "text": [
      "10\n",
      "20\n",
      "30\n"
     ]
    }
   ],
   "source": [
    "scores = [10, 20, 30]\n",
    "print(scores[0])\n",
    "print(scores[1])\n",
    "print(scores[2])"
   ]
  },
  {
   "cell_type": "markdown",
   "metadata": {},
   "source": [
    "# Exercise.1 - 23: List의 원소 수정하기 이미 만들어진 List의 원소에 접근하여 수정하는 방법을 배웁니다.\n",
    "list[]는 출력과 수정에 모두 사용되는 것을 확인합니다."
   ]
  },
  {
   "cell_type": "code",
   "execution_count": 24,
   "metadata": {},
   "outputs": [
    {
     "name": "stdout",
     "output_type": "stream",
     "text": [
      "[10, 20, 30]\n",
      "[100, 200, 30]\n"
     ]
    }
   ],
   "source": [
    "scores = [10, 20, 30]\n",
    "print(scores)\n",
    "\n",
    "scores[0] = 100\n",
    "scores[1] = 200\n",
    "print(scores)"
   ]
  },
  {
   "cell_type": "markdown",
   "metadata": {},
   "source": [
    "# Exercise.1 - 24: 수학점수들의 평균 구하기(2)\n",
    "list와 가장 많이 사용되는 함수 중 하나인 len( )의 사용법을 배웁니다.\n",
    "원소에 접근하는 방법을 통해 평균을 구하는 방법을 복습합니다.\n",
    "![Alt text](1-24.png)"
   ]
  },
  {
   "cell_type": "code",
   "execution_count": 25,
   "metadata": {},
   "outputs": [
    {
     "name": "stdout",
     "output_type": "stream",
     "text": [
      "score mean:  20.0\n"
     ]
    }
   ],
   "source": [
    "scores = [10, 20, 30]\n",
    "n_student = len(scores)\n",
    "\n",
    "mean = (scores[0] + scores[1] + scores[2]) / n_student\n",
    "print(\"score mean: \", mean)"
   ]
  },
  {
   "cell_type": "markdown",
   "metadata": {},
   "source": [
    "# Exercise.1 - 25: Mean Subtraction(2)\n",
    "평균을 구하는 방법을 이용하여 평균을 구하고, 원소를 수정하는 방법을 이용하여 각 원소에 평균을 빼줍니다.\n",
    "Mean subtraction을 해주면 data들의 평균은 0이 됨을 확인합니다.\n",
    "\n",
    "![Alt text](1-25.png)"
   ]
  },
  {
   "cell_type": "code",
   "execution_count": 26,
   "metadata": {},
   "outputs": [
    {
     "name": "stdout",
     "output_type": "stream",
     "text": [
      "score mean:  20.0\n",
      "score mean:  0.0\n"
     ]
    }
   ],
   "source": [
    "scores: list[float] = [10, 20, 30]\n",
    "n_student = len(scores)\n",
    "\n",
    "mean = (scores[0] + scores[1] + scores[2]) / n_student\n",
    "print('score mean: ', mean)\n",
    "\n",
    "scores[0] -= mean\n",
    "scores[1] -= mean\n",
    "scores[2] -= mean\n",
    "\n",
    "mean = (scores[0] + scores[1] + scores[2]) / n_student\n",
    "print('score mean: ', mean)"
   ]
  },
  {
   "cell_type": "markdown",
   "metadata": {},
   "source": [
    "# Exercise.1 - 26: 분산과 표준편차(2)\n",
    "점수가 저장된 List를 이용하여 분산과 표준편차를 구하는 과정을 복습합니다.\n",
    "![Alt text](1-26.png)"
   ]
  },
  {
   "cell_type": "code",
   "execution_count": 27,
   "metadata": {},
   "outputs": [
    {
     "name": "stdout",
     "output_type": "stream",
     "text": [
      "score mean:  20.0\n",
      "score standard deviation:  8.16496580927726\n"
     ]
    }
   ],
   "source": [
    "scores = [10, 20, 30]\n",
    "n_student = len(scores)\n",
    "\n",
    "mean = (scores[0] + scores[1] + scores[2]) / n_student\n",
    "square_of_mean = mean**2 # 평균의 제곱\n",
    "mean_of_square = (scores[0]**2 + scores[1]**2 + scores[2]**2) / n_student # 제곱의 평균\n",
    "\n",
    "variance = mean_of_square - square_of_mean # 분산 = 제평 - 평제(MOS - SOM)\n",
    "std = variance**0.5 # square root of the variance 표준편차\n",
    "\n",
    "print('score mean: ', mean)\n",
    "print('score standard deviation: ', std)"
   ]
  },
  {
   "cell_type": "markdown",
   "metadata": {},
   "source": [
    "# Exercise.1 - 27: Standardization(2)\n",
    "평균과 분산을 이용해 standardization을 하는 방법을 복습합니다.\n",
    "standardization 후에 평균은 0, 표준편차는 1로 바뀌는 것을 확인합니다.\n",
    "![Alt text](1-27.png)"
   ]
  },
  {
   "cell_type": "code",
   "execution_count": 28,
   "metadata": {},
   "outputs": [
    {
     "name": "stdout",
     "output_type": "stream",
     "text": [
      "score mean:  20.0\n",
      "score standard deviation:  8.16496580927726\n",
      "score mean:  0.0\n",
      "score standard deviation:  1.0\n"
     ]
    }
   ],
   "source": [
    "scores = [10, 20, 30]\n",
    "n_student = len(scores)\n",
    "\n",
    "mean = (scores[0] + scores[1] + scores[2]) / n_student\n",
    "square_of_mean = mean**2 # 평균의 제곱\n",
    "mean_of_square = (scores[0]**2 + scores[1]**2 + scores[2]**2) / n_student # 제곱의 평균\n",
    "variance = mean_of_square - square_of_mean # 분산 = 제평 - 평제(MOS - SOM)\n",
    "std = variance**0.5 # square root of the variance 표준편차\n",
    "print('score mean: ', mean)\n",
    "print('score standard deviation: ', std)\n",
    "\n",
    "# Standardization 표준정규분포 표준화\n",
    "scores[0] = (scores[0] - mean)/std\n",
    "scores[1] = (scores[1] - mean)/std\n",
    "scores[2] = (scores[2] - mean)/std\n",
    "\n",
    "mean = (scores[0] + scores[1] + scores[2]) / n_student\n",
    "square_of_mean = mean**2 # 평균의 제곱\n",
    "mean_of_square = (scores[0]**2 + scores[1]**2 + scores[2]**2) / n_student # 제곱의 평균\n",
    "variance = mean_of_square - square_of_mean # 분산 = 제평 - 평제(MOS - SOM)\n",
    "std = variance**0.5 # square root of the variance 표준편차\n",
    "\n",
    "print('score mean: ', mean)\n",
    "print('score standard deviation: ', std)"
   ]
  },
  {
   "cell_type": "markdown",
   "metadata": {},
   "source": [
    "# Exercise.1 - 28: Hadamard Product(2)\n",
    "Vector를 List로 만드는 방법을 배우고, 이 List들을 이용해 Hadamard product을 하는 방법에 대해 복습합니다.\n",
    "![Alt text](1-28.png)"
   ]
  },
  {
   "cell_type": "code",
   "execution_count": 29,
   "metadata": {},
   "outputs": [
    {
     "name": "stdout",
     "output_type": "stream",
     "text": [
      "[3, 8, 15]\n",
      "[3, 8, 15]\n"
     ]
    }
   ],
   "source": [
    "v1, v2 = [1, 2, 3], [3, 4, 5]\n",
    "v3 = [v1[0]*v2[0], v1[1]*v2[1], v1[2]*v2[2]]\n",
    "print(v3)\n",
    "\n",
    "v1, v2 = [1, 2, 3], [3, 4, 5]\n",
    "v3 = [0, 0, 0]\n",
    "v3[0] = v1[0]*v2[0]\n",
    "v3[1] = v1[1]*v2[1]\n",
    "v3[2] = v1[2]*v2[2]\n",
    "print(v3)"
   ]
  },
  {
   "cell_type": "markdown",
   "metadata": {},
   "source": [
    "# Exercise.1 - 29: list( )° append()\n",
    "LiSt에 원소를 추가하는 list append( )에 대해 배웁니다."
   ]
  },
  {
   "cell_type": "code",
   "execution_count": 30,
   "metadata": {},
   "outputs": [
    {
     "name": "stdout",
     "output_type": "stream",
     "text": [
      "[]\n",
      "[1]\n",
      "[1, 2]\n",
      "[1, 2, 3]\n"
     ]
    }
   ],
   "source": [
    "v1 = list()\n",
    "print(v1)\n",
    "\n",
    "v1.append(1)\n",
    "print(v1)\n",
    "\n",
    "v1.append(2)\n",
    "print(v1)\n",
    "\n",
    "v1.append(3)\n",
    "print(v1)"
   ]
  },
  {
   "cell_type": "markdown",
   "metadata": {},
   "source": [
    "# Exercise.1 - 30: Hadamard Product(3)\n",
    "Hadamard product 계산하는 방법에 대해 list( )와 append()를 적용해봅니다.\n",
    "![Alt text](1-30.png)"
   ]
  },
  {
   "cell_type": "code",
   "execution_count": 31,
   "metadata": {},
   "outputs": [
    {
     "name": "stdout",
     "output_type": "stream",
     "text": [
      "[3, 8, 15]\n"
     ]
    }
   ],
   "source": [
    "v1, v2 = [1, 2, 3], [3, 4, 5]\n",
    "\n",
    "v3 = list()\n",
    "v3.append(v1[0] * v2[0])\n",
    "v3.append(v1[1] * v2[1])\n",
    "v3.append(v1[2] * v2[2])\n",
    "print(v3)"
   ]
  },
  {
   "cell_type": "markdown",
   "metadata": {},
   "source": [
    "# Exercise.1 - 31: Vector Norm(2)\n",
    "List의 원소의 접근하는 방법을 이용하여 vector norm을 구하는 방법을 복습합니다.\n",
    "![Alt text](image-1.png)"
   ]
  },
  {
   "cell_type": "code",
   "execution_count": 32,
   "metadata": {},
   "outputs": [
    {
     "name": "stdout",
     "output_type": "stream",
     "text": [
      "3.7416573867739413\n",
      "3.7416573867739413\n"
     ]
    }
   ],
   "source": [
    "v1 = [1, 2, 3]\n",
    "\n",
    "norm = (v1[0]**2 + v1[1]**2 + v1[2]**2)**0.5\n",
    "print(norm)\n",
    "\n",
    "norm = 0\n",
    "norm += v1[0]**2\n",
    "norm += v1[1]**2\n",
    "norm += v1[2]**2\n",
    "norm **= 0.5\n",
    "print(norm)"
   ]
  },
  {
   "cell_type": "markdown",
   "metadata": {},
   "source": [
    "# Exercise.1 - 32: Making Unit Vectors (2)\n",
    "List의 원소의 접근하는 방법과 List를 만드는 방법을 이용하여 unit vector를 만드는 방법을 복습합니다.\n",
    "연산 후에 vector normol 1이 됨을 확인합니다.\n",
    "![Alt text](1-32.png)"
   ]
  },
  {
   "cell_type": "code",
   "execution_count": 33,
   "metadata": {},
   "outputs": [
    {
     "name": "stdout",
     "output_type": "stream",
     "text": [
      "3.7416573867739413\n",
      "1.0\n"
     ]
    }
   ],
   "source": [
    "v1 = [1, 2, 3]\n",
    "\n",
    "norm = (v1[0]**2 + v1[1]**2 + v1[2]**2)**0.5\n",
    "print(norm)\n",
    "\n",
    "v1 = [v1[0]/norm, v1[1]/norm, v1[2]/norm] # unit vectors\n",
    "norm = (v1[0]**2 + v1[1]**2 + v1[2]**2)**0.5\n",
    "print(norm)"
   ]
  },
  {
   "cell_type": "markdown",
   "metadata": {},
   "source": [
    "# Exercise.1 - 33: Dot Product(2)\n",
    "List의 원소의 접근하는 방법을 이용하여 dot product를 연산하는 방법에 대해 복습합니다.\n",
    "![Alt text](1-33.png)\n"
   ]
  },
  {
   "cell_type": "code",
   "execution_count": 34,
   "metadata": {},
   "outputs": [
    {
     "name": "stdout",
     "output_type": "stream",
     "text": [
      "26\n",
      "26\n"
     ]
    }
   ],
   "source": [
    "v1, v2 = [1, 2, 3], [3, 4, 5]\n",
    "\n",
    "# method.1\n",
    "dot_prod = v1[0]*v2[0] + v1[1]*v2[1] + v1[2]*v2[2]\n",
    "print(dot_prod)\n",
    "\n",
    "# method.2\n",
    "dot_prod = 0\n",
    "dot_prod += v1[0]*v2[0]\n",
    "dot_prod += v1[1]*v2[1]\n",
    "dot_prod += v1[2]*v2[2]\n",
    "print(dot_prod)"
   ]
  },
  {
   "cell_type": "markdown",
   "metadata": {},
   "source": [
    "# Exercise.1 - 34: Euclidean Distance (2)\n",
    "LiSt의 원소의 접근하는 방법을 이용하여 Euclidean distance를 연산하는 방법에 대해 복습합니다.\n",
    "![Alt text](1-34.png)"
   ]
  },
  {
   "cell_type": "code",
   "execution_count": 35,
   "metadata": {},
   "outputs": [
    {
     "name": "stdout",
     "output_type": "stream",
     "text": [
      "3.4641016151377544\n"
     ]
    }
   ],
   "source": [
    "v1, v2 = [1, 2, 3], [3, 4, 5]\n",
    "\n",
    "e_distance = 0\n",
    "e_distance += (v1[0] - v2[0]) ** 2\n",
    "e_distance += (v1[1] - v2[1]) ** 2\n",
    "e_distance += (v1[2] - v2[2]) ** 2\n",
    "e_distance **= 0.5\n",
    "print(e_distance)"
   ]
  },
  {
   "cell_type": "markdown",
   "metadata": {},
   "source": [
    "# Exercise.1 - 35: Mean Squared Error(2)\n",
    "List의 원소의 접근하는 방법을 이용하여 MSE를 연산하는 방법에 대해 복습합니다.\n",
    "![Alt text](1-35.png)\n",
    "hat 씌어진 y : 예측값"
   ]
  },
  {
   "cell_type": "code",
   "execution_count": 36,
   "metadata": {},
   "outputs": [
    {
     "name": "stdout",
     "output_type": "stream",
     "text": [
      "41.666666666666664\n"
     ]
    }
   ],
   "source": [
    "predictions = [10, 20, 30] # 예측값\n",
    "labels = [10, 25, 40] # 정답\n",
    "n_data = len(predictions)\n",
    "\n",
    "mse = 0\n",
    "mse += (predictions[0] - labels[0])**2\n",
    "mse += (predictions[1] - labels[1])**2\n",
    "mse += (predictions[2] - labels[2])**2\n",
    "mse /= n_data\n",
    "print(mse)\n"
   ]
  },
  {
   "cell_type": "markdown",
   "metadata": {},
   "source": [
    "# Exercise.1 - 36: for loop으로 list의 원소 접근하기 \n",
    "For loop을 통해 list의 원소들에 차례차례 접근하는 방법에 대해 배웁니다.<br>\n",
    "Indentation level에 대해 배웁니다."
   ]
  },
  {
   "cell_type": "code",
   "execution_count": 37,
   "metadata": {},
   "outputs": [
    {
     "name": "stdout",
     "output_type": "stream",
     "text": [
      "10\n",
      "20\n",
      "30\n"
     ]
    }
   ],
   "source": [
    "scores = [10, 20, 30]\n",
    "for score in scores:\n",
    "    print(score)"
   ]
  },
  {
   "cell_type": "markdown",
   "metadata": {},
   "source": [
    "# Exercise.1 - 37: List 원소들의 합 구하기 \n",
    "앞에서 다룬 List를 직접 접근할 때의 불편함을 해결하는 방법을 배웁니다.<br>\n",
    "For loop을 통해 Iist의 원소들하고, 접근된 값을 이용하여 연산을 하는 방법에 대해 배웁니다."
   ]
  },
  {
   "cell_type": "code",
   "execution_count": 38,
   "metadata": {},
   "outputs": [
    {
     "name": "stdout",
     "output_type": "stream",
     "text": [
      "60\n"
     ]
    }
   ],
   "source": [
    "scores = [10, 20, 30]\n",
    "\n",
    "score_sum = 0 # 초기화 작업. 곱연산일 경우 0대신 1로 해야겠지?\n",
    "for score in scores:\n",
    "    score_sum += score\n",
    "print(score_sum)"
   ]
  },
  {
   "cell_type": "markdown",
   "metadata": {},
   "source": [
    "# Exercise.1 - 38: Iteration 횟수 구하기 \n",
    "For loop가 몇 번 iterate됬는지 구하는 방법을 배웁니다."
   ]
  },
  {
   "cell_type": "code",
   "execution_count": 39,
   "metadata": {},
   "outputs": [
    {
     "name": "stdout",
     "output_type": "stream",
     "text": [
      "1 <class 'int'>\n",
      "4 <class 'int'>\n",
      "5 <class 'int'>\n",
      "6 <class 'int'>\n",
      "4 <class 'int'>\n",
      "2 <class 'int'>\n",
      "1 <class 'int'>\n",
      "7\n"
     ]
    }
   ],
   "source": [
    "numbers = [1, 4, 5, 6, 4, 2, 1]\n",
    "iter_cnt = 0\n",
    "\n",
    "for _ in numbers: # _ 언더스코어\n",
    "    print(_,type(_))\n",
    "    iter_cnt += 1\n",
    "    \n",
    "print(iter_cnt)"
   ]
  },
  {
   "cell_type": "markdown",
   "metadata": {},
   "source": [
    "# Exercise.1 - 39: 1부터 100까지의 합 구하기\n",
    "1부터 100까지 더하는 상황에 대해 불편한 점을 생각해보고, 이를 해결하기 위해 range( )의 사용법에 대해 배웁니다.\n",
    "![Alt text](1-39.png)"
   ]
  },
  {
   "cell_type": "code",
   "execution_count": 40,
   "metadata": {},
   "outputs": [
    {
     "name": "stdout",
     "output_type": "stream",
     "text": [
      "5050\n"
     ]
    }
   ],
   "source": [
    "num_sum = 0\n",
    "for i in range(101):\n",
    "    num_sum += i\n",
    "\n",
    "print(num_sum)"
   ]
  },
  {
   "cell_type": "markdown",
   "metadata": {},
   "source": [
    "# Exercise.1 - 40: 1부터 100까지 List 만들기 \n",
    "range( )와 list.append( )를 이용하여 1부터 100까지의 원소를 가지는 Iist를 쉽게 만드는 방법에 대해 배웁니다."
   ]
  },
  {
   "cell_type": "code",
   "execution_count": 41,
   "metadata": {},
   "outputs": [
    {
     "name": "stdout",
     "output_type": "stream",
     "text": [
      "[1, 2, 3, 4, 5, 6, 7, 8, 9, 10, 11, 12, 13, 14, 15, 16, 17, 18, 19, 20, 21, 22, 23, 24, 25, 26, 27, 28, 29, 30, 31, 32, 33, 34, 35, 36, 37, 38, 39, 40, 41, 42, 43, 44, 45, 46, 47, 48, 49, 50, 51, 52, 53, 54, 55, 56, 57, 58, 59, 60, 61, 62, 63, 64, 65, 66, 67, 68, 69, 70, 71, 72, 73, 74, 75, 76, 77, 78, 79, 80, 81, 82, 83, 84, 85, 86, 87, 88, 89, 90, 91, 92, 93, 94, 95, 96, 97, 98, 99, 100]\n"
     ]
    }
   ],
   "source": [
    "numbers = list()\n",
    "for i in range(1, 101):\n",
    "    numbers.append(i)\n",
    "print(numbers)"
   ]
  },
  {
   "cell_type": "markdown",
   "metadata": {},
   "source": [
    "# Exercise.1 - 41: 100개의 0을 가진 List 만들기\n",
    "range( )와 list.append()를 사용하여 list를 초기화 하는 방법에 대해 배웁니다."
   ]
  },
  {
   "cell_type": "code",
   "execution_count": 42,
   "metadata": {},
   "outputs": [
    {
     "name": "stdout",
     "output_type": "stream",
     "text": [
      "[0, 0, 0, 0, 0, 0, 0, 0, 0, 0, 0, 0, 0, 0, 0, 0, 0, 0, 0, 0, 0, 0, 0, 0, 0, 0, 0, 0, 0, 0, 0, 0, 0, 0, 0, 0, 0, 0, 0, 0, 0, 0, 0, 0, 0, 0, 0, 0, 0, 0, 0, 0, 0, 0, 0, 0, 0, 0, 0, 0, 0, 0, 0, 0, 0, 0, 0, 0, 0, 0, 0, 0, 0, 0, 0, 0, 0, 0, 0, 0, 0, 0, 0, 0, 0, 0, 0, 0, 0, 0, 0, 0, 0, 0, 0, 0, 0, 0, 0, 0]\n"
     ]
    }
   ],
   "source": [
    "numbers = list()\n",
    "for _ in range(100):\n",
    "    numbers.append(0)\n",
    "print(numbers)"
   ]
  },
  {
   "cell_type": "markdown",
   "metadata": {},
   "source": [
    "# Exercise.1 - 42: for loop으로 list의 원소 접근하기 (2)\n",
    "For loop, len(), range( )를 이용하여 data index를 만드는 방법과, 이를 통해 List의 원소에 접근하는 다른 방법에 대해 배웁니다."
   ]
  },
  {
   "cell_type": "code",
   "execution_count": 43,
   "metadata": {},
   "outputs": [
    {
     "name": "stdout",
     "output_type": "stream",
     "text": [
      "10\n",
      "20\n",
      "30\n",
      "10\n",
      "20\n",
      "30\n"
     ]
    }
   ],
   "source": [
    "scores = [10, 20, 30]\n",
    "\n",
    "# method.1\n",
    "for score in scores:\n",
    "    print(score)\n",
    "\n",
    "# method.2\n",
    "for score_idx in range(len(scores)):\n",
    "    print(scores[score_idx])"
   ]
  },
  {
   "cell_type": "markdown",
   "metadata": {},
   "source": [
    "# Exercise.1- 43: for loop으로 list의 원소 수정하기 \n",
    "List의 원소를 수정할 때는 data index를 통해 for loop을 돌려야 됨을 이해합니다."
   ]
  },
  {
   "cell_type": "code",
   "execution_count": 44,
   "metadata": {},
   "outputs": [
    {
     "name": "stdout",
     "output_type": "stream",
     "text": [
      "[20, 30, 40, 50, 60]\n"
     ]
    }
   ],
   "source": [
    "scores = [10, 20, 30, 40, 50]\n",
    "\n",
    "for score_idx in range(len(scores)):\n",
    "    scores[score_idx] += 10\n",
    "\n",
    "print(scores)"
   ]
  },
  {
   "cell_type": "markdown",
   "metadata": {},
   "source": [
    "# Exercise.1- 44: 두 개의 List 접근하기\n",
    "2개의 LiSt들이 가진 원소들에 접근해야 될 때도, data index를 통해 for loop을 돌려야 됨을 이해합니다."
   ]
  },
  {
   "cell_type": "code",
   "execution_count": 45,
   "metadata": {},
   "outputs": [
    {
     "name": "stdout",
     "output_type": "stream",
     "text": [
      "10 100\n",
      "20 200\n",
      "30 300\n"
     ]
    }
   ],
   "source": [
    "list1 = [10, 20, 30]\n",
    "list2 = [100, 200, 300]\n",
    "\n",
    "for idx in range(len(list1)):\n",
    "    print(list1[idx], list2[idx])"
   ]
  },
  {
   "cell_type": "markdown",
   "metadata": {},
   "source": [
    "# Exercise.1 - 45: 수학점수들의 평균 구하기 (3)\n",
    "For loop을 통해 List의 원소들의 합을 구하는 2가지 방법을 복습합니다.<br>\n",
    "![Alt text](1-45.png)"
   ]
  },
  {
   "cell_type": "code",
   "execution_count": 46,
   "metadata": {},
   "outputs": [
    {
     "name": "stdout",
     "output_type": "stream",
     "text": [
      "score mean:  20.0\n",
      "score mean:  20.0\n"
     ]
    }
   ],
   "source": [
    "scores = [10, 20, 30]\n",
    "\n",
    "# method.1\n",
    "score_sum = 0\n",
    "n_student = 0\n",
    "for score in scores:\n",
    "    score_sum += score\n",
    "    n_student += 1\n",
    "score_mean = score_sum / n_student\n",
    "print('score mean: ', score_mean)\n",
    "\n",
    "# method.2\n",
    "score_sum = 0\n",
    "for score_idx in range(len(scores)):\n",
    "    score_sum += scores[score_idx]\n",
    "score_mean = score_sum / len(scores)\n",
    "print('score mean: ', score_mean)"
   ]
  },
  {
   "cell_type": "markdown",
   "metadata": {},
   "source": [
    "# Exercise. 1 - 46: Mean Subtraction(3)\n",
    "For loop을 이용하여 각 원소를 평균으로 빼주는 방법에 대해 배웁니다.<br>\n",
    "![Alt text](1-46.png)"
   ]
  },
  {
   "cell_type": "code",
   "execution_count": 47,
   "metadata": {},
   "outputs": [
    {
     "name": "stdout",
     "output_type": "stream",
     "text": [
      "[-10.0, 0.0, 10.0]\n",
      "[-30.0, -20.0, -10.0]\n"
     ]
    }
   ],
   "source": [
    "scores = [10, 20, 30]\n",
    "score_mean = sum(scores)/len(scores)\n",
    "\n",
    "# method.1\n",
    "scores_ms = list()\n",
    "for score in scores:\n",
    "    scores_ms.append(score - score_mean)\n",
    "print(scores_ms)\n",
    "\n",
    "# method.2\n",
    "for score_idx in range(len(scores)):\n",
    "    scores_ms[score_idx] -= score_mean\n",
    "print(scores_ms)\n",
    "    "
   ]
  },
  {
   "cell_type": "markdown",
   "metadata": {},
   "source": [
    "# Exercise.1 - 47: 두 과목의 평균 구하기\n",
    "Data index를 통해 두 개의 list에 들어있는 값들의 평균을 구해봅니다.<br>\n",
    "특정 값(평균)들을 가지고 있는 List()를 사용하는 방법에 대해 익힙니다.<br>\n",
    "![Alt text](1-47.png)"
   ]
  },
  {
   "cell_type": "code",
   "execution_count": 48,
   "metadata": {},
   "outputs": [
    {
     "name": "stdout",
     "output_type": "stream",
     "text": [
      "sums of scores:  [180, 120]\n",
      "means of scores:  [60.0, 40.0]\n"
     ]
    }
   ],
   "source": [
    "math_scores = [40, 60, 80]\n",
    "english_scores = [30, 40, 50]\n",
    "\n",
    "n_class = 2\n",
    "n_student = len(math_scores)\n",
    "\n",
    "score_sums = list()\n",
    "score_means = list()\n",
    "\n",
    "for _ in range(n_class):\n",
    "    score_sums.append(0)\n",
    "\n",
    "for student_idx in range(n_student):\n",
    "    score_sums[0] += math_scores[student_idx]\n",
    "    score_sums[1] += english_scores[student_idx]\n",
    "\n",
    "print('sums of scores: ', score_sums)\n",
    "\n",
    "for class_idx in range(n_class):\n",
    "    class_mean = score_sums[class_idx] / n_student\n",
    "    score_means.append(class_mean)\n",
    "\n",
    "print('means of scores: ', score_means)"
   ]
  }
 ],
 "metadata": {
  "kernelspec": {
   "display_name": "sesac",
   "language": "python",
   "name": "python3"
  },
  "language_info": {
   "codemirror_mode": {
    "name": "ipython",
    "version": 3
   },
   "file_extension": ".py",
   "mimetype": "text/x-python",
   "name": "python",
   "nbconvert_exporter": "python",
   "pygments_lexer": "ipython3",
   "version": "3.11.5"
  },
  "orig_nbformat": 4
 },
 "nbformat": 4,
 "nbformat_minor": 2
}
