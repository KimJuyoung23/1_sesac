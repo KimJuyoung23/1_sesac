{
 "cells": [
  {
   "cell_type": "markdown",
   "metadata": {},
   "source": [
    "# Exercise.1 - 9: 추가점수를 받은 학생들의 평균 복합 대입 연산자를 이용해 학생들의 점수를 수정하고, 평균을 다시 구해봅니다.\n",
    "이를 통해 모든 data가 같은 값으로 변했을 때 평균이 어떻게 바뀌는지 확인해봅니다.<br>\n",
    "![Alt text](1-09.png)"
   ]
  },
  {
   "cell_type": "code",
   "execution_count": 12,
   "metadata": {},
   "outputs": [
    {
     "name": "stdout",
     "output_type": "stream",
     "text": [
      "20.0\n"
     ]
    }
   ],
   "source": [
    "score1 = 10\n",
    "score2 = 20\n",
    "score3 = 30\n",
    "n_student = 3\n",
    "mean = (score1 + score2 + score3)/n_student\n",
    "print(mean)"
   ]
  },
  {
   "cell_type": "code",
   "execution_count": 13,
   "metadata": {},
   "outputs": [
    {
     "name": "stdout",
     "output_type": "stream",
     "text": [
      "20 30 40\n"
     ]
    }
   ],
   "source": [
    "score1 += 10\n",
    "score2 += 10\n",
    "score3 += 10\n",
    "print(score1, score2, score3)"
   ]
  },
  {
   "cell_type": "code",
   "execution_count": 14,
   "metadata": {},
   "outputs": [
    {
     "name": "stdout",
     "output_type": "stream",
     "text": [
      "30.0\n"
     ]
    }
   ],
   "source": [
    "mean = (score1 + score2 + score3)/n_student\n",
    "print(mean)"
   ]
  },
  {
   "cell_type": "markdown",
   "metadata": {},
   "source": [
    "# Exercise. 1 - 10: Mean Subtraction\n",
    "수학식(mean subtraction)을 코드로 만드는 연습을 해봅니다.<br>\n",
    "![Alt text](1-10.png)"
   ]
  },
  {
   "cell_type": "code",
   "execution_count": 15,
   "metadata": {},
   "outputs": [
    {
     "name": "stdout",
     "output_type": "stream",
     "text": [
      "20.0\n"
     ]
    }
   ],
   "source": [
    "score1 = 10\n",
    "score2 = 20\n",
    "score3 = 30\n",
    "n_student = 3\n",
    "score_mean = (score1 + score2 + score3) / n_student\n",
    "print(score_mean)"
   ]
  },
  {
   "cell_type": "code",
   "execution_count": 16,
   "metadata": {},
   "outputs": [
    {
     "name": "stdout",
     "output_type": "stream",
     "text": [
      "0.0\n"
     ]
    }
   ],
   "source": [
    "score1 -= score_mean\n",
    "score2 -= score_mean\n",
    "score3 -= score_mean\n",
    "socre_mean = (score1 + score2 + score3) / n_student\n",
    "print(socre_mean)"
   ]
  },
  {
   "cell_type": "markdown",
   "metadata": {},
   "source": [
    "# Exercise.1 - 11: 평균의 제곱과 제곱의 평균 \n",
    "수학식(평균의 제곱과 제곱의 평균)을 코드로 만드는 연습을 해봅니다.<br>\n",
    "![Alt text](1-11.png)\n",
    "\n",
    "\n",
    "\n",
    "분산 = 편차^2 의 평균"
   ]
  },
  {
   "cell_type": "code",
   "execution_count": 17,
   "metadata": {},
   "outputs": [
    {
     "name": "stdout",
     "output_type": "stream",
     "text": [
      "square_of_mean:  400.0\n",
      "mean_of_squre:  466.6666666666667\n"
     ]
    }
   ],
   "source": [
    "score1 = 10\n",
    "score2 = 20\n",
    "score3 = 30\n",
    "n_students = 3\n",
    "mean = (score1 + score2 + score3) / n_students\n",
    "square_of_mean = mean**2\n",
    "mean_of_square = (score1**2 + score2**2 + score3**2) / n_students\n",
    "print('square_of_mean: ', square_of_mean)\n",
    "print('mean_of_squre: ', mean_of_square)"
   ]
  },
  {
   "cell_type": "markdown",
   "metadata": {},
   "source": [
    "# Exercise.1 - 12: 분산과 표준편차 \n",
    "수학식(분산과 표준편차)을 코드로 만드는 연습을 해봅니다.<br>\n",
    "![Alt text](1-12.png)\n",
    "![Alt text](1-12_1.png)"
   ]
  },
  {
   "cell_type": "code",
   "execution_count": 18,
   "metadata": {},
   "outputs": [
    {
     "name": "stdout",
     "output_type": "stream",
     "text": [
      "mean:  20.0\n",
      "variance:  66.66666666666669\n",
      "standard deviation:  8.16496580927726\n"
     ]
    }
   ],
   "source": [
    "score1 = 10\n",
    "score2 = 20\n",
    "score3 = 30\n",
    "n_student = 3\n",
    "score_mean = (score1 + score2 + score3) / n_student\n",
    "square_of_mean = score_mean**2 # 평균의 제곱\n",
    "mean_of_square = (score1**2 + score2**2 + score3**2)/n_student # 제곱의 평균\n",
    "score_variance = mean_of_square - square_of_mean # 분산 = 평균의 제곱 - 제곱의 평균\n",
    "score_std = score_variance**0.5 # 표준편차\n",
    "print('mean: ', score_mean)\n",
    "print('variance: ', score_variance)\n",
    "print('standard deviation: ', score_std)"
   ]
  },
  {
   "cell_type": "markdown",
   "metadata": {},
   "source": [
    "# Exercise. 1 - 13: Standardization\n",
    "분산과 표준편차를 이용하여, 수학식(standardization)을 코드로 만드는 연습을 해봅니다.\n",
    "![Alt text](1-13.png)"
   ]
  },
  {
   "cell_type": "code",
   "execution_count": 19,
   "metadata": {},
   "outputs": [
    {
     "name": "stdout",
     "output_type": "stream",
     "text": [
      "mean:  20.0\n",
      "variance:  66.66666666666669\n",
      "standard deviation:  8.16496580927726\n",
      "mean:  0.0\n",
      "stardard deviation:  1.0\n"
     ]
    }
   ],
   "source": [
    "score1 = 10\n",
    "score2 = 20\n",
    "score3 = 30\n",
    "n_student = 3\n",
    "score_mean = (score1 + score2 + score3) / n_student\n",
    "square_of_mean = score_mean**2 # 평균의 제곱\n",
    "mean_of_square = (score1**2 + score2**2 + score3**2)/n_student # 제곱의 평균\n",
    "score_variance = mean_of_square - square_of_mean # 분산 = 평균의 제곱 - 제곱의 평균\n",
    "score_std = score_variance**0.5 # 표준편차\n",
    "print('mean: ', score_mean)\n",
    "print('variance: ', score_variance)\n",
    "print('standard deviation: ', score_std)\n",
    "\n",
    "score1 = (score1 - score_mean) / score_std\n",
    "score2 = (score2 - score_mean) / score_std\n",
    "score3 = (score3 - score_mean) / score_std\n",
    "score_mean = (score1 + score2 + score3) / n_student\n",
    "square_of_mean = score_mean**2\n",
    "mean_of_square = (score1**2 + score2**2 + score3**2) / n_student\n",
    "score_variance = mean_of_square - square_of_mean\n",
    "score_std = score_variance ** 0.5\n",
    "print('mean: ', score_mean)\n",
    "print('stardard deviation: ', score_std)"
   ]
  }
 ],
 "metadata": {
  "kernelspec": {
   "display_name": "sesac",
   "language": "python",
   "name": "python3"
  },
  "language_info": {
   "codemirror_mode": {
    "name": "ipython",
    "version": 3
   },
   "file_extension": ".py",
   "mimetype": "text/x-python",
   "name": "python",
   "nbconvert_exporter": "python",
   "pygments_lexer": "ipython3",
   "version": "3.11.5"
  },
  "orig_nbformat": 4
 },
 "nbformat": 4,
 "nbformat_minor": 2
}
