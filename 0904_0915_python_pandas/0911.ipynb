{
 "cells": [
  {
   "cell_type": "markdown",
   "metadata": {},
   "source": [
    "# Pandas"
   ]
  },
  {
   "cell_type": "markdown",
   "metadata": {},
   "source": [
    "## 시리즈"
   ]
  },
  {
   "cell_type": "code",
   "execution_count": 315,
   "metadata": {},
   "outputs": [
    {
     "data": {
      "text/plain": [
       "0    1000\n",
       "1    1010\n",
       "2    1020\n",
       "dtype: int64"
      ]
     },
     "execution_count": 315,
     "metadata": {},
     "output_type": "execute_result"
    }
   ],
   "source": [
    "import pandas as pd\n",
    "prices = [1000, 1010, 1020]\n",
    "seris1 = pd.Series(prices)\n",
    "seris1"
   ]
  },
  {
   "cell_type": "code",
   "execution_count": 316,
   "metadata": {},
   "outputs": [
    {
     "data": {
      "text/plain": [
       "2023-01-01    1000\n",
       "2023-01-02    1010\n",
       "2023-01-03    1020\n",
       "Freq: D, dtype: int64"
      ]
     },
     "execution_count": 316,
     "metadata": {},
     "output_type": "execute_result"
    }
   ],
   "source": [
    "# 인덱스 부여\n",
    "dates = pd.date_range('20230101', periods=3)\n",
    "seris2 = pd.Series(prices, index=dates)\n",
    "seris2"
   ]
  },
  {
   "cell_type": "markdown",
   "metadata": {},
   "source": [
    "### date_range 활용"
   ]
  },
  {
   "cell_type": "code",
   "execution_count": 317,
   "metadata": {},
   "outputs": [
    {
     "data": {
      "text/plain": [
       "DatetimeIndex(['2022-01-01', '2022-02-01', '2022-03-01', '2022-04-01',\n",
       "               '2022-05-01', '2022-06-01', '2022-07-01', '2022-08-01',\n",
       "               '2022-09-01', '2022-10-01', '2022-11-01', '2022-12-01',\n",
       "               '2023-01-01'],\n",
       "              dtype='datetime64[ns]', freq='MS')"
      ]
     },
     "execution_count": 317,
     "metadata": {},
     "output_type": "execute_result"
    }
   ],
   "source": [
    "pd.date_range('2022-01-01', '2023-01-01', freq='M')\n",
    "pd.date_range('2022-01-01', '2023-01-01', freq='MS')\n",
    "# freq='M' \n",
    "# # M 말일을 출력한다\n",
    "# MS 초일을 출력한다"
   ]
  },
  {
   "cell_type": "code",
   "execution_count": 318,
   "metadata": {},
   "outputs": [
    {
     "data": {
      "text/plain": [
       "2023-01-01    1000\n",
       "2023-01-02    1010\n",
       "2023-01-03     100\n",
       "Freq: D, dtype: int64"
      ]
     },
     "execution_count": 318,
     "metadata": {},
     "output_type": "execute_result"
    }
   ],
   "source": [
    "seris2[2] = 100\n",
    "seris2"
   ]
  },
  {
   "cell_type": "markdown",
   "metadata": {},
   "source": [
    "## 데이터프레임"
   ]
  },
  {
   "cell_type": "code",
   "execution_count": 319,
   "metadata": {},
   "outputs": [
    {
     "data": {
      "text/html": [
       "<div>\n",
       "<style scoped>\n",
       "    .dataframe tbody tr th:only-of-type {\n",
       "        vertical-align: middle;\n",
       "    }\n",
       "\n",
       "    .dataframe tbody tr th {\n",
       "        vertical-align: top;\n",
       "    }\n",
       "\n",
       "    .dataframe thead th {\n",
       "        text-align: right;\n",
       "    }\n",
       "</style>\n",
       "<table border=\"1\" class=\"dataframe\">\n",
       "  <thead>\n",
       "    <tr style=\"text-align: right;\">\n",
       "      <th></th>\n",
       "      <th>SK</th>\n",
       "      <th>Samsung</th>\n",
       "      <th>LG</th>\n",
       "    </tr>\n",
       "  </thead>\n",
       "  <tbody>\n",
       "    <tr>\n",
       "      <th>0</th>\n",
       "      <td>44000</td>\n",
       "      <td>70100</td>\n",
       "      <td>85000</td>\n",
       "    </tr>\n",
       "    <tr>\n",
       "      <th>1</th>\n",
       "      <td>44500</td>\n",
       "      <td>70200</td>\n",
       "      <td>85500</td>\n",
       "    </tr>\n",
       "    <tr>\n",
       "      <th>2</th>\n",
       "      <td>45000</td>\n",
       "      <td>70300</td>\n",
       "      <td>86000</td>\n",
       "    </tr>\n",
       "  </tbody>\n",
       "</table>\n",
       "</div>"
      ],
      "text/plain": [
       "      SK  Samsung     LG\n",
       "0  44000    70100  85000\n",
       "1  44500    70200  85500\n",
       "2  45000    70300  86000"
      ]
     },
     "execution_count": 319,
     "metadata": {},
     "output_type": "execute_result"
    }
   ],
   "source": [
    "prices = {\n",
    "    'SK' : [44000, 44500, 45000],\n",
    "    'Samsung' : [70100, 70200, 70300],\n",
    "    'LG' : [85000, 85500, 86000]\n",
    "}\n",
    "df1 = pd.DataFrame(prices)\n",
    "df1"
   ]
  },
  {
   "cell_type": "code",
   "execution_count": 320,
   "metadata": {},
   "outputs": [
    {
     "data": {
      "text/html": [
       "<div>\n",
       "<style scoped>\n",
       "    .dataframe tbody tr th:only-of-type {\n",
       "        vertical-align: middle;\n",
       "    }\n",
       "\n",
       "    .dataframe tbody tr th {\n",
       "        vertical-align: top;\n",
       "    }\n",
       "\n",
       "    .dataframe thead th {\n",
       "        text-align: right;\n",
       "    }\n",
       "</style>\n",
       "<table border=\"1\" class=\"dataframe\">\n",
       "  <thead>\n",
       "    <tr style=\"text-align: right;\">\n",
       "      <th></th>\n",
       "      <th>SK</th>\n",
       "      <th>Samsung</th>\n",
       "      <th>LG</th>\n",
       "    </tr>\n",
       "  </thead>\n",
       "  <tbody>\n",
       "    <tr>\n",
       "      <th>2023-01-01</th>\n",
       "      <td>44000</td>\n",
       "      <td>70100</td>\n",
       "      <td>85000</td>\n",
       "    </tr>\n",
       "    <tr>\n",
       "      <th>2023-01-02</th>\n",
       "      <td>44500</td>\n",
       "      <td>70200</td>\n",
       "      <td>85500</td>\n",
       "    </tr>\n",
       "    <tr>\n",
       "      <th>2023-01-03</th>\n",
       "      <td>45000</td>\n",
       "      <td>70300</td>\n",
       "      <td>86000</td>\n",
       "    </tr>\n",
       "  </tbody>\n",
       "</table>\n",
       "</div>"
      ],
      "text/plain": [
       "               SK  Samsung     LG\n",
       "2023-01-01  44000    70100  85000\n",
       "2023-01-02  44500    70200  85500\n",
       "2023-01-03  45000    70300  86000"
      ]
     },
     "execution_count": 320,
     "metadata": {},
     "output_type": "execute_result"
    }
   ],
   "source": [
    "df2 = pd.DataFrame(prices, index=dates)\n",
    "df2"
   ]
  },
  {
   "cell_type": "markdown",
   "metadata": {},
   "source": [
    "## 데이터 선택\n",
    "- loc : index, column 으로 데이터를 가져온다.\n",
    "1. 데이터프레임의 행이나 컬럼에 label이나 boolean array로 접근.\n",
    "2. location의 약어로, 인간이 읽을 수 있는 label 값으로 데이터에 접근하는 것이다. \n",
    "\n",
    "- iloc : 데이터 순서로 데이터를 가져온다.\n",
    "1. 데이터프레임의 행이나 컬럼에 인덱스 값으로 접근.\n",
    "2. integer location의 약어로, 컴퓨터가 읽을 수 있는 indexing 값으로 데이터에 접근하는 것이다."
   ]
  },
  {
   "cell_type": "code",
   "execution_count": 321,
   "metadata": {},
   "outputs": [
    {
     "data": {
      "text/html": [
       "<div>\n",
       "<style scoped>\n",
       "    .dataframe tbody tr th:only-of-type {\n",
       "        vertical-align: middle;\n",
       "    }\n",
       "\n",
       "    .dataframe tbody tr th {\n",
       "        vertical-align: top;\n",
       "    }\n",
       "\n",
       "    .dataframe thead th {\n",
       "        text-align: right;\n",
       "    }\n",
       "</style>\n",
       "<table border=\"1\" class=\"dataframe\">\n",
       "  <thead>\n",
       "    <tr style=\"text-align: right;\">\n",
       "      <th></th>\n",
       "      <th>SK</th>\n",
       "      <th>Samsung</th>\n",
       "      <th>LG</th>\n",
       "    </tr>\n",
       "  </thead>\n",
       "  <tbody>\n",
       "    <tr>\n",
       "      <th>2023-01-01</th>\n",
       "      <td>44000</td>\n",
       "      <td>70100</td>\n",
       "      <td>85000</td>\n",
       "    </tr>\n",
       "    <tr>\n",
       "      <th>2023-01-02</th>\n",
       "      <td>44500</td>\n",
       "      <td>70200</td>\n",
       "      <td>85500</td>\n",
       "    </tr>\n",
       "    <tr>\n",
       "      <th>2023-01-03</th>\n",
       "      <td>45000</td>\n",
       "      <td>70300</td>\n",
       "      <td>86000</td>\n",
       "    </tr>\n",
       "  </tbody>\n",
       "</table>\n",
       "</div>"
      ],
      "text/plain": [
       "               SK  Samsung     LG\n",
       "2023-01-01  44000    70100  85000\n",
       "2023-01-02  44500    70200  85500\n",
       "2023-01-03  45000    70300  86000"
      ]
     },
     "execution_count": 321,
     "metadata": {},
     "output_type": "execute_result"
    }
   ],
   "source": [
    "df2.iloc[:,:] # df2.iloc[:] # 동일하게 전체 출력"
   ]
  },
  {
   "cell_type": "code",
   "execution_count": 322,
   "metadata": {},
   "outputs": [
    {
     "data": {
      "text/plain": [
       "SK         44000\n",
       "Samsung    70100\n",
       "LG         85000\n",
       "Name: 2023-01-01 00:00:00, dtype: int64"
      ]
     },
     "execution_count": 322,
     "metadata": {},
     "output_type": "execute_result"
    }
   ],
   "source": [
    "df2.iloc[0] # 첫 행"
   ]
  },
  {
   "cell_type": "code",
   "execution_count": 323,
   "metadata": {},
   "outputs": [
    {
     "data": {
      "text/plain": [
       "2023-01-01    44000\n",
       "2023-01-02    44500\n",
       "2023-01-03    45000\n",
       "Freq: D, Name: SK, dtype: int64"
      ]
     },
     "execution_count": 323,
     "metadata": {},
     "output_type": "execute_result"
    }
   ],
   "source": [
    "df2.iloc[:,0] # 첫 행 전체 + 인덱스까지 출력\n",
    "# 행 전체\n",
    "# 열 0번째만"
   ]
  },
  {
   "cell_type": "code",
   "execution_count": 324,
   "metadata": {},
   "outputs": [
    {
     "data": {
      "text/plain": [
       "44000"
      ]
     },
     "execution_count": 324,
     "metadata": {},
     "output_type": "execute_result"
    }
   ],
   "source": [
    "df2.iloc[0,0]"
   ]
  },
  {
   "cell_type": "code",
   "execution_count": 325,
   "metadata": {},
   "outputs": [
    {
     "data": {
      "text/plain": [
       "SK         44500\n",
       "Samsung    70200\n",
       "LG         85500\n",
       "Name: 2023-01-02 00:00:00, dtype: int64"
      ]
     },
     "execution_count": 325,
     "metadata": {},
     "output_type": "execute_result"
    }
   ],
   "source": [
    "df2.loc['2023-01-02']"
   ]
  },
  {
   "cell_type": "code",
   "execution_count": 326,
   "metadata": {},
   "outputs": [
    {
     "data": {
      "text/plain": [
       "2023-01-01    44000\n",
       "2023-01-02    44500\n",
       "2023-01-03    45000\n",
       "Freq: D, Name: SK, dtype: int64"
      ]
     },
     "execution_count": 326,
     "metadata": {},
     "output_type": "execute_result"
    }
   ],
   "source": [
    "df2.loc[:,'SK']"
   ]
  },
  {
   "cell_type": "code",
   "execution_count": 327,
   "metadata": {},
   "outputs": [
    {
     "data": {
      "text/plain": [
       "2023-01-01    44000\n",
       "2023-01-02    44500\n",
       "2023-01-03    45000\n",
       "Freq: D, Name: SK, dtype: int64"
      ]
     },
     "execution_count": 327,
     "metadata": {},
     "output_type": "execute_result"
    }
   ],
   "source": [
    "df2.SK # df2.column"
   ]
  },
  {
   "cell_type": "code",
   "execution_count": 328,
   "metadata": {},
   "outputs": [
    {
     "data": {
      "text/html": [
       "<div>\n",
       "<style scoped>\n",
       "    .dataframe tbody tr th:only-of-type {\n",
       "        vertical-align: middle;\n",
       "    }\n",
       "\n",
       "    .dataframe tbody tr th {\n",
       "        vertical-align: top;\n",
       "    }\n",
       "\n",
       "    .dataframe thead th {\n",
       "        text-align: right;\n",
       "    }\n",
       "</style>\n",
       "<table border=\"1\" class=\"dataframe\">\n",
       "  <thead>\n",
       "    <tr style=\"text-align: right;\">\n",
       "      <th></th>\n",
       "      <th>SK</th>\n",
       "      <th>Samsung</th>\n",
       "      <th>LG</th>\n",
       "      <th>POSCO</th>\n",
       "    </tr>\n",
       "  </thead>\n",
       "  <tbody>\n",
       "    <tr>\n",
       "      <th>2023-01-01</th>\n",
       "      <td>44000</td>\n",
       "      <td>70100</td>\n",
       "      <td>85000</td>\n",
       "      <td>450000</td>\n",
       "    </tr>\n",
       "    <tr>\n",
       "      <th>2023-01-02</th>\n",
       "      <td>44500</td>\n",
       "      <td>70200</td>\n",
       "      <td>85500</td>\n",
       "      <td>455000</td>\n",
       "    </tr>\n",
       "    <tr>\n",
       "      <th>2023-01-03</th>\n",
       "      <td>45000</td>\n",
       "      <td>70300</td>\n",
       "      <td>86000</td>\n",
       "      <td>460000</td>\n",
       "    </tr>\n",
       "  </tbody>\n",
       "</table>\n",
       "</div>"
      ],
      "text/plain": [
       "               SK  Samsung     LG   POSCO\n",
       "2023-01-01  44000    70100  85000  450000\n",
       "2023-01-02  44500    70200  85500  455000\n",
       "2023-01-03  45000    70300  86000  460000"
      ]
     },
     "execution_count": 328,
     "metadata": {},
     "output_type": "execute_result"
    }
   ],
   "source": [
    "df2['POSCO'] = [450000,455000,460000]\n",
    "df2"
   ]
  },
  {
   "cell_type": "code",
   "execution_count": 329,
   "metadata": {},
   "outputs": [
    {
     "data": {
      "text/html": [
       "<div>\n",
       "<style scoped>\n",
       "    .dataframe tbody tr th:only-of-type {\n",
       "        vertical-align: middle;\n",
       "    }\n",
       "\n",
       "    .dataframe tbody tr th {\n",
       "        vertical-align: top;\n",
       "    }\n",
       "\n",
       "    .dataframe thead th {\n",
       "        text-align: right;\n",
       "    }\n",
       "</style>\n",
       "<table border=\"1\" class=\"dataframe\">\n",
       "  <thead>\n",
       "    <tr style=\"text-align: right;\">\n",
       "      <th></th>\n",
       "      <th>Samsung</th>\n",
       "      <th>LG</th>\n",
       "    </tr>\n",
       "  </thead>\n",
       "  <tbody>\n",
       "    <tr>\n",
       "      <th>2023-01-02</th>\n",
       "      <td>70200</td>\n",
       "      <td>85500</td>\n",
       "    </tr>\n",
       "    <tr>\n",
       "      <th>2023-01-03</th>\n",
       "      <td>70300</td>\n",
       "      <td>86000</td>\n",
       "    </tr>\n",
       "  </tbody>\n",
       "</table>\n",
       "</div>"
      ],
      "text/plain": [
       "            Samsung     LG\n",
       "2023-01-02    70200  85500\n",
       "2023-01-03    70300  86000"
      ]
     },
     "execution_count": 329,
     "metadata": {},
     "output_type": "execute_result"
    }
   ],
   "source": [
    "# 실습\n",
    "# Q1. 2023년 1월 2일 ~ 2023 1월 3일 까지의 '삼성전자', 'LG전자' 데이터를 가져와주세요.\n",
    "df2.iloc[1:3,[1,2]]"
   ]
  },
  {
   "cell_type": "code",
   "execution_count": 330,
   "metadata": {},
   "outputs": [
    {
     "data": {
      "text/html": [
       "<div>\n",
       "<style scoped>\n",
       "    .dataframe tbody tr th:only-of-type {\n",
       "        vertical-align: middle;\n",
       "    }\n",
       "\n",
       "    .dataframe tbody tr th {\n",
       "        vertical-align: top;\n",
       "    }\n",
       "\n",
       "    .dataframe thead th {\n",
       "        text-align: right;\n",
       "    }\n",
       "</style>\n",
       "<table border=\"1\" class=\"dataframe\">\n",
       "  <thead>\n",
       "    <tr style=\"text-align: right;\">\n",
       "      <th></th>\n",
       "      <th>Samsung</th>\n",
       "      <th>LG</th>\n",
       "    </tr>\n",
       "  </thead>\n",
       "  <tbody>\n",
       "    <tr>\n",
       "      <th>2023-01-02</th>\n",
       "      <td>70200</td>\n",
       "      <td>85500</td>\n",
       "    </tr>\n",
       "    <tr>\n",
       "      <th>2023-01-03</th>\n",
       "      <td>70300</td>\n",
       "      <td>86000</td>\n",
       "    </tr>\n",
       "  </tbody>\n",
       "</table>\n",
       "</div>"
      ],
      "text/plain": [
       "            Samsung     LG\n",
       "2023-01-02    70200  85500\n",
       "2023-01-03    70300  86000"
      ]
     },
     "execution_count": 330,
     "metadata": {},
     "output_type": "execute_result"
    }
   ],
   "source": [
    "df2.loc['2023-01-02':'2023-01-03','Samsung':'LG']"
   ]
  },
  {
   "cell_type": "code",
   "execution_count": 331,
   "metadata": {},
   "outputs": [
    {
     "data": {
      "text/plain": [
       "70200"
      ]
     },
     "execution_count": 331,
     "metadata": {},
     "output_type": "execute_result"
    }
   ],
   "source": [
    "# Q2. 데이터 70200원 가져오기 (iloc, loc 각각 활용)\n",
    "df2.Samsung[1]"
   ]
  },
  {
   "cell_type": "code",
   "execution_count": 332,
   "metadata": {},
   "outputs": [
    {
     "data": {
      "text/plain": [
       "70200"
      ]
     },
     "execution_count": 332,
     "metadata": {},
     "output_type": "execute_result"
    }
   ],
   "source": [
    "df2.iloc[1,1]"
   ]
  },
  {
   "cell_type": "code",
   "execution_count": 333,
   "metadata": {},
   "outputs": [
    {
     "data": {
      "text/plain": [
       "70200"
      ]
     },
     "execution_count": 333,
     "metadata": {},
     "output_type": "execute_result"
    }
   ],
   "source": [
    "df2.loc['2023-01-02','Samsung']"
   ]
  },
  {
   "cell_type": "code",
   "execution_count": 334,
   "metadata": {},
   "outputs": [
    {
     "name": "stdout",
     "output_type": "stream",
     "text": [
      "               SK  Samsung     LG   POSCO\n",
      "2023-01-01  44000    70100  85000  450000\n",
      "2023-01-02  44500    70200  85500  455000\n",
      "2023-01-03  45000    70300  86000  460000\n"
     ]
    }
   ],
   "source": [
    "print(df2.head())"
   ]
  },
  {
   "cell_type": "markdown",
   "metadata": {},
   "source": [
    "# 데이터프레임 확장\n",
    "- concat : 그냥 가져다 붙이는 거\n",
    "- merge : 공통고니 칼럼이나 인덱스가 있는가 있는 경우"
   ]
  },
  {
   "cell_type": "code",
   "execution_count": 335,
   "metadata": {},
   "outputs": [],
   "source": [
    "s1 = pd.Series([500000, 500500, 501000], index=dates, name='LG화학')\n"
   ]
  },
  {
   "cell_type": "code",
   "execution_count": 336,
   "metadata": {},
   "outputs": [
    {
     "data": {
      "text/html": [
       "<div>\n",
       "<style scoped>\n",
       "    .dataframe tbody tr th:only-of-type {\n",
       "        vertical-align: middle;\n",
       "    }\n",
       "\n",
       "    .dataframe tbody tr th {\n",
       "        vertical-align: top;\n",
       "    }\n",
       "\n",
       "    .dataframe thead th {\n",
       "        text-align: right;\n",
       "    }\n",
       "</style>\n",
       "<table border=\"1\" class=\"dataframe\">\n",
       "  <thead>\n",
       "    <tr style=\"text-align: right;\">\n",
       "      <th></th>\n",
       "      <th>SK</th>\n",
       "      <th>Samsung</th>\n",
       "      <th>LG</th>\n",
       "      <th>POSCO</th>\n",
       "      <th>LG화학</th>\n",
       "    </tr>\n",
       "  </thead>\n",
       "  <tbody>\n",
       "    <tr>\n",
       "      <th>2023-01-01</th>\n",
       "      <td>44000</td>\n",
       "      <td>70100</td>\n",
       "      <td>85000</td>\n",
       "      <td>450000</td>\n",
       "      <td>500000</td>\n",
       "    </tr>\n",
       "    <tr>\n",
       "      <th>2023-01-02</th>\n",
       "      <td>44500</td>\n",
       "      <td>70200</td>\n",
       "      <td>85500</td>\n",
       "      <td>455000</td>\n",
       "      <td>500500</td>\n",
       "    </tr>\n",
       "    <tr>\n",
       "      <th>2023-01-03</th>\n",
       "      <td>45000</td>\n",
       "      <td>70300</td>\n",
       "      <td>86000</td>\n",
       "      <td>460000</td>\n",
       "      <td>501000</td>\n",
       "    </tr>\n",
       "  </tbody>\n",
       "</table>\n",
       "</div>"
      ],
      "text/plain": [
       "               SK  Samsung     LG   POSCO    LG화학\n",
       "2023-01-01  44000    70100  85000  450000  500000\n",
       "2023-01-02  44500    70200  85500  455000  500500\n",
       "2023-01-03  45000    70300  86000  460000  501000"
      ]
     },
     "execution_count": 336,
     "metadata": {},
     "output_type": "execute_result"
    }
   ],
   "source": [
    "concat_df2 = pd.concat([df2, s1], axis=1)\n",
    "concat_df2.head()"
   ]
  },
  {
   "cell_type": "code",
   "execution_count": 337,
   "metadata": {},
   "outputs": [
    {
     "data": {
      "text/html": [
       "<div>\n",
       "<style scoped>\n",
       "    .dataframe tbody tr th:only-of-type {\n",
       "        vertical-align: middle;\n",
       "    }\n",
       "\n",
       "    .dataframe tbody tr th {\n",
       "        vertical-align: top;\n",
       "    }\n",
       "\n",
       "    .dataframe thead th {\n",
       "        text-align: right;\n",
       "    }\n",
       "</style>\n",
       "<table border=\"1\" class=\"dataframe\">\n",
       "  <thead>\n",
       "    <tr style=\"text-align: right;\">\n",
       "      <th></th>\n",
       "      <th>SK</th>\n",
       "      <th>Samsung</th>\n",
       "      <th>LG</th>\n",
       "      <th>POSCO</th>\n",
       "      <th>LG화학</th>\n",
       "      <th>이더리움</th>\n",
       "    </tr>\n",
       "  </thead>\n",
       "  <tbody>\n",
       "    <tr>\n",
       "      <th>2023-01-01</th>\n",
       "      <td>44000</td>\n",
       "      <td>70100</td>\n",
       "      <td>85000</td>\n",
       "      <td>450000</td>\n",
       "      <td>500000</td>\n",
       "      <td>600000</td>\n",
       "    </tr>\n",
       "    <tr>\n",
       "      <th>2023-01-02</th>\n",
       "      <td>44500</td>\n",
       "      <td>70200</td>\n",
       "      <td>85500</td>\n",
       "      <td>455000</td>\n",
       "      <td>500500</td>\n",
       "      <td>600500</td>\n",
       "    </tr>\n",
       "    <tr>\n",
       "      <th>2023-01-03</th>\n",
       "      <td>45000</td>\n",
       "      <td>70300</td>\n",
       "      <td>86000</td>\n",
       "      <td>460000</td>\n",
       "      <td>501000</td>\n",
       "      <td>601000</td>\n",
       "    </tr>\n",
       "  </tbody>\n",
       "</table>\n",
       "</div>"
      ],
      "text/plain": [
       "               SK  Samsung     LG   POSCO    LG화학    이더리움\n",
       "2023-01-01  44000    70100  85000  450000  500000  600000\n",
       "2023-01-02  44500    70200  85500  455000  500500  600500\n",
       "2023-01-03  45000    70300  86000  460000  501000  601000"
      ]
     },
     "execution_count": 337,
     "metadata": {},
     "output_type": "execute_result"
    }
   ],
   "source": [
    "s2 = pd.Series([600000, 600500, 601000], index=dates, name='이더리움')\n",
    "concat_df2 = pd.concat([concat_df2, s2], axis=1)\n",
    "concat_df2.head()"
   ]
  },
  {
   "cell_type": "code",
   "execution_count": 338,
   "metadata": {},
   "outputs": [
    {
     "data": {
      "text/html": [
       "<div>\n",
       "<style scoped>\n",
       "    .dataframe tbody tr th:only-of-type {\n",
       "        vertical-align: middle;\n",
       "    }\n",
       "\n",
       "    .dataframe tbody tr th {\n",
       "        vertical-align: top;\n",
       "    }\n",
       "\n",
       "    .dataframe thead th {\n",
       "        text-align: right;\n",
       "    }\n",
       "</style>\n",
       "<table border=\"1\" class=\"dataframe\">\n",
       "  <thead>\n",
       "    <tr style=\"text-align: right;\">\n",
       "      <th></th>\n",
       "      <th>SK</th>\n",
       "      <th>Samsung</th>\n",
       "      <th>LG</th>\n",
       "      <th>POSCO</th>\n",
       "      <th>LG화학</th>\n",
       "      <th>이더리움</th>\n",
       "    </tr>\n",
       "  </thead>\n",
       "  <tbody>\n",
       "    <tr>\n",
       "      <th>2023-01-01</th>\n",
       "      <td>44000.0</td>\n",
       "      <td>70100.0</td>\n",
       "      <td>85000.0</td>\n",
       "      <td>450000.0</td>\n",
       "      <td>500000.0</td>\n",
       "      <td>600000.0</td>\n",
       "    </tr>\n",
       "    <tr>\n",
       "      <th>2023-01-02</th>\n",
       "      <td>44500.0</td>\n",
       "      <td>70200.0</td>\n",
       "      <td>85500.0</td>\n",
       "      <td>455000.0</td>\n",
       "      <td>500500.0</td>\n",
       "      <td>600500.0</td>\n",
       "    </tr>\n",
       "    <tr>\n",
       "      <th>2023-01-03</th>\n",
       "      <td>45000.0</td>\n",
       "      <td>70300.0</td>\n",
       "      <td>86000.0</td>\n",
       "      <td>460000.0</td>\n",
       "      <td>501000.0</td>\n",
       "      <td>601000.0</td>\n",
       "    </tr>\n",
       "    <tr>\n",
       "      <th>2023-01-06</th>\n",
       "      <td>44000.0</td>\n",
       "      <td>70100.0</td>\n",
       "      <td>85000.0</td>\n",
       "      <td>455000.0</td>\n",
       "      <td>505000.0</td>\n",
       "      <td>505500.0</td>\n",
       "    </tr>\n",
       "  </tbody>\n",
       "</table>\n",
       "</div>"
      ],
      "text/plain": [
       "                 SK  Samsung       LG     POSCO      LG화학      이더리움\n",
       "2023-01-01  44000.0  70100.0  85000.0  450000.0  500000.0  600000.0\n",
       "2023-01-02  44500.0  70200.0  85500.0  455000.0  500500.0  600500.0\n",
       "2023-01-03  45000.0  70300.0  86000.0  460000.0  501000.0  601000.0\n",
       "2023-01-06  44000.0  70100.0  85000.0  455000.0  505000.0  505500.0"
      ]
     },
     "execution_count": 338,
     "metadata": {},
     "output_type": "execute_result"
    }
   ],
   "source": [
    "concat_df2.loc['2023-01-06',:] = [44000, 70100, 85000, 455000, 505000, 505500]\n",
    "concat_df2.head()"
   ]
  },
  {
   "cell_type": "code",
   "execution_count": 339,
   "metadata": {},
   "outputs": [
    {
     "data": {
      "text/html": [
       "<div>\n",
       "<style scoped>\n",
       "    .dataframe tbody tr th:only-of-type {\n",
       "        vertical-align: middle;\n",
       "    }\n",
       "\n",
       "    .dataframe tbody tr th {\n",
       "        vertical-align: top;\n",
       "    }\n",
       "\n",
       "    .dataframe thead th {\n",
       "        text-align: right;\n",
       "    }\n",
       "</style>\n",
       "<table border=\"1\" class=\"dataframe\">\n",
       "  <thead>\n",
       "    <tr style=\"text-align: right;\">\n",
       "      <th></th>\n",
       "      <th>SK</th>\n",
       "      <th>Samsung</th>\n",
       "      <th>LG</th>\n",
       "      <th>POSCO</th>\n",
       "      <th>LG화학</th>\n",
       "      <th>이더리움</th>\n",
       "    </tr>\n",
       "  </thead>\n",
       "  <tbody>\n",
       "    <tr>\n",
       "      <th>2023-01-01</th>\n",
       "      <td>44000.0</td>\n",
       "      <td>70100.0</td>\n",
       "      <td>85000.0</td>\n",
       "      <td>450000.0</td>\n",
       "      <td>500000.0</td>\n",
       "      <td>600000.0</td>\n",
       "    </tr>\n",
       "    <tr>\n",
       "      <th>2023-01-02</th>\n",
       "      <td>44500.0</td>\n",
       "      <td>70200.0</td>\n",
       "      <td>85500.0</td>\n",
       "      <td>455000.0</td>\n",
       "      <td>500500.0</td>\n",
       "      <td>600500.0</td>\n",
       "    </tr>\n",
       "    <tr>\n",
       "      <th>2023-01-03</th>\n",
       "      <td>45000.0</td>\n",
       "      <td>70300.0</td>\n",
       "      <td>86000.0</td>\n",
       "      <td>460000.0</td>\n",
       "      <td>501000.0</td>\n",
       "      <td>601000.0</td>\n",
       "    </tr>\n",
       "    <tr>\n",
       "      <th>2023-01-06</th>\n",
       "      <td>44000.0</td>\n",
       "      <td>70100.0</td>\n",
       "      <td>85000.0</td>\n",
       "      <td>455000.0</td>\n",
       "      <td>505000.0</td>\n",
       "      <td>505500.0</td>\n",
       "    </tr>\n",
       "    <tr>\n",
       "      <th>2023-01-05</th>\n",
       "      <td>43900.0</td>\n",
       "      <td>70000.0</td>\n",
       "      <td>84900.0</td>\n",
       "      <td>454900.0</td>\n",
       "      <td>504900.0</td>\n",
       "      <td>505400.0</td>\n",
       "    </tr>\n",
       "  </tbody>\n",
       "</table>\n",
       "</div>"
      ],
      "text/plain": [
       "                 SK  Samsung       LG     POSCO      LG화학      이더리움\n",
       "2023-01-01  44000.0  70100.0  85000.0  450000.0  500000.0  600000.0\n",
       "2023-01-02  44500.0  70200.0  85500.0  455000.0  500500.0  600500.0\n",
       "2023-01-03  45000.0  70300.0  86000.0  460000.0  501000.0  601000.0\n",
       "2023-01-06  44000.0  70100.0  85000.0  455000.0  505000.0  505500.0\n",
       "2023-01-05  43900.0  70000.0  84900.0  454900.0  504900.0  505400.0"
      ]
     },
     "execution_count": 339,
     "metadata": {},
     "output_type": "execute_result"
    }
   ],
   "source": [
    "concat_df2.loc['2023-01-05',:] = concat_df2.loc['2023-01-06',:] - 100\n",
    "concat_df2.head()"
   ]
  },
  {
   "cell_type": "code",
   "execution_count": 340,
   "metadata": {},
   "outputs": [
    {
     "data": {
      "text/html": [
       "<div>\n",
       "<style scoped>\n",
       "    .dataframe tbody tr th:only-of-type {\n",
       "        vertical-align: middle;\n",
       "    }\n",
       "\n",
       "    .dataframe tbody tr th {\n",
       "        vertical-align: top;\n",
       "    }\n",
       "\n",
       "    .dataframe thead th {\n",
       "        text-align: right;\n",
       "    }\n",
       "</style>\n",
       "<table border=\"1\" class=\"dataframe\">\n",
       "  <thead>\n",
       "    <tr style=\"text-align: right;\">\n",
       "      <th></th>\n",
       "      <th>SK</th>\n",
       "      <th>Samsung</th>\n",
       "      <th>LG</th>\n",
       "      <th>POSCO</th>\n",
       "      <th>LG화학</th>\n",
       "      <th>이더리움</th>\n",
       "    </tr>\n",
       "  </thead>\n",
       "  <tbody>\n",
       "    <tr>\n",
       "      <th>2023-01-01</th>\n",
       "      <td>44000.0</td>\n",
       "      <td>70100.0</td>\n",
       "      <td>85000.0</td>\n",
       "      <td>450000.0</td>\n",
       "      <td>500000.0</td>\n",
       "      <td>600000.0</td>\n",
       "    </tr>\n",
       "    <tr>\n",
       "      <th>2023-01-02</th>\n",
       "      <td>44500.0</td>\n",
       "      <td>70200.0</td>\n",
       "      <td>85500.0</td>\n",
       "      <td>455000.0</td>\n",
       "      <td>500500.0</td>\n",
       "      <td>600500.0</td>\n",
       "    </tr>\n",
       "    <tr>\n",
       "      <th>2023-01-03</th>\n",
       "      <td>45000.0</td>\n",
       "      <td>70300.0</td>\n",
       "      <td>86000.0</td>\n",
       "      <td>460000.0</td>\n",
       "      <td>501000.0</td>\n",
       "      <td>601000.0</td>\n",
       "    </tr>\n",
       "    <tr>\n",
       "      <th>2023-01-05</th>\n",
       "      <td>43900.0</td>\n",
       "      <td>70000.0</td>\n",
       "      <td>84900.0</td>\n",
       "      <td>454900.0</td>\n",
       "      <td>504900.0</td>\n",
       "      <td>505400.0</td>\n",
       "    </tr>\n",
       "    <tr>\n",
       "      <th>2023-01-06</th>\n",
       "      <td>44000.0</td>\n",
       "      <td>70100.0</td>\n",
       "      <td>85000.0</td>\n",
       "      <td>455000.0</td>\n",
       "      <td>505000.0</td>\n",
       "      <td>505500.0</td>\n",
       "    </tr>\n",
       "  </tbody>\n",
       "</table>\n",
       "</div>"
      ],
      "text/plain": [
       "                 SK  Samsung       LG     POSCO      LG화학      이더리움\n",
       "2023-01-01  44000.0  70100.0  85000.0  450000.0  500000.0  600000.0\n",
       "2023-01-02  44500.0  70200.0  85500.0  455000.0  500500.0  600500.0\n",
       "2023-01-03  45000.0  70300.0  86000.0  460000.0  501000.0  601000.0\n",
       "2023-01-05  43900.0  70000.0  84900.0  454900.0  504900.0  505400.0\n",
       "2023-01-06  44000.0  70100.0  85000.0  455000.0  505000.0  505500.0"
      ]
     },
     "execution_count": 340,
     "metadata": {},
     "output_type": "execute_result"
    }
   ],
   "source": [
    "concat_df2.sort_index() # 인덱스 정렬 후 출력"
   ]
  },
  {
   "cell_type": "code",
   "execution_count": 341,
   "metadata": {},
   "outputs": [
    {
     "data": {
      "text/html": [
       "<div>\n",
       "<style scoped>\n",
       "    .dataframe tbody tr th:only-of-type {\n",
       "        vertical-align: middle;\n",
       "    }\n",
       "\n",
       "    .dataframe tbody tr th {\n",
       "        vertical-align: top;\n",
       "    }\n",
       "\n",
       "    .dataframe thead th {\n",
       "        text-align: right;\n",
       "    }\n",
       "</style>\n",
       "<table border=\"1\" class=\"dataframe\">\n",
       "  <thead>\n",
       "    <tr style=\"text-align: right;\">\n",
       "      <th></th>\n",
       "      <th>SK</th>\n",
       "      <th>Samsung</th>\n",
       "      <th>LG</th>\n",
       "      <th>POSCO</th>\n",
       "      <th>LG화학</th>\n",
       "      <th>이더리움</th>\n",
       "    </tr>\n",
       "  </thead>\n",
       "  <tbody>\n",
       "    <tr>\n",
       "      <th>2023-01-05</th>\n",
       "      <td>43900.0</td>\n",
       "      <td>70000.0</td>\n",
       "      <td>84900.0</td>\n",
       "      <td>454900.0</td>\n",
       "      <td>504900.0</td>\n",
       "      <td>505400.0</td>\n",
       "    </tr>\n",
       "    <tr>\n",
       "      <th>2023-01-01</th>\n",
       "      <td>44000.0</td>\n",
       "      <td>70100.0</td>\n",
       "      <td>85000.0</td>\n",
       "      <td>450000.0</td>\n",
       "      <td>500000.0</td>\n",
       "      <td>600000.0</td>\n",
       "    </tr>\n",
       "    <tr>\n",
       "      <th>2023-01-06</th>\n",
       "      <td>44000.0</td>\n",
       "      <td>70100.0</td>\n",
       "      <td>85000.0</td>\n",
       "      <td>455000.0</td>\n",
       "      <td>505000.0</td>\n",
       "      <td>505500.0</td>\n",
       "    </tr>\n",
       "    <tr>\n",
       "      <th>2023-01-02</th>\n",
       "      <td>44500.0</td>\n",
       "      <td>70200.0</td>\n",
       "      <td>85500.0</td>\n",
       "      <td>455000.0</td>\n",
       "      <td>500500.0</td>\n",
       "      <td>600500.0</td>\n",
       "    </tr>\n",
       "    <tr>\n",
       "      <th>2023-01-03</th>\n",
       "      <td>45000.0</td>\n",
       "      <td>70300.0</td>\n",
       "      <td>86000.0</td>\n",
       "      <td>460000.0</td>\n",
       "      <td>501000.0</td>\n",
       "      <td>601000.0</td>\n",
       "    </tr>\n",
       "  </tbody>\n",
       "</table>\n",
       "</div>"
      ],
      "text/plain": [
       "                 SK  Samsung       LG     POSCO      LG화학      이더리움\n",
       "2023-01-05  43900.0  70000.0  84900.0  454900.0  504900.0  505400.0\n",
       "2023-01-01  44000.0  70100.0  85000.0  450000.0  500000.0  600000.0\n",
       "2023-01-06  44000.0  70100.0  85000.0  455000.0  505000.0  505500.0\n",
       "2023-01-02  44500.0  70200.0  85500.0  455000.0  500500.0  600500.0\n",
       "2023-01-03  45000.0  70300.0  86000.0  460000.0  501000.0  601000.0"
      ]
     },
     "execution_count": 341,
     "metadata": {},
     "output_type": "execute_result"
    }
   ],
   "source": [
    "concat_df2.sort_values(by='Samsung') # 오름차순"
   ]
  },
  {
   "cell_type": "code",
   "execution_count": 342,
   "metadata": {},
   "outputs": [
    {
     "data": {
      "text/html": [
       "<div>\n",
       "<style scoped>\n",
       "    .dataframe tbody tr th:only-of-type {\n",
       "        vertical-align: middle;\n",
       "    }\n",
       "\n",
       "    .dataframe tbody tr th {\n",
       "        vertical-align: top;\n",
       "    }\n",
       "\n",
       "    .dataframe thead th {\n",
       "        text-align: right;\n",
       "    }\n",
       "</style>\n",
       "<table border=\"1\" class=\"dataframe\">\n",
       "  <thead>\n",
       "    <tr style=\"text-align: right;\">\n",
       "      <th></th>\n",
       "      <th>SK</th>\n",
       "      <th>Samsung</th>\n",
       "      <th>LG</th>\n",
       "      <th>POSCO</th>\n",
       "      <th>LG화학</th>\n",
       "      <th>이더리움</th>\n",
       "    </tr>\n",
       "  </thead>\n",
       "  <tbody>\n",
       "    <tr>\n",
       "      <th>2023-01-03</th>\n",
       "      <td>45000.0</td>\n",
       "      <td>70300.0</td>\n",
       "      <td>86000.0</td>\n",
       "      <td>460000.0</td>\n",
       "      <td>501000.0</td>\n",
       "      <td>601000.0</td>\n",
       "    </tr>\n",
       "    <tr>\n",
       "      <th>2023-01-02</th>\n",
       "      <td>44500.0</td>\n",
       "      <td>70200.0</td>\n",
       "      <td>85500.0</td>\n",
       "      <td>455000.0</td>\n",
       "      <td>500500.0</td>\n",
       "      <td>600500.0</td>\n",
       "    </tr>\n",
       "    <tr>\n",
       "      <th>2023-01-01</th>\n",
       "      <td>44000.0</td>\n",
       "      <td>70100.0</td>\n",
       "      <td>85000.0</td>\n",
       "      <td>450000.0</td>\n",
       "      <td>500000.0</td>\n",
       "      <td>600000.0</td>\n",
       "    </tr>\n",
       "    <tr>\n",
       "      <th>2023-01-06</th>\n",
       "      <td>44000.0</td>\n",
       "      <td>70100.0</td>\n",
       "      <td>85000.0</td>\n",
       "      <td>455000.0</td>\n",
       "      <td>505000.0</td>\n",
       "      <td>505500.0</td>\n",
       "    </tr>\n",
       "    <tr>\n",
       "      <th>2023-01-05</th>\n",
       "      <td>43900.0</td>\n",
       "      <td>70000.0</td>\n",
       "      <td>84900.0</td>\n",
       "      <td>454900.0</td>\n",
       "      <td>504900.0</td>\n",
       "      <td>505400.0</td>\n",
       "    </tr>\n",
       "  </tbody>\n",
       "</table>\n",
       "</div>"
      ],
      "text/plain": [
       "                 SK  Samsung       LG     POSCO      LG화학      이더리움\n",
       "2023-01-03  45000.0  70300.0  86000.0  460000.0  501000.0  601000.0\n",
       "2023-01-02  44500.0  70200.0  85500.0  455000.0  500500.0  600500.0\n",
       "2023-01-01  44000.0  70100.0  85000.0  450000.0  500000.0  600000.0\n",
       "2023-01-06  44000.0  70100.0  85000.0  455000.0  505000.0  505500.0\n",
       "2023-01-05  43900.0  70000.0  84900.0  454900.0  504900.0  505400.0"
      ]
     },
     "execution_count": 342,
     "metadata": {},
     "output_type": "execute_result"
    }
   ],
   "source": [
    "concat_df2.sort_values(by='Samsung', ascending=False) # 내림차순"
   ]
  },
  {
   "cell_type": "code",
   "execution_count": 343,
   "metadata": {},
   "outputs": [
    {
     "data": {
      "text/html": [
       "<div>\n",
       "<style scoped>\n",
       "    .dataframe tbody tr th:only-of-type {\n",
       "        vertical-align: middle;\n",
       "    }\n",
       "\n",
       "    .dataframe tbody tr th {\n",
       "        vertical-align: top;\n",
       "    }\n",
       "\n",
       "    .dataframe thead th {\n",
       "        text-align: right;\n",
       "    }\n",
       "</style>\n",
       "<table border=\"1\" class=\"dataframe\">\n",
       "  <thead>\n",
       "    <tr style=\"text-align: right;\">\n",
       "      <th></th>\n",
       "      <th>SK</th>\n",
       "      <th>Samsung</th>\n",
       "      <th>LG</th>\n",
       "      <th>POSCO</th>\n",
       "      <th>LG화학</th>\n",
       "      <th>이더리움</th>\n",
       "    </tr>\n",
       "  </thead>\n",
       "  <tbody>\n",
       "    <tr>\n",
       "      <th>2023-01-01</th>\n",
       "      <td>44000.0</td>\n",
       "      <td>70100.0</td>\n",
       "      <td>85000.0</td>\n",
       "      <td>450000.0</td>\n",
       "      <td>500000.0</td>\n",
       "      <td>600000.0</td>\n",
       "    </tr>\n",
       "    <tr>\n",
       "      <th>2023-01-02</th>\n",
       "      <td>44500.0</td>\n",
       "      <td>70200.0</td>\n",
       "      <td>85500.0</td>\n",
       "      <td>455000.0</td>\n",
       "      <td>500500.0</td>\n",
       "      <td>600500.0</td>\n",
       "    </tr>\n",
       "    <tr>\n",
       "      <th>2023-01-06</th>\n",
       "      <td>44000.0</td>\n",
       "      <td>70100.0</td>\n",
       "      <td>85000.0</td>\n",
       "      <td>455000.0</td>\n",
       "      <td>505000.0</td>\n",
       "      <td>505500.0</td>\n",
       "    </tr>\n",
       "    <tr>\n",
       "      <th>2023-01-05</th>\n",
       "      <td>43900.0</td>\n",
       "      <td>70000.0</td>\n",
       "      <td>84900.0</td>\n",
       "      <td>454900.0</td>\n",
       "      <td>504900.0</td>\n",
       "      <td>505400.0</td>\n",
       "    </tr>\n",
       "  </tbody>\n",
       "</table>\n",
       "</div>"
      ],
      "text/plain": [
       "                 SK  Samsung       LG     POSCO      LG화학      이더리움\n",
       "2023-01-01  44000.0  70100.0  85000.0  450000.0  500000.0  600000.0\n",
       "2023-01-02  44500.0  70200.0  85500.0  455000.0  500500.0  600500.0\n",
       "2023-01-06  44000.0  70100.0  85000.0  455000.0  505000.0  505500.0\n",
       "2023-01-05  43900.0  70000.0  84900.0  454900.0  504900.0  505400.0"
      ]
     },
     "execution_count": 343,
     "metadata": {},
     "output_type": "execute_result"
    }
   ],
   "source": [
    "concat_df2.drop('2023-01-03') # 변수에 저장되지 않고 출력만 된다."
   ]
  },
  {
   "cell_type": "code",
   "execution_count": 344,
   "metadata": {},
   "outputs": [
    {
     "data": {
      "text/html": [
       "<div>\n",
       "<style scoped>\n",
       "    .dataframe tbody tr th:only-of-type {\n",
       "        vertical-align: middle;\n",
       "    }\n",
       "\n",
       "    .dataframe tbody tr th {\n",
       "        vertical-align: top;\n",
       "    }\n",
       "\n",
       "    .dataframe thead th {\n",
       "        text-align: right;\n",
       "    }\n",
       "</style>\n",
       "<table border=\"1\" class=\"dataframe\">\n",
       "  <thead>\n",
       "    <tr style=\"text-align: right;\">\n",
       "      <th></th>\n",
       "      <th>SK</th>\n",
       "      <th>Samsung</th>\n",
       "      <th>LG</th>\n",
       "      <th>POSCO</th>\n",
       "      <th>LG화학</th>\n",
       "      <th>이더리움</th>\n",
       "    </tr>\n",
       "  </thead>\n",
       "  <tbody>\n",
       "    <tr>\n",
       "      <th>2023-01-01</th>\n",
       "      <td>44000.0</td>\n",
       "      <td>70100.0</td>\n",
       "      <td>85000.0</td>\n",
       "      <td>450000.0</td>\n",
       "      <td>500000.0</td>\n",
       "      <td>600000.0</td>\n",
       "    </tr>\n",
       "    <tr>\n",
       "      <th>2023-01-02</th>\n",
       "      <td>44500.0</td>\n",
       "      <td>70200.0</td>\n",
       "      <td>85500.0</td>\n",
       "      <td>455000.0</td>\n",
       "      <td>500500.0</td>\n",
       "      <td>600500.0</td>\n",
       "    </tr>\n",
       "    <tr>\n",
       "      <th>2023-01-06</th>\n",
       "      <td>44000.0</td>\n",
       "      <td>70100.0</td>\n",
       "      <td>85000.0</td>\n",
       "      <td>455000.0</td>\n",
       "      <td>505000.0</td>\n",
       "      <td>505500.0</td>\n",
       "    </tr>\n",
       "    <tr>\n",
       "      <th>2023-01-05</th>\n",
       "      <td>43900.0</td>\n",
       "      <td>70000.0</td>\n",
       "      <td>84900.0</td>\n",
       "      <td>454900.0</td>\n",
       "      <td>504900.0</td>\n",
       "      <td>505400.0</td>\n",
       "    </tr>\n",
       "  </tbody>\n",
       "</table>\n",
       "</div>"
      ],
      "text/plain": [
       "                 SK  Samsung       LG     POSCO      LG화학      이더리움\n",
       "2023-01-01  44000.0  70100.0  85000.0  450000.0  500000.0  600000.0\n",
       "2023-01-02  44500.0  70200.0  85500.0  455000.0  500500.0  600500.0\n",
       "2023-01-06  44000.0  70100.0  85000.0  455000.0  505000.0  505500.0\n",
       "2023-01-05  43900.0  70000.0  84900.0  454900.0  504900.0  505400.0"
      ]
     },
     "execution_count": 344,
     "metadata": {},
     "output_type": "execute_result"
    }
   ],
   "source": [
    "concat_df2.drop('2023-01-03',inplace=True) # inplace 옵션으로 저장된다.\n",
    "concat_df2.head()"
   ]
  },
  {
   "cell_type": "code",
   "execution_count": 345,
   "metadata": {},
   "outputs": [
    {
     "data": {
      "text/html": [
       "<div>\n",
       "<style scoped>\n",
       "    .dataframe tbody tr th:only-of-type {\n",
       "        vertical-align: middle;\n",
       "    }\n",
       "\n",
       "    .dataframe tbody tr th {\n",
       "        vertical-align: top;\n",
       "    }\n",
       "\n",
       "    .dataframe thead th {\n",
       "        text-align: right;\n",
       "    }\n",
       "</style>\n",
       "<table border=\"1\" class=\"dataframe\">\n",
       "  <thead>\n",
       "    <tr style=\"text-align: right;\">\n",
       "      <th></th>\n",
       "      <th>SK</th>\n",
       "      <th>Samsung</th>\n",
       "      <th>LG</th>\n",
       "      <th>POSCO</th>\n",
       "      <th>LG화학</th>\n",
       "    </tr>\n",
       "  </thead>\n",
       "  <tbody>\n",
       "    <tr>\n",
       "      <th>2023-01-01</th>\n",
       "      <td>44000.0</td>\n",
       "      <td>70100.0</td>\n",
       "      <td>85000.0</td>\n",
       "      <td>450000.0</td>\n",
       "      <td>500000.0</td>\n",
       "    </tr>\n",
       "    <tr>\n",
       "      <th>2023-01-02</th>\n",
       "      <td>44500.0</td>\n",
       "      <td>70200.0</td>\n",
       "      <td>85500.0</td>\n",
       "      <td>455000.0</td>\n",
       "      <td>500500.0</td>\n",
       "    </tr>\n",
       "    <tr>\n",
       "      <th>2023-01-06</th>\n",
       "      <td>44000.0</td>\n",
       "      <td>70100.0</td>\n",
       "      <td>85000.0</td>\n",
       "      <td>455000.0</td>\n",
       "      <td>505000.0</td>\n",
       "    </tr>\n",
       "    <tr>\n",
       "      <th>2023-01-05</th>\n",
       "      <td>43900.0</td>\n",
       "      <td>70000.0</td>\n",
       "      <td>84900.0</td>\n",
       "      <td>454900.0</td>\n",
       "      <td>504900.0</td>\n",
       "    </tr>\n",
       "  </tbody>\n",
       "</table>\n",
       "</div>"
      ],
      "text/plain": [
       "                 SK  Samsung       LG     POSCO      LG화학\n",
       "2023-01-01  44000.0  70100.0  85000.0  450000.0  500000.0\n",
       "2023-01-02  44500.0  70200.0  85500.0  455000.0  500500.0\n",
       "2023-01-06  44000.0  70100.0  85000.0  455000.0  505000.0\n",
       "2023-01-05  43900.0  70000.0  84900.0  454900.0  504900.0"
      ]
     },
     "execution_count": 345,
     "metadata": {},
     "output_type": "execute_result"
    }
   ],
   "source": [
    "concat_df2.drop('이더리움', axis=1) # column drop 예시"
   ]
  },
  {
   "cell_type": "code",
   "execution_count": 346,
   "metadata": {},
   "outputs": [
    {
     "data": {
      "text/html": [
       "<div>\n",
       "<style scoped>\n",
       "    .dataframe tbody tr th:only-of-type {\n",
       "        vertical-align: middle;\n",
       "    }\n",
       "\n",
       "    .dataframe tbody tr th {\n",
       "        vertical-align: top;\n",
       "    }\n",
       "\n",
       "    .dataframe thead th {\n",
       "        text-align: right;\n",
       "    }\n",
       "</style>\n",
       "<table border=\"1\" class=\"dataframe\">\n",
       "  <thead>\n",
       "    <tr style=\"text-align: right;\">\n",
       "      <th></th>\n",
       "      <th>Samsung</th>\n",
       "      <th>LG</th>\n",
       "      <th>POSCO</th>\n",
       "      <th>LG화학</th>\n",
       "    </tr>\n",
       "  </thead>\n",
       "  <tbody>\n",
       "    <tr>\n",
       "      <th>2023-01-01</th>\n",
       "      <td>70100.0</td>\n",
       "      <td>85000.0</td>\n",
       "      <td>450000.0</td>\n",
       "      <td>500000.0</td>\n",
       "    </tr>\n",
       "    <tr>\n",
       "      <th>2023-01-02</th>\n",
       "      <td>70200.0</td>\n",
       "      <td>85500.0</td>\n",
       "      <td>455000.0</td>\n",
       "      <td>500500.0</td>\n",
       "    </tr>\n",
       "    <tr>\n",
       "      <th>2023-01-06</th>\n",
       "      <td>70100.0</td>\n",
       "      <td>85000.0</td>\n",
       "      <td>455000.0</td>\n",
       "      <td>505000.0</td>\n",
       "    </tr>\n",
       "    <tr>\n",
       "      <th>2023-01-05</th>\n",
       "      <td>70000.0</td>\n",
       "      <td>84900.0</td>\n",
       "      <td>454900.0</td>\n",
       "      <td>504900.0</td>\n",
       "    </tr>\n",
       "  </tbody>\n",
       "</table>\n",
       "</div>"
      ],
      "text/plain": [
       "            Samsung       LG     POSCO      LG화학\n",
       "2023-01-01  70100.0  85000.0  450000.0  500000.0\n",
       "2023-01-02  70200.0  85500.0  455000.0  500500.0\n",
       "2023-01-06  70100.0  85000.0  455000.0  505000.0\n",
       "2023-01-05  70000.0  84900.0  454900.0  504900.0"
      ]
     },
     "execution_count": 346,
     "metadata": {},
     "output_type": "execute_result"
    }
   ],
   "source": [
    "concat_df2.drop(['이더리움','SK'], axis=1) # column 을 리스트로 받아 drop"
   ]
  },
  {
   "cell_type": "code",
   "execution_count": 347,
   "metadata": {},
   "outputs": [
    {
     "data": {
      "text/html": [
       "<div>\n",
       "<style scoped>\n",
       "    .dataframe tbody tr th:only-of-type {\n",
       "        vertical-align: middle;\n",
       "    }\n",
       "\n",
       "    .dataframe tbody tr th {\n",
       "        vertical-align: top;\n",
       "    }\n",
       "\n",
       "    .dataframe thead th {\n",
       "        text-align: right;\n",
       "    }\n",
       "</style>\n",
       "<table border=\"1\" class=\"dataframe\">\n",
       "  <thead>\n",
       "    <tr style=\"text-align: right;\">\n",
       "      <th></th>\n",
       "      <th>SK</th>\n",
       "      <th>Samsung</th>\n",
       "      <th>LG</th>\n",
       "      <th>POSCO</th>\n",
       "      <th>LG화학</th>\n",
       "      <th>이더리움</th>\n",
       "      <th>sum</th>\n",
       "    </tr>\n",
       "  </thead>\n",
       "  <tbody>\n",
       "    <tr>\n",
       "      <th>2023-01-01</th>\n",
       "      <td>44000.0</td>\n",
       "      <td>70100.0</td>\n",
       "      <td>85000.0</td>\n",
       "      <td>450000.0</td>\n",
       "      <td>500000.0</td>\n",
       "      <td>600000.0</td>\n",
       "      <td>1749100.0</td>\n",
       "    </tr>\n",
       "    <tr>\n",
       "      <th>2023-01-02</th>\n",
       "      <td>44500.0</td>\n",
       "      <td>70200.0</td>\n",
       "      <td>85500.0</td>\n",
       "      <td>455000.0</td>\n",
       "      <td>500500.0</td>\n",
       "      <td>600500.0</td>\n",
       "      <td>1756200.0</td>\n",
       "    </tr>\n",
       "    <tr>\n",
       "      <th>2023-01-06</th>\n",
       "      <td>44000.0</td>\n",
       "      <td>70100.0</td>\n",
       "      <td>85000.0</td>\n",
       "      <td>455000.0</td>\n",
       "      <td>505000.0</td>\n",
       "      <td>505500.0</td>\n",
       "      <td>1664600.0</td>\n",
       "    </tr>\n",
       "    <tr>\n",
       "      <th>2023-01-05</th>\n",
       "      <td>43900.0</td>\n",
       "      <td>70000.0</td>\n",
       "      <td>84900.0</td>\n",
       "      <td>454900.0</td>\n",
       "      <td>504900.0</td>\n",
       "      <td>505400.0</td>\n",
       "      <td>1664000.0</td>\n",
       "    </tr>\n",
       "  </tbody>\n",
       "</table>\n",
       "</div>"
      ],
      "text/plain": [
       "                 SK  Samsung       LG     POSCO      LG화학      이더리움        sum\n",
       "2023-01-01  44000.0  70100.0  85000.0  450000.0  500000.0  600000.0  1749100.0\n",
       "2023-01-02  44500.0  70200.0  85500.0  455000.0  500500.0  600500.0  1756200.0\n",
       "2023-01-06  44000.0  70100.0  85000.0  455000.0  505000.0  505500.0  1664600.0\n",
       "2023-01-05  43900.0  70000.0  84900.0  454900.0  504900.0  505400.0  1664000.0"
      ]
     },
     "execution_count": 347,
     "metadata": {},
     "output_type": "execute_result"
    }
   ],
   "source": [
    "concat_df2['sum'] = concat_df2.sum(axis=1) \n",
    "concat_df2"
   ]
  },
  {
   "cell_type": "code",
   "execution_count": 348,
   "metadata": {},
   "outputs": [
    {
     "data": {
      "text/plain": [
       "SK           43900.0\n",
       "Samsung      70000.0\n",
       "LG           84900.0\n",
       "POSCO       450000.0\n",
       "LG화학        500000.0\n",
       "이더리움        505400.0\n",
       "sum        1664000.0\n",
       "dtype: float64"
      ]
     },
     "execution_count": 348,
     "metadata": {},
     "output_type": "execute_result"
    }
   ],
   "source": [
    "concat_df2.min(axis=0) # print min"
   ]
  },
  {
   "cell_type": "code",
   "execution_count": 349,
   "metadata": {},
   "outputs": [
    {
     "data": {
      "text/html": [
       "<div>\n",
       "<style scoped>\n",
       "    .dataframe tbody tr th:only-of-type {\n",
       "        vertical-align: middle;\n",
       "    }\n",
       "\n",
       "    .dataframe tbody tr th {\n",
       "        vertical-align: top;\n",
       "    }\n",
       "\n",
       "    .dataframe thead th {\n",
       "        text-align: right;\n",
       "    }\n",
       "</style>\n",
       "<table border=\"1\" class=\"dataframe\">\n",
       "  <thead>\n",
       "    <tr style=\"text-align: right;\">\n",
       "      <th></th>\n",
       "      <th>SK</th>\n",
       "      <th>Samsung</th>\n",
       "      <th>LG</th>\n",
       "      <th>POSCO</th>\n",
       "      <th>LG화학</th>\n",
       "      <th>이더리움</th>\n",
       "      <th>sum</th>\n",
       "    </tr>\n",
       "  </thead>\n",
       "  <tbody>\n",
       "    <tr>\n",
       "      <th>count</th>\n",
       "      <td>4.00000</td>\n",
       "      <td>4.000000</td>\n",
       "      <td>4.00000</td>\n",
       "      <td>4.00000</td>\n",
       "      <td>4.000000</td>\n",
       "      <td>4.00000</td>\n",
       "      <td>4.000000e+00</td>\n",
       "    </tr>\n",
       "    <tr>\n",
       "      <th>mean</th>\n",
       "      <td>44100.00000</td>\n",
       "      <td>70100.000000</td>\n",
       "      <td>85100.00000</td>\n",
       "      <td>453725.00000</td>\n",
       "      <td>502600.000000</td>\n",
       "      <td>552850.00000</td>\n",
       "      <td>1.708475e+06</td>\n",
       "    </tr>\n",
       "    <tr>\n",
       "      <th>std</th>\n",
       "      <td>270.80128</td>\n",
       "      <td>81.649658</td>\n",
       "      <td>270.80128</td>\n",
       "      <td>2483.78072</td>\n",
       "      <td>2721.519184</td>\n",
       "      <td>54733.20138</td>\n",
       "      <td>5.109177e+04</td>\n",
       "    </tr>\n",
       "    <tr>\n",
       "      <th>min</th>\n",
       "      <td>43900.00000</td>\n",
       "      <td>70000.000000</td>\n",
       "      <td>84900.00000</td>\n",
       "      <td>450000.00000</td>\n",
       "      <td>500000.000000</td>\n",
       "      <td>505400.00000</td>\n",
       "      <td>1.664000e+06</td>\n",
       "    </tr>\n",
       "    <tr>\n",
       "      <th>25%</th>\n",
       "      <td>43975.00000</td>\n",
       "      <td>70075.000000</td>\n",
       "      <td>84975.00000</td>\n",
       "      <td>453675.00000</td>\n",
       "      <td>500375.000000</td>\n",
       "      <td>505475.00000</td>\n",
       "      <td>1.664450e+06</td>\n",
       "    </tr>\n",
       "    <tr>\n",
       "      <th>50%</th>\n",
       "      <td>44000.00000</td>\n",
       "      <td>70100.000000</td>\n",
       "      <td>85000.00000</td>\n",
       "      <td>454950.00000</td>\n",
       "      <td>502700.000000</td>\n",
       "      <td>552750.00000</td>\n",
       "      <td>1.706850e+06</td>\n",
       "    </tr>\n",
       "    <tr>\n",
       "      <th>75%</th>\n",
       "      <td>44125.00000</td>\n",
       "      <td>70125.000000</td>\n",
       "      <td>85125.00000</td>\n",
       "      <td>455000.00000</td>\n",
       "      <td>504925.000000</td>\n",
       "      <td>600125.00000</td>\n",
       "      <td>1.750875e+06</td>\n",
       "    </tr>\n",
       "    <tr>\n",
       "      <th>max</th>\n",
       "      <td>44500.00000</td>\n",
       "      <td>70200.000000</td>\n",
       "      <td>85500.00000</td>\n",
       "      <td>455000.00000</td>\n",
       "      <td>505000.000000</td>\n",
       "      <td>600500.00000</td>\n",
       "      <td>1.756200e+06</td>\n",
       "    </tr>\n",
       "  </tbody>\n",
       "</table>\n",
       "</div>"
      ],
      "text/plain": [
       "                SK       Samsung           LG         POSCO           LG화학  \\\n",
       "count      4.00000      4.000000      4.00000       4.00000       4.000000   \n",
       "mean   44100.00000  70100.000000  85100.00000  453725.00000  502600.000000   \n",
       "std      270.80128     81.649658    270.80128    2483.78072    2721.519184   \n",
       "min    43900.00000  70000.000000  84900.00000  450000.00000  500000.000000   \n",
       "25%    43975.00000  70075.000000  84975.00000  453675.00000  500375.000000   \n",
       "50%    44000.00000  70100.000000  85000.00000  454950.00000  502700.000000   \n",
       "75%    44125.00000  70125.000000  85125.00000  455000.00000  504925.000000   \n",
       "max    44500.00000  70200.000000  85500.00000  455000.00000  505000.000000   \n",
       "\n",
       "               이더리움           sum  \n",
       "count       4.00000  4.000000e+00  \n",
       "mean   552850.00000  1.708475e+06  \n",
       "std     54733.20138  5.109177e+04  \n",
       "min    505400.00000  1.664000e+06  \n",
       "25%    505475.00000  1.664450e+06  \n",
       "50%    552750.00000  1.706850e+06  \n",
       "75%    600125.00000  1.750875e+06  \n",
       "max    600500.00000  1.756200e+06  "
      ]
     },
     "execution_count": 349,
     "metadata": {},
     "output_type": "execute_result"
    }
   ],
   "source": [
    "concat_df2.describe() # 문자 제외하고 컬럼별 정리"
   ]
  },
  {
   "cell_type": "markdown",
   "metadata": {},
   "source": [
    "# 결측치\n",
    "- 제거 : dropna\n",
    "- 대체 : fillna, interpolate"
   ]
  },
  {
   "cell_type": "code",
   "execution_count": 350,
   "metadata": {},
   "outputs": [],
   "source": [
    "import pandas as pd\n",
    "\n",
    "df = pd.DataFrame({\n",
    "    'A': [1, 2, 3],\n",
    "    'B': [4, 5, 6],\n",
    "    'C': [7, 8, 9]\n",
    "})"
   ]
  },
  {
   "cell_type": "code",
   "execution_count": 351,
   "metadata": {},
   "outputs": [
    {
     "name": "stdout",
     "output_type": "stream",
     "text": [
      "A     6\n",
      "B    15\n",
      "C    24\n",
      "dtype: int64\n"
     ]
    }
   ],
   "source": [
    "print(df.sum(axis=0)) # 열 합계"
   ]
  },
  {
   "cell_type": "code",
   "execution_count": 352,
   "metadata": {},
   "outputs": [],
   "source": [
    "# Q1. 2022-01-01 ~ 2022-12-01 월초 인덱스를 생성\n",
    "dates3 = pd.date_range('2022-01-01', '2022-12-01', freq='MS')\n"
   ]
  },
  {
   "cell_type": "code",
   "execution_count": 353,
   "metadata": {},
   "outputs": [
    {
     "data": {
      "text/html": [
       "<div>\n",
       "<style scoped>\n",
       "    .dataframe tbody tr th:only-of-type {\n",
       "        vertical-align: middle;\n",
       "    }\n",
       "\n",
       "    .dataframe tbody tr th {\n",
       "        vertical-align: top;\n",
       "    }\n",
       "\n",
       "    .dataframe thead th {\n",
       "        text-align: right;\n",
       "    }\n",
       "</style>\n",
       "<table border=\"1\" class=\"dataframe\">\n",
       "  <thead>\n",
       "    <tr style=\"text-align: right;\">\n",
       "      <th></th>\n",
       "      <th>value</th>\n",
       "    </tr>\n",
       "  </thead>\n",
       "  <tbody>\n",
       "    <tr>\n",
       "      <th>2022-01-01</th>\n",
       "      <td>9</td>\n",
       "    </tr>\n",
       "    <tr>\n",
       "      <th>2022-02-01</th>\n",
       "      <td>55</td>\n",
       "    </tr>\n",
       "    <tr>\n",
       "      <th>2022-03-01</th>\n",
       "      <td>49</td>\n",
       "    </tr>\n",
       "    <tr>\n",
       "      <th>2022-04-01</th>\n",
       "      <td>62</td>\n",
       "    </tr>\n",
       "    <tr>\n",
       "      <th>2022-05-01</th>\n",
       "      <td>7</td>\n",
       "    </tr>\n",
       "    <tr>\n",
       "      <th>2022-06-01</th>\n",
       "      <td>15</td>\n",
       "    </tr>\n",
       "    <tr>\n",
       "      <th>2022-07-01</th>\n",
       "      <td>64</td>\n",
       "    </tr>\n",
       "    <tr>\n",
       "      <th>2022-08-01</th>\n",
       "      <td>44</td>\n",
       "    </tr>\n",
       "    <tr>\n",
       "      <th>2022-09-01</th>\n",
       "      <td>14</td>\n",
       "    </tr>\n",
       "    <tr>\n",
       "      <th>2022-10-01</th>\n",
       "      <td>54</td>\n",
       "    </tr>\n",
       "    <tr>\n",
       "      <th>2022-11-01</th>\n",
       "      <td>46</td>\n",
       "    </tr>\n",
       "    <tr>\n",
       "      <th>2022-12-01</th>\n",
       "      <td>100</td>\n",
       "    </tr>\n",
       "  </tbody>\n",
       "</table>\n",
       "</div>"
      ],
      "text/plain": [
       "            value\n",
       "2022-01-01      9\n",
       "2022-02-01     55\n",
       "2022-03-01     49\n",
       "2022-04-01     62\n",
       "2022-05-01      7\n",
       "2022-06-01     15\n",
       "2022-07-01     64\n",
       "2022-08-01     44\n",
       "2022-09-01     14\n",
       "2022-10-01     54\n",
       "2022-11-01     46\n",
       "2022-12-01    100"
      ]
     },
     "execution_count": 353,
     "metadata": {},
     "output_type": "execute_result"
    }
   ],
   "source": [
    "# Q2. Q1에서 생성한 인덱스를 가지고 데이터프레임 생성(값은 자율, 이때 칼럼이름은 value)\n",
    "import random\n",
    "randomlist = [random.randint(0,100) for i in range(len(dates3))]\n",
    "\n",
    "df = pd.DataFrame({\n",
    "        'value' : randomlist}\n",
    "        ,index=dates3)\n",
    "df"
   ]
  },
  {
   "cell_type": "code",
   "execution_count": 354,
   "metadata": {},
   "outputs": [
    {
     "data": {
      "text/html": [
       "<div>\n",
       "<style scoped>\n",
       "    .dataframe tbody tr th:only-of-type {\n",
       "        vertical-align: middle;\n",
       "    }\n",
       "\n",
       "    .dataframe tbody tr th {\n",
       "        vertical-align: top;\n",
       "    }\n",
       "\n",
       "    .dataframe thead th {\n",
       "        text-align: right;\n",
       "    }\n",
       "</style>\n",
       "<table border=\"1\" class=\"dataframe\">\n",
       "  <thead>\n",
       "    <tr style=\"text-align: right;\">\n",
       "      <th></th>\n",
       "      <th>value</th>\n",
       "      <th>value_add_100</th>\n",
       "    </tr>\n",
       "  </thead>\n",
       "  <tbody>\n",
       "    <tr>\n",
       "      <th>2022-01-01</th>\n",
       "      <td>9</td>\n",
       "      <td>109</td>\n",
       "    </tr>\n",
       "    <tr>\n",
       "      <th>2022-02-01</th>\n",
       "      <td>55</td>\n",
       "      <td>155</td>\n",
       "    </tr>\n",
       "    <tr>\n",
       "      <th>2022-03-01</th>\n",
       "      <td>49</td>\n",
       "      <td>149</td>\n",
       "    </tr>\n",
       "    <tr>\n",
       "      <th>2022-04-01</th>\n",
       "      <td>62</td>\n",
       "      <td>162</td>\n",
       "    </tr>\n",
       "    <tr>\n",
       "      <th>2022-05-01</th>\n",
       "      <td>7</td>\n",
       "      <td>107</td>\n",
       "    </tr>\n",
       "    <tr>\n",
       "      <th>2022-06-01</th>\n",
       "      <td>15</td>\n",
       "      <td>115</td>\n",
       "    </tr>\n",
       "    <tr>\n",
       "      <th>2022-07-01</th>\n",
       "      <td>64</td>\n",
       "      <td>164</td>\n",
       "    </tr>\n",
       "    <tr>\n",
       "      <th>2022-08-01</th>\n",
       "      <td>44</td>\n",
       "      <td>144</td>\n",
       "    </tr>\n",
       "    <tr>\n",
       "      <th>2022-09-01</th>\n",
       "      <td>14</td>\n",
       "      <td>114</td>\n",
       "    </tr>\n",
       "    <tr>\n",
       "      <th>2022-10-01</th>\n",
       "      <td>54</td>\n",
       "      <td>154</td>\n",
       "    </tr>\n",
       "    <tr>\n",
       "      <th>2022-11-01</th>\n",
       "      <td>46</td>\n",
       "      <td>146</td>\n",
       "    </tr>\n",
       "    <tr>\n",
       "      <th>2022-12-01</th>\n",
       "      <td>100</td>\n",
       "      <td>200</td>\n",
       "    </tr>\n",
       "  </tbody>\n",
       "</table>\n",
       "</div>"
      ],
      "text/plain": [
       "            value  value_add_100\n",
       "2022-01-01      9            109\n",
       "2022-02-01     55            155\n",
       "2022-03-01     49            149\n",
       "2022-04-01     62            162\n",
       "2022-05-01      7            107\n",
       "2022-06-01     15            115\n",
       "2022-07-01     64            164\n",
       "2022-08-01     44            144\n",
       "2022-09-01     14            114\n",
       "2022-10-01     54            154\n",
       "2022-11-01     46            146\n",
       "2022-12-01    100            200"
      ]
     },
     "execution_count": 354,
     "metadata": {},
     "output_type": "execute_result"
    }
   ],
   "source": [
    "# Q3. value 칼럼에서 100을 더한 value_add_100 칼럼을 생성해주세요.\n",
    "df.loc[:,'value_add_100'] = df.loc[:,'value'] + 100\n",
    "df"
   ]
  },
  {
   "cell_type": "code",
   "execution_count": 355,
   "metadata": {},
   "outputs": [
    {
     "data": {
      "text/html": [
       "<div>\n",
       "<style scoped>\n",
       "    .dataframe tbody tr th:only-of-type {\n",
       "        vertical-align: middle;\n",
       "    }\n",
       "\n",
       "    .dataframe tbody tr th {\n",
       "        vertical-align: top;\n",
       "    }\n",
       "\n",
       "    .dataframe thead th {\n",
       "        text-align: right;\n",
       "    }\n",
       "</style>\n",
       "<table border=\"1\" class=\"dataframe\">\n",
       "  <thead>\n",
       "    <tr style=\"text-align: right;\">\n",
       "      <th></th>\n",
       "      <th>value</th>\n",
       "      <th>value_add_100</th>\n",
       "      <th>value_mean</th>\n",
       "    </tr>\n",
       "  </thead>\n",
       "  <tbody>\n",
       "    <tr>\n",
       "      <th>2022-01-01</th>\n",
       "      <td>9</td>\n",
       "      <td>109</td>\n",
       "      <td>59.0</td>\n",
       "    </tr>\n",
       "    <tr>\n",
       "      <th>2022-02-01</th>\n",
       "      <td>55</td>\n",
       "      <td>155</td>\n",
       "      <td>105.0</td>\n",
       "    </tr>\n",
       "    <tr>\n",
       "      <th>2022-03-01</th>\n",
       "      <td>49</td>\n",
       "      <td>149</td>\n",
       "      <td>99.0</td>\n",
       "    </tr>\n",
       "    <tr>\n",
       "      <th>2022-04-01</th>\n",
       "      <td>62</td>\n",
       "      <td>162</td>\n",
       "      <td>112.0</td>\n",
       "    </tr>\n",
       "    <tr>\n",
       "      <th>2022-05-01</th>\n",
       "      <td>7</td>\n",
       "      <td>107</td>\n",
       "      <td>57.0</td>\n",
       "    </tr>\n",
       "    <tr>\n",
       "      <th>2022-06-01</th>\n",
       "      <td>15</td>\n",
       "      <td>115</td>\n",
       "      <td>65.0</td>\n",
       "    </tr>\n",
       "    <tr>\n",
       "      <th>2022-07-01</th>\n",
       "      <td>64</td>\n",
       "      <td>164</td>\n",
       "      <td>114.0</td>\n",
       "    </tr>\n",
       "    <tr>\n",
       "      <th>2022-08-01</th>\n",
       "      <td>44</td>\n",
       "      <td>144</td>\n",
       "      <td>94.0</td>\n",
       "    </tr>\n",
       "    <tr>\n",
       "      <th>2022-09-01</th>\n",
       "      <td>14</td>\n",
       "      <td>114</td>\n",
       "      <td>64.0</td>\n",
       "    </tr>\n",
       "    <tr>\n",
       "      <th>2022-10-01</th>\n",
       "      <td>54</td>\n",
       "      <td>154</td>\n",
       "      <td>104.0</td>\n",
       "    </tr>\n",
       "    <tr>\n",
       "      <th>2022-11-01</th>\n",
       "      <td>46</td>\n",
       "      <td>146</td>\n",
       "      <td>96.0</td>\n",
       "    </tr>\n",
       "    <tr>\n",
       "      <th>2022-12-01</th>\n",
       "      <td>100</td>\n",
       "      <td>200</td>\n",
       "      <td>150.0</td>\n",
       "    </tr>\n",
       "  </tbody>\n",
       "</table>\n",
       "</div>"
      ],
      "text/plain": [
       "            value  value_add_100  value_mean\n",
       "2022-01-01      9            109        59.0\n",
       "2022-02-01     55            155       105.0\n",
       "2022-03-01     49            149        99.0\n",
       "2022-04-01     62            162       112.0\n",
       "2022-05-01      7            107        57.0\n",
       "2022-06-01     15            115        65.0\n",
       "2022-07-01     64            164       114.0\n",
       "2022-08-01     44            144        94.0\n",
       "2022-09-01     14            114        64.0\n",
       "2022-10-01     54            154       104.0\n",
       "2022-11-01     46            146        96.0\n",
       "2022-12-01    100            200       150.0"
      ]
     },
     "execution_count": 355,
     "metadata": {},
     "output_type": "execute_result"
    }
   ],
   "source": [
    "# Q4. value 칼럼과 value_add_100 칼럼을 평균한 mean 칼럼을 생성해주세요.\n",
    "df.loc[:,'value_mean'] = df.mean(axis=1)\n",
    "df"
   ]
  },
  {
   "cell_type": "markdown",
   "metadata": {},
   "source": [
    "fillna, interpolate"
   ]
  },
  {
   "cell_type": "code",
   "execution_count": 356,
   "metadata": {},
   "outputs": [
    {
     "data": {
      "text/html": [
       "<div>\n",
       "<style scoped>\n",
       "    .dataframe tbody tr th:only-of-type {\n",
       "        vertical-align: middle;\n",
       "    }\n",
       "\n",
       "    .dataframe tbody tr th {\n",
       "        vertical-align: top;\n",
       "    }\n",
       "\n",
       "    .dataframe thead th {\n",
       "        text-align: right;\n",
       "    }\n",
       "</style>\n",
       "<table border=\"1\" class=\"dataframe\">\n",
       "  <thead>\n",
       "    <tr style=\"text-align: right;\">\n",
       "      <th></th>\n",
       "      <th>SK</th>\n",
       "      <th>Samsung</th>\n",
       "      <th>LG</th>\n",
       "      <th>POSCO</th>\n",
       "      <th>LG화학</th>\n",
       "      <th>이더리움</th>\n",
       "      <th>sum</th>\n",
       "    </tr>\n",
       "  </thead>\n",
       "  <tbody>\n",
       "    <tr>\n",
       "      <th>2023-01-01</th>\n",
       "      <td>44000.0</td>\n",
       "      <td>70100.0</td>\n",
       "      <td>85000.0</td>\n",
       "      <td>450000.0</td>\n",
       "      <td>500000.0</td>\n",
       "      <td>600000.0</td>\n",
       "      <td>1749100.0</td>\n",
       "    </tr>\n",
       "    <tr>\n",
       "      <th>2023-01-02</th>\n",
       "      <td>44500.0</td>\n",
       "      <td>70200.0</td>\n",
       "      <td>85500.0</td>\n",
       "      <td>455000.0</td>\n",
       "      <td>500500.0</td>\n",
       "      <td>600500.0</td>\n",
       "      <td>1756200.0</td>\n",
       "    </tr>\n",
       "    <tr>\n",
       "      <th>2023-01-06</th>\n",
       "      <td>44000.0</td>\n",
       "      <td>70100.0</td>\n",
       "      <td>85000.0</td>\n",
       "      <td>455000.0</td>\n",
       "      <td>505000.0</td>\n",
       "      <td>505500.0</td>\n",
       "      <td>1664600.0</td>\n",
       "    </tr>\n",
       "    <tr>\n",
       "      <th>2023-01-05</th>\n",
       "      <td>43900.0</td>\n",
       "      <td>70000.0</td>\n",
       "      <td>84900.0</td>\n",
       "      <td>454900.0</td>\n",
       "      <td>504900.0</td>\n",
       "      <td>505400.0</td>\n",
       "      <td>1664000.0</td>\n",
       "    </tr>\n",
       "    <tr>\n",
       "      <th>2023-01-01</th>\n",
       "      <td>44000.0</td>\n",
       "      <td>70100.0</td>\n",
       "      <td>85000.0</td>\n",
       "      <td>450000.0</td>\n",
       "      <td>500000.0</td>\n",
       "      <td>600000.0</td>\n",
       "      <td>1749100.0</td>\n",
       "    </tr>\n",
       "    <tr>\n",
       "      <th>2023-01-02</th>\n",
       "      <td>44500.0</td>\n",
       "      <td>70200.0</td>\n",
       "      <td>85500.0</td>\n",
       "      <td>455000.0</td>\n",
       "      <td>500500.0</td>\n",
       "      <td>600500.0</td>\n",
       "      <td>1756200.0</td>\n",
       "    </tr>\n",
       "    <tr>\n",
       "      <th>2023-01-06</th>\n",
       "      <td>44000.0</td>\n",
       "      <td>70100.0</td>\n",
       "      <td>85000.0</td>\n",
       "      <td>455000.0</td>\n",
       "      <td>505000.0</td>\n",
       "      <td>505500.0</td>\n",
       "      <td>1664600.0</td>\n",
       "    </tr>\n",
       "    <tr>\n",
       "      <th>2023-01-05</th>\n",
       "      <td>43900.0</td>\n",
       "      <td>70000.0</td>\n",
       "      <td>84900.0</td>\n",
       "      <td>454900.0</td>\n",
       "      <td>504900.0</td>\n",
       "      <td>505400.0</td>\n",
       "      <td>1664000.0</td>\n",
       "    </tr>\n",
       "  </tbody>\n",
       "</table>\n",
       "</div>"
      ],
      "text/plain": [
       "                 SK  Samsung       LG     POSCO      LG화학      이더리움        sum\n",
       "2023-01-01  44000.0  70100.0  85000.0  450000.0  500000.0  600000.0  1749100.0\n",
       "2023-01-02  44500.0  70200.0  85500.0  455000.0  500500.0  600500.0  1756200.0\n",
       "2023-01-06  44000.0  70100.0  85000.0  455000.0  505000.0  505500.0  1664600.0\n",
       "2023-01-05  43900.0  70000.0  84900.0  454900.0  504900.0  505400.0  1664000.0\n",
       "2023-01-01  44000.0  70100.0  85000.0  450000.0  500000.0  600000.0  1749100.0\n",
       "2023-01-02  44500.0  70200.0  85500.0  455000.0  500500.0  600500.0  1756200.0\n",
       "2023-01-06  44000.0  70100.0  85000.0  455000.0  505000.0  505500.0  1664600.0\n",
       "2023-01-05  43900.0  70000.0  84900.0  454900.0  504900.0  505400.0  1664000.0"
      ]
     },
     "execution_count": 356,
     "metadata": {},
     "output_type": "execute_result"
    }
   ],
   "source": [
    "# 임의로 중복 데이터 생성\n",
    "concat_df3 = concat_df2.copy()\n",
    "concat_df4 = pd.concat([concat_df2, concat_df3])\n",
    "concat_df4"
   ]
  },
  {
   "cell_type": "code",
   "execution_count": 357,
   "metadata": {},
   "outputs": [
    {
     "data": {
      "text/html": [
       "<div>\n",
       "<style scoped>\n",
       "    .dataframe tbody tr th:only-of-type {\n",
       "        vertical-align: middle;\n",
       "    }\n",
       "\n",
       "    .dataframe tbody tr th {\n",
       "        vertical-align: top;\n",
       "    }\n",
       "\n",
       "    .dataframe thead th {\n",
       "        text-align: right;\n",
       "    }\n",
       "</style>\n",
       "<table border=\"1\" class=\"dataframe\">\n",
       "  <thead>\n",
       "    <tr style=\"text-align: right;\">\n",
       "      <th></th>\n",
       "      <th>SK</th>\n",
       "      <th>Samsung</th>\n",
       "      <th>LG</th>\n",
       "      <th>POSCO</th>\n",
       "      <th>LG화학</th>\n",
       "      <th>이더리움</th>\n",
       "      <th>sum</th>\n",
       "    </tr>\n",
       "  </thead>\n",
       "  <tbody>\n",
       "    <tr>\n",
       "      <th>2023-01-01</th>\n",
       "      <td>44000.0</td>\n",
       "      <td>70100.0</td>\n",
       "      <td>85000.0</td>\n",
       "      <td>450000.0</td>\n",
       "      <td>500000.0</td>\n",
       "      <td>600000.0</td>\n",
       "      <td>1749100.0</td>\n",
       "    </tr>\n",
       "    <tr>\n",
       "      <th>2023-01-02</th>\n",
       "      <td>44500.0</td>\n",
       "      <td>70200.0</td>\n",
       "      <td>85500.0</td>\n",
       "      <td>455000.0</td>\n",
       "      <td>500500.0</td>\n",
       "      <td>600500.0</td>\n",
       "      <td>1756200.0</td>\n",
       "    </tr>\n",
       "    <tr>\n",
       "      <th>2023-01-06</th>\n",
       "      <td>44000.0</td>\n",
       "      <td>70100.0</td>\n",
       "      <td>85000.0</td>\n",
       "      <td>455000.0</td>\n",
       "      <td>505000.0</td>\n",
       "      <td>505500.0</td>\n",
       "      <td>1664600.0</td>\n",
       "    </tr>\n",
       "    <tr>\n",
       "      <th>2023-01-05</th>\n",
       "      <td>43900.0</td>\n",
       "      <td>70000.0</td>\n",
       "      <td>84900.0</td>\n",
       "      <td>454900.0</td>\n",
       "      <td>504900.0</td>\n",
       "      <td>505400.0</td>\n",
       "      <td>1664000.0</td>\n",
       "    </tr>\n",
       "  </tbody>\n",
       "</table>\n",
       "</div>"
      ],
      "text/plain": [
       "                 SK  Samsung       LG     POSCO      LG화학      이더리움        sum\n",
       "2023-01-01  44000.0  70100.0  85000.0  450000.0  500000.0  600000.0  1749100.0\n",
       "2023-01-02  44500.0  70200.0  85500.0  455000.0  500500.0  600500.0  1756200.0\n",
       "2023-01-06  44000.0  70100.0  85000.0  455000.0  505000.0  505500.0  1664600.0\n",
       "2023-01-05  43900.0  70000.0  84900.0  454900.0  504900.0  505400.0  1664000.0"
      ]
     },
     "execution_count": 357,
     "metadata": {},
     "output_type": "execute_result"
    }
   ],
   "source": [
    "concat_df4.drop_duplicates() # 중복 제거"
   ]
  },
  {
   "cell_type": "code",
   "execution_count": 358,
   "metadata": {},
   "outputs": [],
   "source": [
    "concat_df2.loc['2023-01-03',:] = concat_df2.loc['2023-01-06',:].copy()\n",
    "concat_df2.sort_index(inplace = True)"
   ]
  },
  {
   "cell_type": "code",
   "execution_count": 359,
   "metadata": {},
   "outputs": [
    {
     "data": {
      "text/html": [
       "<div>\n",
       "<style scoped>\n",
       "    .dataframe tbody tr th:only-of-type {\n",
       "        vertical-align: middle;\n",
       "    }\n",
       "\n",
       "    .dataframe tbody tr th {\n",
       "        vertical-align: top;\n",
       "    }\n",
       "\n",
       "    .dataframe thead th {\n",
       "        text-align: right;\n",
       "    }\n",
       "</style>\n",
       "<table border=\"1\" class=\"dataframe\">\n",
       "  <thead>\n",
       "    <tr style=\"text-align: right;\">\n",
       "      <th></th>\n",
       "      <th>SK</th>\n",
       "      <th>Samsung</th>\n",
       "      <th>LG</th>\n",
       "      <th>POSCO</th>\n",
       "      <th>LG화학</th>\n",
       "      <th>이더리움</th>\n",
       "      <th>sum</th>\n",
       "    </tr>\n",
       "  </thead>\n",
       "  <tbody>\n",
       "    <tr>\n",
       "      <th>2023-01-01</th>\n",
       "      <td>44000.0</td>\n",
       "      <td>70100.0</td>\n",
       "      <td>85000.0</td>\n",
       "      <td>450000.0</td>\n",
       "      <td>500000.0</td>\n",
       "      <td>600000.0</td>\n",
       "      <td>1749100.0</td>\n",
       "    </tr>\n",
       "    <tr>\n",
       "      <th>2023-01-02</th>\n",
       "      <td>44500.0</td>\n",
       "      <td>70200.0</td>\n",
       "      <td>85500.0</td>\n",
       "      <td>455000.0</td>\n",
       "      <td>500500.0</td>\n",
       "      <td>600500.0</td>\n",
       "      <td>1756200.0</td>\n",
       "    </tr>\n",
       "    <tr>\n",
       "      <th>2023-01-05</th>\n",
       "      <td>43900.0</td>\n",
       "      <td>70000.0</td>\n",
       "      <td>84900.0</td>\n",
       "      <td>454900.0</td>\n",
       "      <td>504900.0</td>\n",
       "      <td>505400.0</td>\n",
       "      <td>1664000.0</td>\n",
       "    </tr>\n",
       "  </tbody>\n",
       "</table>\n",
       "</div>"
      ],
      "text/plain": [
       "                 SK  Samsung       LG     POSCO      LG화학      이더리움        sum\n",
       "2023-01-01  44000.0  70100.0  85000.0  450000.0  500000.0  600000.0  1749100.0\n",
       "2023-01-02  44500.0  70200.0  85500.0  455000.0  500500.0  600500.0  1756200.0\n",
       "2023-01-05  43900.0  70000.0  84900.0  454900.0  504900.0  505400.0  1664000.0"
      ]
     },
     "execution_count": 359,
     "metadata": {},
     "output_type": "execute_result"
    }
   ],
   "source": [
    "# 삼성전자의 중복만 제거하여 데이터프레임 형태로 출력\n",
    "idx = concat_df2['Samsung'].drop_duplicates().index\n",
    "concat_df2.loc[idx,:] \n",
    "# 인덱스 기준으로 데이터를 가져오는 활용"
   ]
  }
 ],
 "metadata": {
  "kernelspec": {
   "display_name": "ai2",
   "language": "python",
   "name": "python3"
  },
  "language_info": {
   "codemirror_mode": {
    "name": "ipython",
    "version": 3
   },
   "file_extension": ".py",
   "mimetype": "text/x-python",
   "name": "python",
   "nbconvert_exporter": "python",
   "pygments_lexer": "ipython3",
   "version": "3.8.17"
  },
  "orig_nbformat": 4
 },
 "nbformat": 4,
 "nbformat_minor": 2
}
