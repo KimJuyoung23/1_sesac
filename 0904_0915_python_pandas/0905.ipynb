{
 "cells": [
  {
   "cell_type": "markdown",
   "metadata": {},
   "source": [
    "# 230905 Python 기초"
   ]
  },
  {
   "cell_type": "code",
   "execution_count": 1,
   "metadata": {},
   "outputs": [
    {
     "name": "stdout",
     "output_type": "stream",
     "text": [
      "47505.060000000005\n"
     ]
    }
   ],
   "source": [
    "x = int(input(\"1-7. 값을 입력하시오 : \"))\n",
    "print(3.14 * x * x)"
   ]
  },
  {
   "cell_type": "code",
   "execution_count": 2,
   "metadata": {},
   "outputs": [
    {
     "name": "stdout",
     "output_type": "stream",
     "text": [
      "112\n"
     ]
    }
   ],
   "source": [
    "x = int(input(\"1-8. 값을 입력하시오 : \"))\n",
    "print(x * x - x +100)"
   ]
  },
  {
   "cell_type": "code",
   "execution_count": null,
   "metadata": {},
   "outputs": [],
   "source": [
    "# 1-9. 금액을 입력했을 때, 상품 가격에 따른 잔돈을 반환하는 자판기 프로그램 만들기\n",
    "y = 10000"
   ]
  },
  {
   "cell_type": "code",
   "execution_count": 1,
   "metadata": {},
   "outputs": [
    {
     "name": "stdout",
     "output_type": "stream",
     "text": [
      "걸어 가라.\n"
     ]
    }
   ],
   "source": [
    "# 돈이 3000원 이상 있으면 택시를 타고 가고 아니면 걸어 가라\n",
    "money = 2000\n",
    "if money >= 3000:\n",
    "    print('택시 타고 가라.')\n",
    "else:\n",
    "    print('걸어 가라.')"
   ]
  },
  {
   "cell_type": "code",
   "execution_count": 4,
   "metadata": {},
   "outputs": [
    {
     "name": "stdout",
     "output_type": "stream",
     "text": [
      "택시 타고 가라.\n"
     ]
    }
   ],
   "source": [
    "# 돈이 300원 이상 있거나 카드가 있으면 택시를 타고 가고 아니면 걸어 가라\n",
    "money = 2000\n",
    "card = 1\n",
    "if (money >= 3000) or (card):\n",
    "    print('택시 타고 가라.')\n",
    "else:\n",
    "    print('걸어 가라.')"
   ]
  },
  {
   "cell_type": "code",
   "execution_count": null,
   "metadata": {},
   "outputs": [],
   "source": [
    "1 in [1, 2, 3] # 1이 [1, 2, 3] 안에 있어?"
   ]
  },
  {
   "cell_type": "code",
   "execution_count": 7,
   "metadata": {},
   "outputs": [
    {
     "name": "stdout",
     "output_type": "stream",
     "text": [
      "택시 타고 가라.\n"
     ]
    }
   ],
   "source": [
    "# 주머니에 돈이 있으면 택시를 타고, 없으면 걸어 가라\n",
    "pocket = ['paper', 'cellphone', 'money']\n",
    "card = 1\n",
    "if 'money' in pocket:\n",
    "    print('택시 타고 가라.')\n",
    "elif card:\n",
    "    print('카드 꺼내고 택시 타라.')\n",
    "else:\n",
    "    print('걸어 가라.')"
   ]
  },
  {
   "cell_type": "code",
   "execution_count": 8,
   "metadata": {},
   "outputs": [
    {
     "name": "stdout",
     "output_type": "stream",
     "text": [
      "x는 양수 입니다.\n"
     ]
    }
   ],
   "source": [
    "# 2-1. 값을 입력 받아 양수인지 음수인지 판별하는 프로그램 만들기\n",
    "x = int(input(\"2-1. 양수 음수 판별을 위해 값을 입력하시오 : \"))\n",
    "if x < 0:\n",
    "    print(f\"{x}는 음수 입니다.\")\n",
    "elif x > 0:\n",
    "    print(f\"{x}는 양수 입니다.\")\n",
    "else:\n",
    "    print(f\"{x}는 0 입니다.\")"
   ]
  },
  {
   "cell_type": "code",
   "execution_count": 10,
   "metadata": {},
   "outputs": [
    {
     "name": "stdout",
     "output_type": "stream",
     "text": [
      "x는 짝수 입니다.\n"
     ]
    }
   ],
   "source": [
    "# 2-2. 값을 입력 받아 홀수인지 짝수인지 판별하는 프로그램 만들기\n",
    "x = int(input(\"2-2. 홀수 짝수 판별을 위해 값을 입력하시오 : \"))\n",
    "if x % 2:\n",
    "    print(f\"{x}는 홀수 입니다.\")\n",
    "else:\n",
    "    print(f\"{x}는 짝수 입니다.\")"
   ]
  },
  {
   "cell_type": "code",
   "execution_count": 25,
   "metadata": {},
   "outputs": [
    {
     "name": "stdout",
     "output_type": "stream",
     "text": [
      "BMI는 56.497175141242934 입니다.\n",
      "고도비만\n"
     ]
    }
   ],
   "source": [
    "# 2-3. 키와 몸무게를 입력받아, 비만도(BMI)를 판별하는 프로그램 만들기\n",
    "# 몸무게(kg)를 키의 제곱(m)으로 나눈 값\n",
    "kg = float(input(\"2-3. 체중을 kg로 입력하시오 : \"))\n",
    "cm = float(input(\"키를 cm로 입력하시오 : \"))\n",
    "m = cm/100\n",
    "bmi = kg/(m**2)\n",
    "print(f\"BMI는 {bmi} 입니다.\")\n",
    "\n",
    "if bmi < 18.5:\n",
    "    print('저체중')\n",
    "elif bmi < 22.9:\n",
    "    print('정상')\n",
    "elif bmi < 24.9:\n",
    "    print('과체중')\n",
    "elif bmi < 29.9:\n",
    "    print('경도비만')\n",
    "else:\n",
    "    print('고도비만')"
   ]
  },
  {
   "cell_type": "code",
   "execution_count": 26,
   "metadata": {},
   "outputs": [
    {
     "name": "stdout",
     "output_type": "stream",
     "text": [
      "나무를 1번 찍었습니다.\n",
      "나무를 2번 찍었습니다.\n",
      "나무를 3번 찍었습니다.\n",
      "나무를 4번 찍었습니다.\n",
      "나무를 5번 찍었습니다.\n",
      "나무를 6번 찍었습니다.\n",
      "나무를 7번 찍었습니다.\n",
      "나무를 8번 찍었습니다.\n",
      "나무를 9번 찍었습니다.\n",
      "나무를 10번 찍었습니다.\n",
      "나무가 넘어갔습니다~\n",
      "반복문이 종료 되었습니다.\n"
     ]
    }
   ],
   "source": [
    "# 반복문 while\n",
    "treeHit = 0\n",
    "while treeHit < 10:\n",
    "    treeHit = treeHit + 1\n",
    "    print(f'나무를 {treeHit}번 찍었습니다.')\n",
    "    if treeHit == 10:\n",
    "        print('나무가 넘어갔습니다~')\n",
    "print('반복문이 종료 되었습니다.')"
   ]
  },
  {
   "cell_type": "code",
   "execution_count": 27,
   "metadata": {},
   "outputs": [
    {
     "name": "stdout",
     "output_type": "stream",
     "text": [
      "돈을 받았으니 커피를 줍니다.\n",
      "남은 커피의 양은 9개 입니다.\n",
      "돈을 받았으니 커피를 줍니다.\n",
      "남은 커피의 양은 8개 입니다.\n",
      "돈을 받았으니 커피를 줍니다.\n",
      "남은 커피의 양은 7개 입니다.\n",
      "돈을 받았으니 커피를 줍니다.\n",
      "남은 커피의 양은 6개 입니다.\n",
      "돈을 받았으니 커피를 줍니다.\n",
      "남은 커피의 양은 5개 입니다.\n",
      "돈을 받았으니 커피를 줍니다.\n",
      "남은 커피의 양은 4개 입니다.\n",
      "돈을 받았으니 커피를 줍니다.\n",
      "남은 커피의 양은 3개 입니다.\n",
      "돈을 받았으니 커피를 줍니다.\n",
      "남은 커피의 양은 2개 입니다.\n",
      "돈을 받았으니 커피를 줍니다.\n",
      "남은 커피의 양은 1개 입니다.\n",
      "돈을 받았으니 커피를 줍니다.\n",
      "남은 커피의 양은 0개 입니다.\n"
     ]
    }
   ],
   "source": [
    "# 반복문 while break 사용\n",
    "coffee = 10\n",
    "money = 500\n",
    "\n",
    "while money: # money 가 있으면\n",
    "    print('돈을 받았으니 커피를 줍니다.')\n",
    "    coffee = coffee - 1\n",
    "    print(f'남은 커피의 양은 {coffee}개 입니다.')\n",
    "    if not coffee: # coffee 가 false\n",
    "        break"
   ]
  },
  {
   "cell_type": "code",
   "execution_count": 28,
   "metadata": {},
   "outputs": [
    {
     "name": "stdout",
     "output_type": "stream",
     "text": [
      "1\n",
      "3\n",
      "5\n",
      "7\n",
      "9\n"
     ]
    }
   ],
   "source": [
    "# 반복문 continue\n",
    "a = 0\n",
    "while a < 10:\n",
    "    a =  a + 1\n",
    "    if a % 2 == 0: # 짝수이면 continue\n",
    "        continue\n",
    "    print(a)"
   ]
  },
  {
   "cell_type": "code",
   "execution_count": 30,
   "metadata": {},
   "outputs": [
    {
     "name": "stdout",
     "output_type": "stream",
     "text": [
      "0\n",
      "1\n",
      "3\n",
      "6\n",
      "10\n",
      "15\n",
      "21\n",
      "28\n",
      "36\n",
      "45\n",
      "55\n"
     ]
    }
   ],
   "source": [
    "# 반복문 for\n",
    "result = 0\n",
    "for i in range(1, 11): # 1 ~ 10(11미만)\n",
    "    result = result + i\n",
    "    print(result)"
   ]
  },
  {
   "cell_type": "code",
   "execution_count": 32,
   "metadata": {},
   "outputs": [
    {
     "name": "stdout",
     "output_type": "stream",
     "text": [
      "3\n"
     ]
    }
   ],
   "source": [
    "# 반복문 for 리스트\n",
    "score_list = [90, 25, 67, 45, 80]\n",
    "cut_line = 60\n",
    "pass_count = 0\n",
    "for score in score_list: \n",
    "    if score > cut_line: # 컷트라인 조건문\n",
    "        pass_count += 1\n",
    "print(pass_count)"
   ]
  },
  {
   "cell_type": "code",
   "execution_count": 34,
   "metadata": {},
   "outputs": [
    {
     "name": "stdout",
     "output_type": "stream",
     "text": [
      "90점축하합니다.\n",
      "67점축하합니다.\n",
      "80점축하합니다.\n"
     ]
    }
   ],
   "source": [
    "# 60점 이상인 경우 축하메세지를 보낸다.\n",
    "score_list = [90, 25, 67, 45, 80]\n",
    "cut_list = 60\n",
    "\n",
    "for score in score_list:\n",
    "    if score > cut_line:\n",
    "        print(f'{score}점축하합니다.')\n",
    "        "
   ]
  },
  {
   "cell_type": "code",
   "execution_count": 33,
   "metadata": {},
   "outputs": [
    {
     "name": "stdout",
     "output_type": "stream",
     "text": [
      "90점축하합니다.\n",
      "67점축하합니다.\n",
      "80점축하합니다.\n"
     ]
    }
   ],
   "source": [
    "# 60점 이상인 경우 축하메세지를 보낸다. continue 사용\n",
    "score_list = [90, 25, 67, 45, 80]\n",
    "cut_list = 60\n",
    "\n",
    "for score in score_list:\n",
    "    if score <= cut_line:\n",
    "        continue\n",
    "    print(f'{score}점축하합니다.')\n",
    "        "
   ]
  },
  {
   "cell_type": "code",
   "execution_count": 35,
   "metadata": {},
   "outputs": [
    {
     "name": "stdout",
     "output_type": "stream",
     "text": [
      "1 4\n",
      "1 5\n",
      "1 6\n",
      "2 4\n",
      "2 5\n",
      "2 6\n",
      "3 4\n",
      "3 5\n",
      "3 6\n"
     ]
    }
   ],
   "source": [
    "# 이중포문\n",
    "list1 = [1,2,3]\n",
    "list2 = [4,5,6]\n",
    "for num1 in list1:\n",
    "    for num2 in list2:\n",
    "        print(num1, num2)"
   ]
  },
  {
   "cell_type": "code",
   "execution_count": 37,
   "metadata": {},
   "outputs": [
    {
     "name": "stdout",
     "output_type": "stream",
     "text": [
      "2 * 1 = 2\n",
      "2 * 2 = 4\n",
      "2 * 3 = 6\n",
      "2 * 4 = 8\n",
      "2 * 5 = 10\n",
      "2 * 6 = 12\n",
      "2 * 7 = 14\n",
      "2 * 8 = 16\n",
      "2 * 9 = 18\n",
      "3 * 1 = 3\n",
      "3 * 2 = 6\n",
      "3 * 3 = 9\n",
      "3 * 4 = 12\n",
      "3 * 5 = 15\n",
      "3 * 6 = 18\n",
      "3 * 7 = 21\n",
      "3 * 8 = 24\n",
      "3 * 9 = 27\n",
      "4 * 1 = 4\n",
      "4 * 2 = 8\n",
      "4 * 3 = 12\n",
      "4 * 4 = 16\n",
      "4 * 5 = 20\n",
      "4 * 6 = 24\n",
      "4 * 7 = 28\n",
      "4 * 8 = 32\n",
      "4 * 9 = 36\n",
      "5 * 1 = 5\n",
      "5 * 2 = 10\n",
      "5 * 3 = 15\n",
      "5 * 4 = 20\n",
      "5 * 5 = 25\n",
      "5 * 6 = 30\n",
      "5 * 7 = 35\n",
      "5 * 8 = 40\n",
      "5 * 9 = 45\n",
      "6 * 1 = 6\n",
      "6 * 2 = 12\n",
      "6 * 3 = 18\n",
      "6 * 4 = 24\n",
      "6 * 5 = 30\n",
      "6 * 6 = 36\n",
      "6 * 7 = 42\n",
      "6 * 8 = 48\n",
      "6 * 9 = 54\n",
      "7 * 1 = 7\n",
      "7 * 2 = 14\n",
      "7 * 3 = 21\n",
      "7 * 4 = 28\n",
      "7 * 5 = 35\n",
      "7 * 6 = 42\n",
      "7 * 7 = 49\n",
      "7 * 8 = 56\n",
      "7 * 9 = 63\n",
      "8 * 1 = 8\n",
      "8 * 2 = 16\n",
      "8 * 3 = 24\n",
      "8 * 4 = 32\n",
      "8 * 5 = 40\n",
      "8 * 6 = 48\n",
      "8 * 7 = 56\n",
      "8 * 8 = 64\n",
      "8 * 9 = 72\n",
      "9 * 1 = 9\n",
      "9 * 2 = 18\n",
      "9 * 3 = 27\n",
      "9 * 4 = 36\n",
      "9 * 5 = 45\n",
      "9 * 6 = 54\n",
      "9 * 7 = 63\n",
      "9 * 8 = 72\n",
      "9 * 9 = 81\n"
     ]
    }
   ],
   "source": [
    "# 구구단\n",
    "for num1 in range(2,10):\n",
    "    for num2 in range(1,10):\n",
    "        print(f'{num1} * {num2} = {num1 * num2}')"
   ]
  },
  {
   "cell_type": "code",
   "execution_count": 41,
   "metadata": {},
   "outputs": [
    {
     "data": {
      "text/plain": [
       "[1, 2, 3, 4, 5, 6, 7, 8, 9, 10]"
      ]
     },
     "execution_count": 41,
     "metadata": {},
     "output_type": "execute_result"
    }
   ],
   "source": [
    "# List comprehension\n",
    "# 1~10 리스트 생성 방법\n",
    "[num for num in range(1,11)]"
   ]
  },
  {
   "cell_type": "code",
   "execution_count": 42,
   "metadata": {},
   "outputs": [
    {
     "data": {
      "text/plain": [
       "[20, 40, 60, 80, 100]"
      ]
     },
     "execution_count": 42,
     "metadata": {},
     "output_type": "execute_result"
    }
   ],
   "source": [
    "# List comprehension\n",
    "\n",
    "[num * 10 for num in range(1,11) if num % 2 ==0 ]\n",
    "# 1~10 중 짝수만 10을 곱하여 리스트에 저장"
   ]
  },
  {
   "cell_type": "code",
   "execution_count": 65,
   "metadata": {},
   "outputs": [
    {
     "name": "stdout",
     "output_type": "stream",
     "text": [
      "부서의 평균 월 매출 : 5760\n",
      "부서의 평균 월 매출 : 5760.0\n"
     ]
    }
   ],
   "source": [
    "# 2-4. A 부서의 월 매출이 아래와 같을 때, For문을 이용하여, A 부서의 평균 월 매출 계산\n",
    "# (* 리스트와 For문을 이용해서 계산 / 1월 : 5500 / 2월 : 5300 / 3월 : 6700 / 4월 : 5500 / 5월 : 5800)\n",
    "\n",
    "sales = [5500, 5300, 6700, 5500, 5800]\n",
    "total = 0\n",
    "for sale in sales:\n",
    "    total += sale\n",
    "print(f'부서의 평균 월 매출 : {int(total/len(sales))}')\n",
    "\n",
    "# 현실 코딩\n",
    "print(f'부서의 평균 월 매출 : {sum(sales)/len(sales)}')"
   ]
  },
  {
   "cell_type": "code",
   "execution_count": 56,
   "metadata": {},
   "outputs": [
    {
     "name": "stdout",
     "output_type": "stream",
     "text": [
      "*\n",
      "**\n",
      "***\n",
      "****\n",
      "*****\n",
      "\n",
      "*\n",
      "**\n",
      "***\n",
      "****\n"
     ]
    }
   ],
   "source": [
    "# 2-5. For 반복문을 중첩하여, 아래와 같이 * 기호를 피라미드로 출력하는 프로그램 제작\n",
    "# (참고로 print('*', end='')와 같이 print 함수를 사용하면 줄 바꿈 없이 화면에 출력할 수 있습니다.)\n",
    "# 결과 :\n",
    "for i in range(5):\n",
    "    for j in range(5):\n",
    "        if i >= j:\n",
    "            print('*', end='')\n",
    "    print('')\n",
    "\n",
    "# 강사님 의도\n",
    "for i in range(5):\n",
    "    print('*' * i)"
   ]
  },
  {
   "cell_type": "code",
   "execution_count": 55,
   "metadata": {},
   "outputs": [
    {
     "name": "stdout",
     "output_type": "stream",
     "text": [
      "4 * 1 = 4\n",
      "4 * 2 = 8\n",
      "4 * 3 = 12\n",
      "4 * 4 = 16\n",
      "4 * 5 = 20\n",
      "4 * 6 = 24\n",
      "4 * 7 = 28\n",
      "4 * 8 = 32\n",
      "4 * 9 = 36\n"
     ]
    }
   ],
   "source": [
    "# 2-6. 정수를 입력 받아 해당 수의 구구단을 출력하는 프로그램 만들기\n",
    "dan = int(input('구구단 출력) 정수를 입력하시오 : '))\n",
    "for i in range(1,10):\n",
    "    print(f'{dan} * {i} = {dan * i}')\n",
    "\n"
   ]
  },
  {
   "cell_type": "code",
   "execution_count": 64,
   "metadata": {},
   "outputs": [
    {
     "name": "stdout",
     "output_type": "stream",
     "text": [
      "[3, 5]\n"
     ]
    }
   ],
   "source": [
    "# 2-7. For문과 If문을 이용하여, 정수를 입력 받아 정수의 약수를 구하는 프로그램 제작\n",
    "# 예) 입력 : 15 / 결과 : 1,3,5,15\n",
    "#약수는 1과 자신을 제외하여 나눈 나머지 값이 0인 것\n",
    "\n",
    "num = int(input('약수 구하기 : '))\n",
    "result = []\n",
    "for i in range(1,num):\n",
    "    if i == 1 or i == num:\n",
    "        pass\n",
    "    elif (num % i) == 0:\n",
    "        result.append(i)\n",
    "print(result)\n",
    "    \n",
    "        "
   ]
  },
  {
   "cell_type": "code",
   "execution_count": null,
   "metadata": {},
   "outputs": [],
   "source": [
    "# (과제) 2-8. For문과 If문을 이용하여, 아래의 리스트의 최댓값을 구하는 프로그램 제작\n",
    "# list = [1,24,3,44,1000,2,0,74] / 결과 : 1000\n"
   ]
  },
  {
   "cell_type": "markdown",
   "metadata": {},
   "source": [
    "# 파일 입출력"
   ]
  },
  {
   "cell_type": "code",
   "execution_count": 66,
   "metadata": {},
   "outputs": [
    {
     "name": "stdout",
     "output_type": "stream",
     "text": [
      "뉴진스\n",
      "뉴진스\n",
      "뉴 진 스\n"
     ]
    }
   ],
   "source": [
    "# 파일 입출력\n",
    "print('뉴' '진' '스')\n",
    "print('뉴' + '진' + '스')\n",
    "print('뉴', '진', '스')"
   ]
  },
  {
   "cell_type": "code",
   "execution_count": 68,
   "metadata": {},
   "outputs": [
    {
     "name": "stdout",
     "output_type": "stream",
     "text": [
      "1 2 3 4 5 6 7 8 9 "
     ]
    }
   ],
   "source": [
    "for i in range(1,10):\n",
    "    print(i, end = ' ')"
   ]
  },
  {
   "cell_type": "markdown",
   "metadata": {},
   "source": [
    "# TXT 파일 다루기"
   ]
  },
  {
   "cell_type": "code",
   "execution_count": 69,
   "metadata": {},
   "outputs": [],
   "source": [
    "# 파일 생성하기\n",
    "f = open('text_file1.txt', 'w') # mode = [r, w, a]\n",
    "f.close()"
   ]
  },
  {
   "cell_type": "code",
   "execution_count": 77,
   "metadata": {},
   "outputs": [],
   "source": [
    "# 파일 생성 후 값 작성하기\n",
    "f = open('text_file2.txt', 'w')\n",
    "for i in range(1,11):\n",
    "    f.write(f'{i}번째 줄입니다.\\n')\n",
    "f.close()\n",
    "# 첫 행에 출력된다. \\n으로 개행 문자를 사용한다."
   ]
  },
  {
   "cell_type": "code",
   "execution_count": 78,
   "metadata": {},
   "outputs": [],
   "source": [
    "# 파일 열어서 값 추가하기\n",
    "f = open('text_file2.txt', 'a')\n",
    "for i in range(11,20):\n",
    "    f.write(f'{i}번째 줄입니다.\\n')\n",
    "f.close()"
   ]
  },
  {
   "cell_type": "code",
   "execution_count": 80,
   "metadata": {},
   "outputs": [
    {
     "name": "stdout",
     "output_type": "stream",
     "text": [
      "1번째 줄입니다.\n",
      "\n"
     ]
    }
   ],
   "source": [
    "# 파일 읽기(readline) : 한줄 출력\n",
    "f = open('text_file2.txt', 'r')\n",
    "line = f.readline()\n",
    "print(line)\n",
    "f.close()"
   ]
  },
  {
   "cell_type": "code",
   "execution_count": 82,
   "metadata": {},
   "outputs": [
    {
     "name": "stdout",
     "output_type": "stream",
     "text": [
      "1번째 줄입니다.\n",
      "2번째 줄입니다.\n",
      "3번째 줄입니다.\n",
      "4번째 줄입니다.\n",
      "5번째 줄입니다.\n",
      "6번째 줄입니다.\n",
      "7번째 줄입니다.\n",
      "8번째 줄입니다.\n",
      "9번째 줄입니다.\n",
      "10번째 줄입니다.\n",
      "11번째 줄입니다.\n",
      "12번째 줄입니다.\n",
      "13번째 줄입니다.\n",
      "14번째 줄입니다.\n",
      "15번째 줄입니다.\n",
      "16번째 줄입니다.\n",
      "17번째 줄입니다.\n",
      "18번째 줄입니다.\n",
      "19번째 줄입니다.\n"
     ]
    }
   ],
   "source": [
    "# 파일 읽기 : 여려줄 출력 + 반복문 활용\n",
    "f = open('text_file2.txt', 'r')\n",
    "while True: # 몇줄인지 모르니 while 사용\n",
    "    line = f.readline()\n",
    "    if not line:\n",
    "        break\n",
    "    print(line, end='')\n",
    "f.close()"
   ]
  },
  {
   "cell_type": "markdown",
   "metadata": {},
   "source": [
    "# 0905 과제"
   ]
  },
  {
   "cell_type": "code",
   "execution_count": 4,
   "metadata": {},
   "outputs": [
    {
     "name": "stdout",
     "output_type": "stream",
     "text": [
      "잔돈 4850원 : 500원 9개 100원 3개 50원 1개 10원 0개 "
     ]
    }
   ],
   "source": [
    "# 1-9. 금액을 입력했을 때, 상품 가격에 따른 잔돈을 반환하는 자판기 프로그램 만들기\n",
    "# * 금액과 상품가격은 input함수로 선언\n",
    "# * 잔돈은 500,100,50,10원 단위로 반환\n",
    "# * 잔돈은 가장 큰 금액부터 반환\n",
    "# 예) 잔돈 760원 : 500원1개, 100원2개, 50원 1개, 10원 1개\n",
    "\n",
    "money = int(input('1-9 소지 금액을 입력하시오 : '))\n",
    "cost = int(input('상품 가격을 입력하시오 : '))\n",
    "change = money - cost\n",
    "coins = {500 : 0, 100 : 0, 50 : 0, 10 : 0}\n",
    "\n",
    "print(f'잔돈 {change}원 : ', end='')\n",
    "for coin in coins.keys():\n",
    "    coins[coin] = change // coin # 몫\n",
    "    change %= coin # change -= coins[coin] * coin # 나머지\n",
    "    print(f'{coin}원 {coins[coin]}개 ',end='')\n",
    "\n",
    "    "
   ]
  },
  {
   "cell_type": "code",
   "execution_count": 105,
   "metadata": {},
   "outputs": [
    {
     "name": "stdout",
     "output_type": "stream",
     "text": [
      "5 * 1 = 5\n",
      "5 * 2 = 10\n",
      "5 * 3 = 15\n",
      "5 * 4 = 20\n",
      "5 * 5 = 25\n",
      "5 * 6 = 30\n",
      "5 * 7 = 35\n",
      "5 * 8 = 40\n",
      "5 * 9 = 45\n"
     ]
    }
   ],
   "source": [
    "# 2-6. 정수를 입력 받아 해당 수의 구구단을 출력하는 프로그램 만들기\n",
    "dan = int(input('2-6 구구단을 입력하시오 : '))\n",
    "for i in range(1,10):\n",
    "    print(f'{dan} * {i} = {dan * i}')"
   ]
  },
  {
   "cell_type": "code",
   "execution_count": 109,
   "metadata": {},
   "outputs": [
    {
     "name": "stdout",
     "output_type": "stream",
     "text": [
      "결과 : 1000\n"
     ]
    }
   ],
   "source": [
    "# 2-8. 8. For문과 If문을 이용하여, 아래의 리스트의 최댓값을 구하는 프로그램 제작\n",
    "# list = [1,24,3,44,1000,2,0,74] / 결과 : 1000\n",
    "\n",
    "list = [1,24,3,44,1000,2,0,74]\n",
    "max = list[0]\n",
    "for i in list:\n",
    "    if max < i:\n",
    "        max = i\n",
    "print(f'결과 : {max}')"
   ]
  }
 ],
 "metadata": {
  "kernelspec": {
   "display_name": "venv",
   "language": "python",
   "name": "python3"
  },
  "language_info": {
   "codemirror_mode": {
    "name": "ipython",
    "version": 3
   },
   "file_extension": ".py",
   "mimetype": "text/x-python",
   "name": "python",
   "nbconvert_exporter": "python",
   "pygments_lexer": "ipython3",
   "version": "3.11.4"
  },
  "orig_nbformat": 4
 },
 "nbformat": 4,
 "nbformat_minor": 2
}
